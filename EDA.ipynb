{
  "cells": [
    {
      "cell_type": "markdown",
      "source": [
        "# **EDA Preliminar de los datasets de Google Maps**"
      ],
      "metadata": {
        "id": "3qSGxbuIE2bg"
      }
    },
    {
      "cell_type": "markdown",
      "source": [
        "### Bienvenidos al proceso de EDA preliminar. En este analizaremos distintas muestras de los datasets disponiples con la finalidad de comprender que tipos de datos podemos obtener de ellos para realizar el proyecto, vizualizar las diferentes falencias tales como datos duplicados, faltantes, extremos; comprender las relaciones entre ellos, elegir aquellos que pueden ser métricas relevantes para nuestros KPIs. Sugerir fuentes de datos complementarios en caso de considerarlos necesarios. Y finalmente, definir el formato en el cual requerimos que se disponibilice la información."
      ],
      "metadata": {
        "id": "HETJaGggE5FQ"
      }
    },
    {
      "cell_type": "code",
      "execution_count": null,
      "metadata": {
        "id": "NcoAE167X2CG"
      },
      "outputs": [],
      "source": [
        "import numpy as np\n",
        "import pandas as pd\n",
        "import seaborn as sns\n",
        "import matplotlib.pyplot as plt"
      ]
    },
    {
      "cell_type": "markdown",
      "metadata": {
        "id": "wdSM2X5jX2CK"
      },
      "source": [
        "## Datos Extras: Cantidad de población por Estado\n",
        "\n",
        "---\n",
        "\n"
      ]
    },
    {
      "cell_type": "markdown",
      "metadata": {
        "id": "_jyxmJNlX2CM"
      },
      "source": [
        "Utilizaremos un dataset descargado desde el siguiente link: https://datosmacro.expansion.com/demografia/poblacion/usa-estados para tener una visualización rapida de la densidad y poblacion de cada estado de Estados Unidos\n",
        "\n",
        "Una vez obtenida la información tomaremos el top 5 de estados con mayor población para filtrar los datasets por estos 5 estados."
      ]
    },
    {
      "cell_type": "code",
      "execution_count": null,
      "metadata": {
        "id": "SQ0dRUp5X2CM",
        "outputId": "e3c79f85-6542-49f4-c547-7715a08596d2",
        "colab": {
          "base_uri": "https://localhost:8080/",
          "height": 206
        }
      },
      "outputs": [
        {
          "output_type": "execute_result",
          "data": {
            "text/plain": [
              "      Estados  Densidad  Poblacion\n",
              "0      Alaska         0     732673\n",
              "1     Alabama        37    5039877\n",
              "2    Arkansas        22    3025891\n",
              "3     Arizona        25    7276316\n",
              "4  California        93   39237836"
            ],
            "text/html": [
              "\n",
              "  <div id=\"df-73756839-75c3-49ca-b302-ce4babb74191\">\n",
              "    <div class=\"colab-df-container\">\n",
              "      <div>\n",
              "<style scoped>\n",
              "    .dataframe tbody tr th:only-of-type {\n",
              "        vertical-align: middle;\n",
              "    }\n",
              "\n",
              "    .dataframe tbody tr th {\n",
              "        vertical-align: top;\n",
              "    }\n",
              "\n",
              "    .dataframe thead th {\n",
              "        text-align: right;\n",
              "    }\n",
              "</style>\n",
              "<table border=\"1\" class=\"dataframe\">\n",
              "  <thead>\n",
              "    <tr style=\"text-align: right;\">\n",
              "      <th></th>\n",
              "      <th>Estados</th>\n",
              "      <th>Densidad</th>\n",
              "      <th>Poblacion</th>\n",
              "    </tr>\n",
              "  </thead>\n",
              "  <tbody>\n",
              "    <tr>\n",
              "      <th>0</th>\n",
              "      <td>Alaska</td>\n",
              "      <td>0</td>\n",
              "      <td>732673</td>\n",
              "    </tr>\n",
              "    <tr>\n",
              "      <th>1</th>\n",
              "      <td>Alabama</td>\n",
              "      <td>37</td>\n",
              "      <td>5039877</td>\n",
              "    </tr>\n",
              "    <tr>\n",
              "      <th>2</th>\n",
              "      <td>Arkansas</td>\n",
              "      <td>22</td>\n",
              "      <td>3025891</td>\n",
              "    </tr>\n",
              "    <tr>\n",
              "      <th>3</th>\n",
              "      <td>Arizona</td>\n",
              "      <td>25</td>\n",
              "      <td>7276316</td>\n",
              "    </tr>\n",
              "    <tr>\n",
              "      <th>4</th>\n",
              "      <td>California</td>\n",
              "      <td>93</td>\n",
              "      <td>39237836</td>\n",
              "    </tr>\n",
              "  </tbody>\n",
              "</table>\n",
              "</div>\n",
              "      <button class=\"colab-df-convert\" onclick=\"convertToInteractive('df-73756839-75c3-49ca-b302-ce4babb74191')\"\n",
              "              title=\"Convert this dataframe to an interactive table.\"\n",
              "              style=\"display:none;\">\n",
              "        \n",
              "  <svg xmlns=\"http://www.w3.org/2000/svg\" height=\"24px\"viewBox=\"0 0 24 24\"\n",
              "       width=\"24px\">\n",
              "    <path d=\"M0 0h24v24H0V0z\" fill=\"none\"/>\n",
              "    <path d=\"M18.56 5.44l.94 2.06.94-2.06 2.06-.94-2.06-.94-.94-2.06-.94 2.06-2.06.94zm-11 1L8.5 8.5l.94-2.06 2.06-.94-2.06-.94L8.5 2.5l-.94 2.06-2.06.94zm10 10l.94 2.06.94-2.06 2.06-.94-2.06-.94-.94-2.06-.94 2.06-2.06.94z\"/><path d=\"M17.41 7.96l-1.37-1.37c-.4-.4-.92-.59-1.43-.59-.52 0-1.04.2-1.43.59L10.3 9.45l-7.72 7.72c-.78.78-.78 2.05 0 2.83L4 21.41c.39.39.9.59 1.41.59.51 0 1.02-.2 1.41-.59l7.78-7.78 2.81-2.81c.8-.78.8-2.07 0-2.86zM5.41 20L4 18.59l7.72-7.72 1.47 1.35L5.41 20z\"/>\n",
              "  </svg>\n",
              "      </button>\n",
              "      \n",
              "  <style>\n",
              "    .colab-df-container {\n",
              "      display:flex;\n",
              "      flex-wrap:wrap;\n",
              "      gap: 12px;\n",
              "    }\n",
              "\n",
              "    .colab-df-convert {\n",
              "      background-color: #E8F0FE;\n",
              "      border: none;\n",
              "      border-radius: 50%;\n",
              "      cursor: pointer;\n",
              "      display: none;\n",
              "      fill: #1967D2;\n",
              "      height: 32px;\n",
              "      padding: 0 0 0 0;\n",
              "      width: 32px;\n",
              "    }\n",
              "\n",
              "    .colab-df-convert:hover {\n",
              "      background-color: #E2EBFA;\n",
              "      box-shadow: 0px 1px 2px rgba(60, 64, 67, 0.3), 0px 1px 3px 1px rgba(60, 64, 67, 0.15);\n",
              "      fill: #174EA6;\n",
              "    }\n",
              "\n",
              "    [theme=dark] .colab-df-convert {\n",
              "      background-color: #3B4455;\n",
              "      fill: #D2E3FC;\n",
              "    }\n",
              "\n",
              "    [theme=dark] .colab-df-convert:hover {\n",
              "      background-color: #434B5C;\n",
              "      box-shadow: 0px 1px 3px 1px rgba(0, 0, 0, 0.15);\n",
              "      filter: drop-shadow(0px 1px 2px rgba(0, 0, 0, 0.3));\n",
              "      fill: #FFFFFF;\n",
              "    }\n",
              "  </style>\n",
              "\n",
              "      <script>\n",
              "        const buttonEl =\n",
              "          document.querySelector('#df-73756839-75c3-49ca-b302-ce4babb74191 button.colab-df-convert');\n",
              "        buttonEl.style.display =\n",
              "          google.colab.kernel.accessAllowed ? 'block' : 'none';\n",
              "\n",
              "        async function convertToInteractive(key) {\n",
              "          const element = document.querySelector('#df-73756839-75c3-49ca-b302-ce4babb74191');\n",
              "          const dataTable =\n",
              "            await google.colab.kernel.invokeFunction('convertToInteractive',\n",
              "                                                     [key], {});\n",
              "          if (!dataTable) return;\n",
              "\n",
              "          const docLinkHtml = 'Like what you see? Visit the ' +\n",
              "            '<a target=\"_blank\" href=https://colab.research.google.com/notebooks/data_table.ipynb>data table notebook</a>'\n",
              "            + ' to learn more about interactive tables.';\n",
              "          element.innerHTML = '';\n",
              "          dataTable['output_type'] = 'display_data';\n",
              "          await google.colab.output.renderOutput(dataTable, element);\n",
              "          const docLink = document.createElement('div');\n",
              "          docLink.innerHTML = docLinkHtml;\n",
              "          element.appendChild(docLink);\n",
              "        }\n",
              "      </script>\n",
              "    </div>\n",
              "  </div>\n",
              "  "
            ]
          },
          "metadata": {},
          "execution_count": 3
        }
      ],
      "source": [
        "'''Descargamos un dataset con la densidad y población de los estados de Estados Unidos en 2021'''\n",
        "\n",
        "# Abrimos el dataset\n",
        "densidad = pd.read_csv(\"datasets/DensidadPobl.csv\", sep=';', encoding='Latin1', thousands='.')\n",
        "\n",
        "densidad.head()"
      ]
    },
    {
      "cell_type": "code",
      "execution_count": null,
      "metadata": {
        "id": "GDmkIwg5X2CN",
        "outputId": "b9536922-518f-4c6a-d194-38c5f83f5ee9",
        "colab": {
          "base_uri": "https://localhost:8080/"
        }
      },
      "outputs": [
        {
          "output_type": "execute_result",
          "data": {
            "text/plain": [
              "Estados      0\n",
              "Densidad     0\n",
              "Poblacion    0\n",
              "dtype: int64"
            ]
          },
          "metadata": {},
          "execution_count": 4
        }
      ],
      "source": [
        "# Verificamos cuantos nulos hay\n",
        "densidad.isnull().sum()"
      ]
    },
    {
      "cell_type": "code",
      "execution_count": null,
      "metadata": {
        "id": "Nrmp2KB3X2CN",
        "outputId": "588874fc-84c4-4a8c-bac7-e0cfc9631baa",
        "colab": {
          "base_uri": "https://localhost:8080/"
        }
      },
      "outputs": [
        {
          "output_type": "execute_result",
          "data": {
            "text/plain": [
              "0"
            ]
          },
          "metadata": {},
          "execution_count": 5
        }
      ],
      "source": [
        "# Verificamos la cantidad de datos duplicados\n",
        "densidad.duplicated().sum()"
      ]
    },
    {
      "cell_type": "code",
      "execution_count": null,
      "metadata": {
        "id": "ZYQdw08yX2CO"
      },
      "outputs": [],
      "source": [
        "densidad = densidad.sort_values('Poblacion', ascending=False)"
      ]
    },
    {
      "cell_type": "code",
      "execution_count": null,
      "metadata": {
        "id": "puR_X7-YX2CO",
        "outputId": "49698c1b-0d98-4ff5-b506-0e68d2873282",
        "colab": {
          "base_uri": "https://localhost:8080/",
          "height": 206
        }
      },
      "outputs": [
        {
          "output_type": "execute_result",
          "data": {
            "text/plain": [
              "        Estados  Densidad  Poblacion\n",
              "4    California        93   39237836\n",
              "42        Texas        42   29527941\n",
              "8       Florida       128   21781128\n",
              "33   Nueva York       140   19835913\n",
              "37  Pensilvania       109   12964056"
            ],
            "text/html": [
              "\n",
              "  <div id=\"df-25608c01-7c24-44ec-a458-e662c140a720\">\n",
              "    <div class=\"colab-df-container\">\n",
              "      <div>\n",
              "<style scoped>\n",
              "    .dataframe tbody tr th:only-of-type {\n",
              "        vertical-align: middle;\n",
              "    }\n",
              "\n",
              "    .dataframe tbody tr th {\n",
              "        vertical-align: top;\n",
              "    }\n",
              "\n",
              "    .dataframe thead th {\n",
              "        text-align: right;\n",
              "    }\n",
              "</style>\n",
              "<table border=\"1\" class=\"dataframe\">\n",
              "  <thead>\n",
              "    <tr style=\"text-align: right;\">\n",
              "      <th></th>\n",
              "      <th>Estados</th>\n",
              "      <th>Densidad</th>\n",
              "      <th>Poblacion</th>\n",
              "    </tr>\n",
              "  </thead>\n",
              "  <tbody>\n",
              "    <tr>\n",
              "      <th>4</th>\n",
              "      <td>California</td>\n",
              "      <td>93</td>\n",
              "      <td>39237836</td>\n",
              "    </tr>\n",
              "    <tr>\n",
              "      <th>42</th>\n",
              "      <td>Texas</td>\n",
              "      <td>42</td>\n",
              "      <td>29527941</td>\n",
              "    </tr>\n",
              "    <tr>\n",
              "      <th>8</th>\n",
              "      <td>Florida</td>\n",
              "      <td>128</td>\n",
              "      <td>21781128</td>\n",
              "    </tr>\n",
              "    <tr>\n",
              "      <th>33</th>\n",
              "      <td>Nueva York</td>\n",
              "      <td>140</td>\n",
              "      <td>19835913</td>\n",
              "    </tr>\n",
              "    <tr>\n",
              "      <th>37</th>\n",
              "      <td>Pensilvania</td>\n",
              "      <td>109</td>\n",
              "      <td>12964056</td>\n",
              "    </tr>\n",
              "  </tbody>\n",
              "</table>\n",
              "</div>\n",
              "      <button class=\"colab-df-convert\" onclick=\"convertToInteractive('df-25608c01-7c24-44ec-a458-e662c140a720')\"\n",
              "              title=\"Convert this dataframe to an interactive table.\"\n",
              "              style=\"display:none;\">\n",
              "        \n",
              "  <svg xmlns=\"http://www.w3.org/2000/svg\" height=\"24px\"viewBox=\"0 0 24 24\"\n",
              "       width=\"24px\">\n",
              "    <path d=\"M0 0h24v24H0V0z\" fill=\"none\"/>\n",
              "    <path d=\"M18.56 5.44l.94 2.06.94-2.06 2.06-.94-2.06-.94-.94-2.06-.94 2.06-2.06.94zm-11 1L8.5 8.5l.94-2.06 2.06-.94-2.06-.94L8.5 2.5l-.94 2.06-2.06.94zm10 10l.94 2.06.94-2.06 2.06-.94-2.06-.94-.94-2.06-.94 2.06-2.06.94z\"/><path d=\"M17.41 7.96l-1.37-1.37c-.4-.4-.92-.59-1.43-.59-.52 0-1.04.2-1.43.59L10.3 9.45l-7.72 7.72c-.78.78-.78 2.05 0 2.83L4 21.41c.39.39.9.59 1.41.59.51 0 1.02-.2 1.41-.59l7.78-7.78 2.81-2.81c.8-.78.8-2.07 0-2.86zM5.41 20L4 18.59l7.72-7.72 1.47 1.35L5.41 20z\"/>\n",
              "  </svg>\n",
              "      </button>\n",
              "      \n",
              "  <style>\n",
              "    .colab-df-container {\n",
              "      display:flex;\n",
              "      flex-wrap:wrap;\n",
              "      gap: 12px;\n",
              "    }\n",
              "\n",
              "    .colab-df-convert {\n",
              "      background-color: #E8F0FE;\n",
              "      border: none;\n",
              "      border-radius: 50%;\n",
              "      cursor: pointer;\n",
              "      display: none;\n",
              "      fill: #1967D2;\n",
              "      height: 32px;\n",
              "      padding: 0 0 0 0;\n",
              "      width: 32px;\n",
              "    }\n",
              "\n",
              "    .colab-df-convert:hover {\n",
              "      background-color: #E2EBFA;\n",
              "      box-shadow: 0px 1px 2px rgba(60, 64, 67, 0.3), 0px 1px 3px 1px rgba(60, 64, 67, 0.15);\n",
              "      fill: #174EA6;\n",
              "    }\n",
              "\n",
              "    [theme=dark] .colab-df-convert {\n",
              "      background-color: #3B4455;\n",
              "      fill: #D2E3FC;\n",
              "    }\n",
              "\n",
              "    [theme=dark] .colab-df-convert:hover {\n",
              "      background-color: #434B5C;\n",
              "      box-shadow: 0px 1px 3px 1px rgba(0, 0, 0, 0.15);\n",
              "      filter: drop-shadow(0px 1px 2px rgba(0, 0, 0, 0.3));\n",
              "      fill: #FFFFFF;\n",
              "    }\n",
              "  </style>\n",
              "\n",
              "      <script>\n",
              "        const buttonEl =\n",
              "          document.querySelector('#df-25608c01-7c24-44ec-a458-e662c140a720 button.colab-df-convert');\n",
              "        buttonEl.style.display =\n",
              "          google.colab.kernel.accessAllowed ? 'block' : 'none';\n",
              "\n",
              "        async function convertToInteractive(key) {\n",
              "          const element = document.querySelector('#df-25608c01-7c24-44ec-a458-e662c140a720');\n",
              "          const dataTable =\n",
              "            await google.colab.kernel.invokeFunction('convertToInteractive',\n",
              "                                                     [key], {});\n",
              "          if (!dataTable) return;\n",
              "\n",
              "          const docLinkHtml = 'Like what you see? Visit the ' +\n",
              "            '<a target=\"_blank\" href=https://colab.research.google.com/notebooks/data_table.ipynb>data table notebook</a>'\n",
              "            + ' to learn more about interactive tables.';\n",
              "          element.innerHTML = '';\n",
              "          dataTable['output_type'] = 'display_data';\n",
              "          await google.colab.output.renderOutput(dataTable, element);\n",
              "          const docLink = document.createElement('div');\n",
              "          docLink.innerHTML = docLinkHtml;\n",
              "          element.appendChild(docLink);\n",
              "        }\n",
              "      </script>\n",
              "    </div>\n",
              "  </div>\n",
              "  "
            ]
          },
          "metadata": {},
          "execution_count": 7
        }
      ],
      "source": [
        "densidad.head()"
      ]
    },
    {
      "cell_type": "code",
      "execution_count": null,
      "metadata": {
        "id": "lFJklFd5X2CP"
      },
      "outputs": [],
      "source": [
        "top5= densidad.head()"
      ]
    },
    {
      "cell_type": "code",
      "execution_count": null,
      "metadata": {
        "id": "3WPl793PX2CP",
        "outputId": "1bb5d9e3-c162-4734-eeb1-5202a88bb783",
        "colab": {
          "base_uri": "https://localhost:8080/",
          "height": 295
        }
      },
      "outputs": [
        {
          "output_type": "display_data",
          "data": {
            "text/plain": [
              "<Figure size 432x288 with 1 Axes>"
            ],
            "image/png": "[encoded data removed]"
          },
          "metadata": {
            "needs_background": "light"
          }
        }
      ],
      "source": [
        "plt.bar(top5['Estados'], top5['Poblacion'])\n",
        "\n",
        "# Agregar anotaciones con los valores de Densidad\n",
        "for i, v in enumerate(top5['Poblacion']):\n",
        "    plt.text(i, v, str(v), ha='center', va='bottom')\n",
        "\n",
        "# Configurar el título y las etiquetas de los ejes\n",
        "plt.title('Cantidad de Poblacion por Estado')\n",
        "plt.xlabel('Estado')\n",
        "plt.ylabel('Cantidad poblacion')\n",
        "\n",
        "# Mostrar el gráfico\n",
        "plt.show()"
      ]
    },
    {
      "cell_type": "markdown",
      "source": [
        "Como podemos observar en el gráfico anterior, los estados con mayor densidad poblacional son California, Texas, Florida, Nueva York y Pensilvania.\n",
        "\n",
        "Concentraremos nuestro análisis en estos 5."
      ],
      "metadata": {
        "id": "UXbpbgdhIVcf"
      }
    },
    {
      "cell_type": "code",
      "source": [
        "''' Nos conectamos con el bucket donde se almacenan los datasets '''\n",
        "!pip install google.cloud "
      ],
      "metadata": {
        "id": "TSKLh0IQJD7t"
      },
      "execution_count": null,
      "outputs": []
    },
    {
      "cell_type": "code",
      "source": [
        "from google.colab import auth\n",
        "auth.authenticate_user()\n",
        "\n",
        "from google.cloud import storage\n",
        "client = storage.Client(project='concrete-bridge-379920')\n",
        "bucket = client.get_bucket('datasets-pg')"
      ],
      "metadata": {
        "id": "JKu-aGGOJ8vm"
      },
      "execution_count": null,
      "outputs": []
    },
    {
      "cell_type": "markdown",
      "source": [
        "### Abrimos diferentes archivo .json de la carpeta 'reviews-estados' a modo de muestra"
      ],
      "metadata": {
        "id": "pmiZ0wAHmqwd"
      }
    },
    {
      "cell_type": "markdown",
      "source": [
        "# **Estado de California**"
      ],
      "metadata": {
        "id": "mgDQhOJ-4vzJ"
      }
    },
    {
      "cell_type": "code",
      "source": [
        "''' Abrimos el primer archivo .json de las reviews referidas al estado de California '''\n",
        "blob = bucket.blob('Google-Maps/reviews-estados/review-California/1.json')\n",
        "datos_str = blob.download_as_string()\n",
        "reviews_california = pd.read_json(datos_str, lines=True)\n",
        "reviews_california"
      ],
      "metadata": {
        "colab": {
          "base_uri": "https://localhost:8080/",
          "height": 424
        },
        "id": "5a4n_RUBKV8v",
        "outputId": "b3e7eb70-8f5f-49d9-e72a-295e9acedba1"
      },
      "execution_count": null,
      "outputs": [
        {
          "output_type": "execute_result",
          "data": {
            "text/plain": [
              "             user_id                  name           time  rating  \\\n",
              "0       1.089912e+20               Song Ro  1609909927056       5   \n",
              "1       1.112903e+20           Rafa Robles  1612849648663       5   \n",
              "2       1.126404e+20             David Han  1583643882296       4   \n",
              "3       1.174403e+20           Anthony Kim  1551938216355       5   \n",
              "4       1.005808e+20         Mario Marzouk  1494910901933       5   \n",
              "...              ...                   ...            ...     ...   \n",
              "149995  1.081939e+20  Raffi Khatchadourian  1583646462958       5   \n",
              "149996  1.075762e+20     Noah Vincent Ford  1605055631573       5   \n",
              "149997  1.008113e+20        David Karwaski  1597443113544       5   \n",
              "149998  1.177078e+20       Reynalda Vargaz  1573479297751       5   \n",
              "149999  1.089381e+20             Omid Hass  1601598200197       5   \n",
              "\n",
              "                                                    text  pics  resp  \\\n",
              "0                           Love there korean rice cake.  None  None   \n",
              "1                                         Good very good  None  None   \n",
              "2       They make Korean traditional food very properly.  None  None   \n",
              "3                         Short ribs are very delicious.  None  None   \n",
              "4           Great food and prices the portions are large  None  None   \n",
              "...                                                  ...   ...   ...   \n",
              "149995                                              None  None  None   \n",
              "149996                                              None  None  None   \n",
              "149997                                              None  None  None   \n",
              "149998                                              None  None  None   \n",
              "149999                                              None  None  None   \n",
              "\n",
              "                                      gmap_id  \n",
              "0       0x80c2c778e3b73d33:0xbdc58662a4a97d49  \n",
              "1       0x80c2c778e3b73d33:0xbdc58662a4a97d49  \n",
              "2       0x80c2c778e3b73d33:0xbdc58662a4a97d49  \n",
              "3       0x80c2c778e3b73d33:0xbdc58662a4a97d49  \n",
              "4       0x80c2c778e3b73d33:0xbdc58662a4a97d49  \n",
              "...                                       ...  \n",
              "149995  0x80c299484c7709cd:0x89510434231b14d4  \n",
              "149996  0x80c299484c7709cd:0x89510434231b14d4  \n",
              "149997  0x80c299484c7709cd:0x89510434231b14d4  \n",
              "149998  0x80c299484c7709cd:0x89510434231b14d4  \n",
              "149999  0x80c299484c7709cd:0x89510434231b14d4  \n",
              "\n",
              "[150000 rows x 8 columns]"
            ],
            "text/html": [
              "\n",
              "  <div id=\"df-9ad8afbb-cc8c-4547-aae5-ee9c7c36d691\">\n",
              "    <div class=\"colab-df-container\">\n",
              "      <div>\n",
              "<style scoped>\n",
              "    .dataframe tbody tr th:only-of-type {\n",
              "        vertical-align: middle;\n",
              "    }\n",
              "\n",
              "    .dataframe tbody tr th {\n",
              "        vertical-align: top;\n",
              "    }\n",
              "\n",
              "    .dataframe thead th {\n",
              "        text-align: right;\n",
              "    }\n",
              "</style>\n",
              "<table border=\"1\" class=\"dataframe\">\n",
              "  <thead>\n",
              "    <tr style=\"text-align: right;\">\n",
              "      <th></th>\n",
              "      <th>user_id</th>\n",
              "      <th>name</th>\n",
              "      <th>time</th>\n",
              "      <th>rating</th>\n",
              "      <th>text</th>\n",
              "      <th>pics</th>\n",
              "      <th>resp</th>\n",
              "      <th>gmap_id</th>\n",
              "    </tr>\n",
              "  </thead>\n",
              "  <tbody>\n",
              "    <tr>\n",
              "      <th>0</th>\n",
              "      <td>1.089912e+20</td>\n",
              "      <td>Song Ro</td>\n",
              "      <td>1609909927056</td>\n",
              "      <td>5</td>\n",
              "      <td>Love there korean rice cake.</td>\n",
              "      <td>None</td>\n",
              "      <td>None</td>\n",
              "      <td>0x80c2c778e3b73d33:0xbdc58662a4a97d49</td>\n",
              "    </tr>\n",
              "    <tr>\n",
              "      <th>1</th>\n",
              "      <td>1.112903e+20</td>\n",
              "      <td>Rafa Robles</td>\n",
              "      <td>1612849648663</td>\n",
              "      <td>5</td>\n",
              "      <td>Good very good</td>\n",
              "      <td>None</td>\n",
              "      <td>None</td>\n",
              "      <td>0x80c2c778e3b73d33:0xbdc58662a4a97d49</td>\n",
              "    </tr>\n",
              "    <tr>\n",
              "      <th>2</th>\n",
              "      <td>1.126404e+20</td>\n",
              "      <td>David Han</td>\n",
              "      <td>1583643882296</td>\n",
              "      <td>4</td>\n",
              "      <td>They make Korean traditional food very properly.</td>\n",
              "      <td>None</td>\n",
              "      <td>None</td>\n",
              "      <td>0x80c2c778e3b73d33:0xbdc58662a4a97d49</td>\n",
              "    </tr>\n",
              "    <tr>\n",
              "      <th>3</th>\n",
              "      <td>1.174403e+20</td>\n",
              "      <td>Anthony Kim</td>\n",
              "      <td>1551938216355</td>\n",
              "      <td>5</td>\n",
              "      <td>Short ribs are very delicious.</td>\n",
              "      <td>None</td>\n",
              "      <td>None</td>\n",
              "      <td>0x80c2c778e3b73d33:0xbdc58662a4a97d49</td>\n",
              "    </tr>\n",
              "    <tr>\n",
              "      <th>4</th>\n",
              "      <td>1.005808e+20</td>\n",
              "      <td>Mario Marzouk</td>\n",
              "      <td>1494910901933</td>\n",
              "      <td>5</td>\n",
              "      <td>Great food and prices the portions are large</td>\n",
              "      <td>None</td>\n",
              "      <td>None</td>\n",
              "      <td>0x80c2c778e3b73d33:0xbdc58662a4a97d49</td>\n",
              "    </tr>\n",
              "    <tr>\n",
              "      <th>...</th>\n",
              "      <td>...</td>\n",
              "      <td>...</td>\n",
              "      <td>...</td>\n",
              "      <td>...</td>\n",
              "      <td>...</td>\n",
              "      <td>...</td>\n",
              "      <td>...</td>\n",
              "      <td>...</td>\n",
              "    </tr>\n",
              "    <tr>\n",
              "      <th>149995</th>\n",
              "      <td>1.081939e+20</td>\n",
              "      <td>Raffi Khatchadourian</td>\n",
              "      <td>1583646462958</td>\n",
              "      <td>5</td>\n",
              "      <td>None</td>\n",
              "      <td>None</td>\n",
              "      <td>None</td>\n",
              "      <td>0x80c299484c7709cd:0x89510434231b14d4</td>\n",
              "    </tr>\n",
              "    <tr>\n",
              "      <th>149996</th>\n",
              "      <td>1.075762e+20</td>\n",
              "      <td>Noah Vincent Ford</td>\n",
              "      <td>1605055631573</td>\n",
              "      <td>5</td>\n",
              "      <td>None</td>\n",
              "      <td>None</td>\n",
              "      <td>None</td>\n",
              "      <td>0x80c299484c7709cd:0x89510434231b14d4</td>\n",
              "    </tr>\n",
              "    <tr>\n",
              "      <th>149997</th>\n",
              "      <td>1.008113e+20</td>\n",
              "      <td>David Karwaski</td>\n",
              "      <td>1597443113544</td>\n",
              "      <td>5</td>\n",
              "      <td>None</td>\n",
              "      <td>None</td>\n",
              "      <td>None</td>\n",
              "      <td>0x80c299484c7709cd:0x89510434231b14d4</td>\n",
              "    </tr>\n",
              "    <tr>\n",
              "      <th>149998</th>\n",
              "      <td>1.177078e+20</td>\n",
              "      <td>Reynalda Vargaz</td>\n",
              "      <td>1573479297751</td>\n",
              "      <td>5</td>\n",
              "      <td>None</td>\n",
              "      <td>None</td>\n",
              "      <td>None</td>\n",
              "      <td>0x80c299484c7709cd:0x89510434231b14d4</td>\n",
              "    </tr>\n",
              "    <tr>\n",
              "      <th>149999</th>\n",
              "      <td>1.089381e+20</td>\n",
              "      <td>Omid Hass</td>\n",
              "      <td>1601598200197</td>\n",
              "      <td>5</td>\n",
              "      <td>None</td>\n",
              "      <td>None</td>\n",
              "      <td>None</td>\n",
              "      <td>0x80c299484c7709cd:0x89510434231b14d4</td>\n",
              "    </tr>\n",
              "  </tbody>\n",
              "</table>\n",
              "<p>150000 rows × 8 columns</p>\n",
              "</div>\n",
              "      <button class=\"colab-df-convert\" onclick=\"convertToInteractive('df-9ad8afbb-cc8c-4547-aae5-ee9c7c36d691')\"\n",
              "              title=\"Convert this dataframe to an interactive table.\"\n",
              "              style=\"display:none;\">\n",
              "        \n",
              "  <svg xmlns=\"http://www.w3.org/2000/svg\" height=\"24px\"viewBox=\"0 0 24 24\"\n",
              "       width=\"24px\">\n",
              "    <path d=\"M0 0h24v24H0V0z\" fill=\"none\"/>\n",
              "    <path d=\"M18.56 5.44l.94 2.06.94-2.06 2.06-.94-2.06-.94-.94-2.06-.94 2.06-2.06.94zm-11 1L8.5 8.5l.94-2.06 2.06-.94-2.06-.94L8.5 2.5l-.94 2.06-2.06.94zm10 10l.94 2.06.94-2.06 2.06-.94-2.06-.94-.94-2.06-.94 2.06-2.06.94z\"/><path d=\"M17.41 7.96l-1.37-1.37c-.4-.4-.92-.59-1.43-.59-.52 0-1.04.2-1.43.59L10.3 9.45l-7.72 7.72c-.78.78-.78 2.05 0 2.83L4 21.41c.39.39.9.59 1.41.59.51 0 1.02-.2 1.41-.59l7.78-7.78 2.81-2.81c.8-.78.8-2.07 0-2.86zM5.41 20L4 18.59l7.72-7.72 1.47 1.35L5.41 20z\"/>\n",
              "  </svg>\n",
              "      </button>\n",
              "      \n",
              "  <style>\n",
              "    .colab-df-container {\n",
              "      display:flex;\n",
              "      flex-wrap:wrap;\n",
              "      gap: 12px;\n",
              "    }\n",
              "\n",
              "    .colab-df-convert {\n",
              "      background-color: #E8F0FE;\n",
              "      border: none;\n",
              "      border-radius: 50%;\n",
              "      cursor: pointer;\n",
              "      display: none;\n",
              "      fill: #1967D2;\n",
              "      height: 32px;\n",
              "      padding: 0 0 0 0;\n",
              "      width: 32px;\n",
              "    }\n",
              "\n",
              "    .colab-df-convert:hover {\n",
              "      background-color: #E2EBFA;\n",
              "      box-shadow: 0px 1px 2px rgba(60, 64, 67, 0.3), 0px 1px 3px 1px rgba(60, 64, 67, 0.15);\n",
              "      fill: #174EA6;\n",
              "    }\n",
              "\n",
              "    [theme=dark] .colab-df-convert {\n",
              "      background-color: #3B4455;\n",
              "      fill: #D2E3FC;\n",
              "    }\n",
              "\n",
              "    [theme=dark] .colab-df-convert:hover {\n",
              "      background-color: #434B5C;\n",
              "      box-shadow: 0px 1px 3px 1px rgba(0, 0, 0, 0.15);\n",
              "      filter: drop-shadow(0px 1px 2px rgba(0, 0, 0, 0.3));\n",
              "      fill: #FFFFFF;\n",
              "    }\n",
              "  </style>\n",
              "\n",
              "      <script>\n",
              "        const buttonEl =\n",
              "          document.querySelector('#df-9ad8afbb-cc8c-4547-aae5-ee9c7c36d691 button.colab-df-convert');\n",
              "        buttonEl.style.display =\n",
              "          google.colab.kernel.accessAllowed ? 'block' : 'none';\n",
              "\n",
              "        async function convertToInteractive(key) {\n",
              "          const element = document.querySelector('#df-9ad8afbb-cc8c-4547-aae5-ee9c7c36d691');\n",
              "          const dataTable =\n",
              "            await google.colab.kernel.invokeFunction('convertToInteractive',\n",
              "                                                     [key], {});\n",
              "          if (!dataTable) return;\n",
              "\n",
              "          const docLinkHtml = 'Like what you see? Visit the ' +\n",
              "            '<a target=\"_blank\" href=https://colab.research.google.com/notebooks/data_table.ipynb>data table notebook</a>'\n",
              "            + ' to learn more about interactive tables.';\n",
              "          element.innerHTML = '';\n",
              "          dataTable['output_type'] = 'display_data';\n",
              "          await google.colab.output.renderOutput(dataTable, element);\n",
              "          const docLink = document.createElement('div');\n",
              "          docLink.innerHTML = docLinkHtml;\n",
              "          element.appendChild(docLink);\n",
              "        }\n",
              "      </script>\n",
              "    </div>\n",
              "  </div>\n",
              "  "
            ]
          },
          "metadata": {},
          "execution_count": 3
        }
      ]
    },
    {
      "cell_type": "code",
      "source": [
        "''' Visualizamos el tipo de dato de cada columna '''\n",
        "reviews_california.info()"
      ],
      "metadata": {
        "colab": {
          "base_uri": "https://localhost:8080/"
        },
        "id": "LCvcdN29LCJu",
        "outputId": "e037a907-7e49-4903-93a0-4d84bae3c082"
      },
      "execution_count": null,
      "outputs": [
        {
          "output_type": "stream",
          "name": "stdout",
          "text": [
            "<class 'pandas.core.frame.DataFrame'>\n",
            "RangeIndex: 150000 entries, 0 to 149999\n",
            "Data columns (total 8 columns):\n",
            " #   Column   Non-Null Count   Dtype  \n",
            "---  ------   --------------   -----  \n",
            " 0   user_id  150000 non-null  float64\n",
            " 1   name     150000 non-null  object \n",
            " 2   time     150000 non-null  int64  \n",
            " 3   rating   150000 non-null  int64  \n",
            " 4   text     89135 non-null   object \n",
            " 5   pics     5632 non-null    object \n",
            " 6   resp     16935 non-null   object \n",
            " 7   gmap_id  150000 non-null  object \n",
            "dtypes: float64(1), int64(2), object(5)\n",
            "memory usage: 9.2+ MB\n"
          ]
        }
      ]
    },
    {
      "cell_type": "code",
      "source": [
        "reviews_california.describe()"
      ],
      "metadata": {
        "colab": {
          "base_uri": "https://localhost:8080/",
          "height": 300
        },
        "id": "ez4O0HakL83-",
        "outputId": "98fde1a5-6d96-4d42-b925-744c0b795aeb"
      },
      "execution_count": null,
      "outputs": [
        {
          "output_type": "execute_result",
          "data": {
            "text/plain": [
              "            user_id          time        rating\n",
              "count  1.500000e+05  1.500000e+05  150000.00000\n",
              "mean   1.096641e+20  1.553771e+12       4.31154\n",
              "std    5.140433e+18  5.169336e+10       1.21477\n",
              "min    1.000002e+20  1.081296e+12       1.00000\n",
              "25%    1.055420e+20  1.521335e+12       4.00000\n",
              "50%    1.096182e+20  1.558723e+12       5.00000\n",
              "75%    1.140358e+20  1.595102e+12       5.00000\n",
              "max    1.184467e+20  1.631149e+12       5.00000"
            ],
            "text/html": [
              "\n",
              "  <div id=\"df-4e576854-0389-4853-a3b2-9cd139454c58\">\n",
              "    <div class=\"colab-df-container\">\n",
              "      <div>\n",
              "<style scoped>\n",
              "    .dataframe tbody tr th:only-of-type {\n",
              "        vertical-align: middle;\n",
              "    }\n",
              "\n",
              "    .dataframe tbody tr th {\n",
              "        vertical-align: top;\n",
              "    }\n",
              "\n",
              "    .dataframe thead th {\n",
              "        text-align: right;\n",
              "    }\n",
              "</style>\n",
              "<table border=\"1\" class=\"dataframe\">\n",
              "  <thead>\n",
              "    <tr style=\"text-align: right;\">\n",
              "      <th></th>\n",
              "      <th>user_id</th>\n",
              "      <th>time</th>\n",
              "      <th>rating</th>\n",
              "    </tr>\n",
              "  </thead>\n",
              "  <tbody>\n",
              "    <tr>\n",
              "      <th>count</th>\n",
              "      <td>1.500000e+05</td>\n",
              "      <td>1.500000e+05</td>\n",
              "      <td>150000.00000</td>\n",
              "    </tr>\n",
              "    <tr>\n",
              "      <th>mean</th>\n",
              "      <td>1.096641e+20</td>\n",
              "      <td>1.553771e+12</td>\n",
              "      <td>4.31154</td>\n",
              "    </tr>\n",
              "    <tr>\n",
              "      <th>std</th>\n",
              "      <td>5.140433e+18</td>\n",
              "      <td>5.169336e+10</td>\n",
              "      <td>1.21477</td>\n",
              "    </tr>\n",
              "    <tr>\n",
              "      <th>min</th>\n",
              "      <td>1.000002e+20</td>\n",
              "      <td>1.081296e+12</td>\n",
              "      <td>1.00000</td>\n",
              "    </tr>\n",
              "    <tr>\n",
              "      <th>25%</th>\n",
              "      <td>1.055420e+20</td>\n",
              "      <td>1.521335e+12</td>\n",
              "      <td>4.00000</td>\n",
              "    </tr>\n",
              "    <tr>\n",
              "      <th>50%</th>\n",
              "      <td>1.096182e+20</td>\n",
              "      <td>1.558723e+12</td>\n",
              "      <td>5.00000</td>\n",
              "    </tr>\n",
              "    <tr>\n",
              "      <th>75%</th>\n",
              "      <td>1.140358e+20</td>\n",
              "      <td>1.595102e+12</td>\n",
              "      <td>5.00000</td>\n",
              "    </tr>\n",
              "    <tr>\n",
              "      <th>max</th>\n",
              "      <td>1.184467e+20</td>\n",
              "      <td>1.631149e+12</td>\n",
              "      <td>5.00000</td>\n",
              "    </tr>\n",
              "  </tbody>\n",
              "</table>\n",
              "</div>\n",
              "      <button class=\"colab-df-convert\" onclick=\"convertToInteractive('df-4e576854-0389-4853-a3b2-9cd139454c58')\"\n",
              "              title=\"Convert this dataframe to an interactive table.\"\n",
              "              style=\"display:none;\">\n",
              "        \n",
              "  <svg xmlns=\"http://www.w3.org/2000/svg\" height=\"24px\"viewBox=\"0 0 24 24\"\n",
              "       width=\"24px\">\n",
              "    <path d=\"M0 0h24v24H0V0z\" fill=\"none\"/>\n",
              "    <path d=\"M18.56 5.44l.94 2.06.94-2.06 2.06-.94-2.06-.94-.94-2.06-.94 2.06-2.06.94zm-11 1L8.5 8.5l.94-2.06 2.06-.94-2.06-.94L8.5 2.5l-.94 2.06-2.06.94zm10 10l.94 2.06.94-2.06 2.06-.94-2.06-.94-.94-2.06-.94 2.06-2.06.94z\"/><path d=\"M17.41 7.96l-1.37-1.37c-.4-.4-.92-.59-1.43-.59-.52 0-1.04.2-1.43.59L10.3 9.45l-7.72 7.72c-.78.78-.78 2.05 0 2.83L4 21.41c.39.39.9.59 1.41.59.51 0 1.02-.2 1.41-.59l7.78-7.78 2.81-2.81c.8-.78.8-2.07 0-2.86zM5.41 20L4 18.59l7.72-7.72 1.47 1.35L5.41 20z\"/>\n",
              "  </svg>\n",
              "      </button>\n",
              "      \n",
              "  <style>\n",
              "    .colab-df-container {\n",
              "      display:flex;\n",
              "      flex-wrap:wrap;\n",
              "      gap: 12px;\n",
              "    }\n",
              "\n",
              "    .colab-df-convert {\n",
              "      background-color: #E8F0FE;\n",
              "      border: none;\n",
              "      border-radius: 50%;\n",
              "      cursor: pointer;\n",
              "      display: none;\n",
              "      fill: #1967D2;\n",
              "      height: 32px;\n",
              "      padding: 0 0 0 0;\n",
              "      width: 32px;\n",
              "    }\n",
              "\n",
              "    .colab-df-convert:hover {\n",
              "      background-color: #E2EBFA;\n",
              "      box-shadow: 0px 1px 2px rgba(60, 64, 67, 0.3), 0px 1px 3px 1px rgba(60, 64, 67, 0.15);\n",
              "      fill: #174EA6;\n",
              "    }\n",
              "\n",
              "    [theme=dark] .colab-df-convert {\n",
              "      background-color: #3B4455;\n",
              "      fill: #D2E3FC;\n",
              "    }\n",
              "\n",
              "    [theme=dark] .colab-df-convert:hover {\n",
              "      background-color: #434B5C;\n",
              "      box-shadow: 0px 1px 3px 1px rgba(0, 0, 0, 0.15);\n",
              "      filter: drop-shadow(0px 1px 2px rgba(0, 0, 0, 0.3));\n",
              "      fill: #FFFFFF;\n",
              "    }\n",
              "  </style>\n",
              "\n",
              "      <script>\n",
              "        const buttonEl =\n",
              "          document.querySelector('#df-4e576854-0389-4853-a3b2-9cd139454c58 button.colab-df-convert');\n",
              "        buttonEl.style.display =\n",
              "          google.colab.kernel.accessAllowed ? 'block' : 'none';\n",
              "\n",
              "        async function convertToInteractive(key) {\n",
              "          const element = document.querySelector('#df-4e576854-0389-4853-a3b2-9cd139454c58');\n",
              "          const dataTable =\n",
              "            await google.colab.kernel.invokeFunction('convertToInteractive',\n",
              "                                                     [key], {});\n",
              "          if (!dataTable) return;\n",
              "\n",
              "          const docLinkHtml = 'Like what you see? Visit the ' +\n",
              "            '<a target=\"_blank\" href=https://colab.research.google.com/notebooks/data_table.ipynb>data table notebook</a>'\n",
              "            + ' to learn more about interactive tables.';\n",
              "          element.innerHTML = '';\n",
              "          dataTable['output_type'] = 'display_data';\n",
              "          await google.colab.output.renderOutput(dataTable, element);\n",
              "          const docLink = document.createElement('div');\n",
              "          docLink.innerHTML = docLinkHtml;\n",
              "          element.appendChild(docLink);\n",
              "        }\n",
              "      </script>\n",
              "    </div>\n",
              "  </div>\n",
              "  "
            ]
          },
          "metadata": {},
          "execution_count": 5
        }
      ]
    },
    {
      "cell_type": "code",
      "source": [
        "reviews_california.columns"
      ],
      "metadata": {
        "colab": {
          "base_uri": "https://localhost:8080/"
        },
        "id": "w_fz6nGENs5X",
        "outputId": "03399002-9db6-4ac0-d268-ab451ec5f665"
      },
      "execution_count": null,
      "outputs": [
        {
          "output_type": "execute_result",
          "data": {
            "text/plain": [
              "Index(['user_id', 'name', 'time', 'rating', 'text', 'pics', 'resp', 'gmap_id'], dtype='object')"
            ]
          },
          "metadata": {},
          "execution_count": 6
        }
      ]
    },
    {
      "cell_type": "markdown",
      "source": [
        "*   user_id = id del usuario que hace la reseña\n",
        "*   name = nombre del usuario\n",
        "*   time = fecha en que se realizo la reseña\n",
        "*   rating = calificación dada por el usuario del 1 al 5\n",
        "*   text = reseña del usuario\n",
        "*   pics = url de las fotos que acompañan a la reseña\n",
        "*   resp = respuesta de la reseña por parte del negocio, contiene de forma anidada una fecha y un texto\n",
        "*   gmap_id = id del mapa"
      ],
      "metadata": {
        "id": "ieAorLSUNy70"
      }
    },
    {
      "cell_type": "code",
      "source": [
        "''' Transformamos la columna 'time' a formato date ''' \n",
        "\n",
        "reviews_california['time'] = pd.to_datetime(reviews_california['time'], unit='ms')#.dt.strftime('%Y - %m - %d')"
      ],
      "metadata": {
        "id": "OFQ-zrdnMJhm"
      },
      "execution_count": null,
      "outputs": []
    },
    {
      "cell_type": "code",
      "source": [
        "reviews_california.time"
      ],
      "metadata": {
        "colab": {
          "base_uri": "https://localhost:8080/"
        },
        "id": "E3vYg4gKM5ud",
        "outputId": "ccaa4f6c-47c9-4281-d67f-6ab77b691fe7"
      },
      "execution_count": null,
      "outputs": [
        {
          "output_type": "execute_result",
          "data": {
            "text/plain": [
              "0        2021-01-06 05:12:07.056\n",
              "1        2021-02-09 05:47:28.663\n",
              "2        2020-03-08 05:04:42.296\n",
              "3        2019-03-07 05:56:56.355\n",
              "4        2017-05-16 05:01:41.933\n",
              "                   ...          \n",
              "149995   2020-03-08 05:47:42.958\n",
              "149996   2020-11-11 00:47:11.573\n",
              "149997   2020-08-14 22:11:53.544\n",
              "149998   2019-11-11 13:34:57.751\n",
              "149999   2020-10-02 00:23:20.197\n",
              "Name: time, Length: 150000, dtype: datetime64[ns]"
            ]
          },
          "metadata": {},
          "execution_count": 8
        }
      ]
    },
    {
      "cell_type": "markdown",
      "source": [
        "## Valores faltantes"
      ],
      "metadata": {
        "id": "GDr2lTthO7nj"
      }
    },
    {
      "cell_type": "code",
      "source": [
        "reviews_california.isnull().sum()"
      ],
      "metadata": {
        "colab": {
          "base_uri": "https://localhost:8080/"
        },
        "id": "jgKrMAXWNC8V",
        "outputId": "e02b554e-e50b-4e44-efb3-73f2b7b162b2"
      },
      "execution_count": null,
      "outputs": [
        {
          "output_type": "execute_result",
          "data": {
            "text/plain": [
              "user_id         0\n",
              "name            0\n",
              "time            0\n",
              "rating          0\n",
              "text        60865\n",
              "pics       144368\n",
              "resp       133065\n",
              "gmap_id         0\n",
              "dtype: int64"
            ]
          },
          "metadata": {},
          "execution_count": 9
        }
      ]
    },
    {
      "cell_type": "code",
      "source": [
        "plt.figure(figsize= (25,12))\n",
        "sns.heatmap(reviews_california.isnull())\n",
        "plt.show()"
      ],
      "metadata": {
        "colab": {
          "base_uri": "https://localhost:8080/",
          "height": 680
        },
        "id": "W6jCSKE8S9_E",
        "outputId": "bd4386d1-02f2-47ee-bf3e-ed60c84dbc97"
      },
      "execution_count": null,
      "outputs": [
        {
          "output_type": "display_data",
          "data": {
            "text/plain": [
              "<Figure size 1800x864 with 2 Axes>"
            ],
            "image/png": "[encoded data removed]"
          },
          "metadata": {
            "needs_background": "light"
          }
        }
      ]
    },
    {
      "cell_type": "markdown",
      "source": [
        "## Valores atípicos"
      ],
      "metadata": {
        "id": "iJiyLU6jPG-E"
      }
    },
    {
      "cell_type": "markdown",
      "source": [
        "#### Valores atípicos de la columna 'rating'"
      ],
      "metadata": {
        "id": "Xl1I3LcZX4ha"
      }
    },
    {
      "cell_type": "code",
      "source": [
        "sns.boxplot(x='rating', data = reviews_california)\n",
        "plt.show()"
      ],
      "metadata": {
        "colab": {
          "base_uri": "https://localhost:8080/",
          "height": 279
        },
        "id": "jczOtwN-PlBE",
        "outputId": "f5e59607-44f0-472d-df3e-713fb475de58"
      },
      "execution_count": null,
      "outputs": [
        {
          "output_type": "display_data",
          "data": {
            "text/plain": [
              "<Figure size 432x288 with 1 Axes>"
            ],
            "image/png": "[encoded data removed]"
          },
          "metadata": {
            "needs_background": "light"
          }
        }
      ]
    },
    {
      "cell_type": "code",
      "source": [
        "''' Menor valor de calificación ''' \n",
        "reviews_california.rating.min()"
      ],
      "metadata": {
        "colab": {
          "base_uri": "https://localhost:8080/"
        },
        "id": "OpMs51HSP2pL",
        "outputId": "7807d3df-fdc9-4220-aaa5-62f7726e1526"
      },
      "execution_count": null,
      "outputs": [
        {
          "output_type": "execute_result",
          "data": {
            "text/plain": [
              "1"
            ]
          },
          "metadata": {},
          "execution_count": 12
        }
      ]
    },
    {
      "cell_type": "code",
      "source": [
        "''' Mayor valor de calificación '''\n",
        "reviews_california.rating.max()"
      ],
      "metadata": {
        "colab": {
          "base_uri": "https://localhost:8080/"
        },
        "id": "LGA31MOpQBLj",
        "outputId": "5d81e81d-dc1c-45a8-bf95-e440981d116c"
      },
      "execution_count": null,
      "outputs": [
        {
          "output_type": "execute_result",
          "data": {
            "text/plain": [
              "5"
            ]
          },
          "metadata": {},
          "execution_count": 13
        }
      ]
    },
    {
      "cell_type": "markdown",
      "source": [
        "###Valores atípicos de la columna 'time'"
      ],
      "metadata": {
        "id": "ZmdKvac1X_nx"
      }
    },
    {
      "cell_type": "code",
      "source": [
        "''' visualizo nuevamente el tipo de datos de la columna time ya que estaban en str y tuve que modificar el código ''' \n",
        "type(reviews_california['time'][1])"
      ],
      "metadata": {
        "colab": {
          "base_uri": "https://localhost:8080/"
        },
        "id": "cwExFHI9RO0z",
        "outputId": "8f0786d4-a4f1-4bf7-896c-ddeeeed4b251"
      },
      "execution_count": null,
      "outputs": [
        {
          "output_type": "execute_result",
          "data": {
            "text/plain": [
              "pandas._libs.tslibs.timestamps.Timestamp"
            ]
          },
          "metadata": {},
          "execution_count": 14
        }
      ]
    },
    {
      "cell_type": "code",
      "source": [
        "''' hago un boxplot con los años de la columna time '''\n",
        "sns.boxplot(x=reviews_california['time'].dt.year, data = reviews_california)\n",
        "plt.show()"
      ],
      "metadata": {
        "colab": {
          "base_uri": "https://localhost:8080/",
          "height": 279
        },
        "id": "bQZ5kXoPPrgk",
        "outputId": "4949a48e-631b-4553-d1c3-fe57bf7f059c"
      },
      "execution_count": null,
      "outputs": [
        {
          "output_type": "display_data",
          "data": {
            "text/plain": [
              "<Figure size 432x288 with 1 Axes>"
            ],
            "image/png": "[encoded data removed]"
          },
          "metadata": {
            "needs_background": "light"
          }
        }
      ]
    },
    {
      "cell_type": "code",
      "source": [
        "''' Año menor de los registros '''\n",
        "reviews_california['time'].dt.year.min()"
      ],
      "metadata": {
        "colab": {
          "base_uri": "https://localhost:8080/"
        },
        "id": "LYiyyxoTXytz",
        "outputId": "17dd4434-68da-4ece-a62f-175a22a5461a"
      },
      "execution_count": null,
      "outputs": [
        {
          "output_type": "execute_result",
          "data": {
            "text/plain": [
              "2004"
            ]
          },
          "metadata": {},
          "execution_count": 16
        }
      ]
    },
    {
      "cell_type": "code",
      "source": [
        "''' Año mayor de los registros '''\n",
        "reviews_california['time'].dt.year.max()"
      ],
      "metadata": {
        "colab": {
          "base_uri": "https://localhost:8080/"
        },
        "id": "_g_ZJbaCY1VS",
        "outputId": "5b99f19d-f337-4d38-f9ce-943f2ae0a158"
      },
      "execution_count": null,
      "outputs": [
        {
          "output_type": "execute_result",
          "data": {
            "text/plain": [
              "2021"
            ]
          },
          "metadata": {},
          "execution_count": 17
        }
      ]
    },
    {
      "cell_type": "markdown",
      "source": [
        "## Valores duplicados"
      ],
      "metadata": {
        "id": "eqCQVLvuYgSG"
      }
    },
    {
      "cell_type": "code",
      "source": [
        "''' Eliminamos aquellas columnas que tienen listas anidadas '''\n",
        "reviews_california.drop(columns= ['name','pics', 'resp'], inplace=True)"
      ],
      "metadata": {
        "id": "XQYI3qYOYfUT"
      },
      "execution_count": null,
      "outputs": []
    },
    {
      "cell_type": "code",
      "source": [
        "''' Total de filas con valores duplicados '''\n",
        "reviews_california.duplicated().sum()"
      ],
      "metadata": {
        "colab": {
          "base_uri": "https://localhost:8080/"
        },
        "id": "sP0mETDNayBN",
        "outputId": "6f9e43f4-fb9d-43ad-ea0d-1762d4e7d5e4"
      },
      "execution_count": null,
      "outputs": [
        {
          "output_type": "execute_result",
          "data": {
            "text/plain": [
              "14779"
            ]
          },
          "metadata": {},
          "execution_count": 45
        }
      ]
    },
    {
      "cell_type": "code",
      "source": [
        "duplicados = reviews_california.duplicated()\n",
        "\n",
        "num_duplicados = duplicados.sum()\n",
        "num_no_duplicados = len(reviews_california) - num_duplicados\n"
      ],
      "metadata": {
        "id": "ktVzB0jfer1M"
      },
      "execution_count": null,
      "outputs": []
    },
    {
      "cell_type": "code",
      "source": [
        "sns.countplot(x=duplicados, palette='Set1')\n",
        "plt.title('Duplicados en DataFrame')\n",
        "plt.xlabel('Duplicados')\n",
        "plt.ylabel('Cantidad')\n",
        "plt.xticks([0, 1], ['No', 'Sí'])\n",
        "plt.show()"
      ],
      "metadata": {
        "colab": {
          "base_uri": "https://localhost:8080/",
          "height": 295
        },
        "id": "JDgbqpOifMZc",
        "outputId": "5c06d35e-1273-4101-c13e-6d6f950a513c"
      },
      "execution_count": null,
      "outputs": [
        {
          "output_type": "display_data",
          "data": {
            "text/plain": [
              "<Figure size 432x288 with 1 Axes>"
            ],
            "image/png": "[encoded data removed]"
          },
          "metadata": {
            "needs_background": "light"
          }
        }
      ]
    },
    {
      "cell_type": "markdown",
      "source": [
        "# **Estado de New York**"
      ],
      "metadata": {
        "id": "G-GKeAuo45yI"
      }
    },
    {
      "cell_type": "code",
      "source": [
        "''' Abrimos el primer archivo .json de las reviews referidas al estado de New York '''\n",
        "blob = bucket.blob('Google-Maps/reviews-estados/review-New_York/5.json')\n",
        "datos_str = blob.download_as_string()\n",
        "reviews_ny = pd.read_json(datos_str, lines=True)\n",
        "reviews_ny"
      ],
      "metadata": {
        "id": "Kt_hTl8b45WK",
        "colab": {
          "base_uri": "https://localhost:8080/",
          "height": 423
        },
        "outputId": "4645f231-ff9b-40f1-f79a-add35f9c4528"
      },
      "execution_count": null,
      "outputs": [
        {
          "output_type": "execute_result",
          "data": {
            "text/plain": [
              "             user_id           name           time  rating  \\\n",
              "0       1.120959e+20       Sharyn R  1618536541236       5   \n",
              "1       1.003088e+20       gcas8609  1612889799718       1   \n",
              "2       1.013553e+20           Hbgn  1604011105812       1   \n",
              "3       1.154654e+20    Sammy Solar  1607188303287       5   \n",
              "4       1.153217e+20          Kat P  1594215598522       4   \n",
              "...              ...            ...            ...     ...   \n",
              "149995  1.053874e+20   Spike Buxton  1510989425059       5   \n",
              "149996  1.159938e+20             熹熙  1577491326346       3   \n",
              "149997  1.038091e+20   Michael Mark  1562114823708       5   \n",
              "149998  1.132527e+20  Charles Olson  1554552427163       5   \n",
              "149999  1.089723e+20          EllaM  1565638809650       4   \n",
              "\n",
              "                                                     text  pics  resp  \\\n",
              "0                   Awesome Food 😄😁 Chill and cool staff.  None  None   \n",
              "1       The Most DISGUSTING food I've had in my whole ...  None  None   \n",
              "2       Not worth the price. Foods tastes dull and old...  None  None   \n",
              "3       Delicious food and a big menu to choose from a...  None  None   \n",
              "4       I love the food here very flavorful each visit...  None  None   \n",
              "...                                                   ...   ...   ...   \n",
              "149995  One of my favorites in all of New York City. A...  None  None   \n",
              "149996  High prices. Pretty rude to me calling. Didnt ...  None  None   \n",
              "149997  Linda and Maggie always trim your nails just l...  None  None   \n",
              "149998  I had an awesome experience at the Pink & Whit...  None  None   \n",
              "149999     good salon. wish they had more colors for sns.  None  None   \n",
              "\n",
              "                                      gmap_id  \n",
              "0       0x89c25daf13bc726b:0x7f609addad46f073  \n",
              "1       0x89c25daf13bc726b:0x7f609addad46f073  \n",
              "2       0x89c25daf13bc726b:0x7f609addad46f073  \n",
              "3       0x89c25daf13bc726b:0x7f609addad46f073  \n",
              "4       0x89c25daf13bc726b:0x7f609addad46f073  \n",
              "...                                       ...  \n",
              "149995  0x89c24f8abea01a3d:0xd384fb4e9f6e7a84  \n",
              "149996  0x89c24f8abea01a3d:0xd384fb4e9f6e7a84  \n",
              "149997  0x89c24f8abea01a3d:0xd384fb4e9f6e7a84  \n",
              "149998  0x89c24f8abea01a3d:0xd384fb4e9f6e7a84  \n",
              "149999  0x89c24f8abea01a3d:0xd384fb4e9f6e7a84  \n",
              "\n",
              "[150000 rows x 8 columns]"
            ],
            "text/html": [
              "\n",
              "  <div id=\"df-dc68c7e8-ed7e-417d-b1ae-f35f2fa01558\">\n",
              "    <div class=\"colab-df-container\">\n",
              "      <div>\n",
              "<style scoped>\n",
              "    .dataframe tbody tr th:only-of-type {\n",
              "        vertical-align: middle;\n",
              "    }\n",
              "\n",
              "    .dataframe tbody tr th {\n",
              "        vertical-align: top;\n",
              "    }\n",
              "\n",
              "    .dataframe thead th {\n",
              "        text-align: right;\n",
              "    }\n",
              "</style>\n",
              "<table border=\"1\" class=\"dataframe\">\n",
              "  <thead>\n",
              "    <tr style=\"text-align: right;\">\n",
              "      <th></th>\n",
              "      <th>user_id</th>\n",
              "      <th>name</th>\n",
              "      <th>time</th>\n",
              "      <th>rating</th>\n",
              "      <th>text</th>\n",
              "      <th>pics</th>\n",
              "      <th>resp</th>\n",
              "      <th>gmap_id</th>\n",
              "    </tr>\n",
              "  </thead>\n",
              "  <tbody>\n",
              "    <tr>\n",
              "      <th>0</th>\n",
              "      <td>1.120959e+20</td>\n",
              "      <td>Sharyn R</td>\n",
              "      <td>1618536541236</td>\n",
              "      <td>5</td>\n",
              "      <td>Awesome Food 😄😁 Chill and cool staff.</td>\n",
              "      <td>None</td>\n",
              "      <td>None</td>\n",
              "      <td>0x89c25daf13bc726b:0x7f609addad46f073</td>\n",
              "    </tr>\n",
              "    <tr>\n",
              "      <th>1</th>\n",
              "      <td>1.003088e+20</td>\n",
              "      <td>gcas8609</td>\n",
              "      <td>1612889799718</td>\n",
              "      <td>1</td>\n",
              "      <td>The Most DISGUSTING food I've had in my whole ...</td>\n",
              "      <td>None</td>\n",
              "      <td>None</td>\n",
              "      <td>0x89c25daf13bc726b:0x7f609addad46f073</td>\n",
              "    </tr>\n",
              "    <tr>\n",
              "      <th>2</th>\n",
              "      <td>1.013553e+20</td>\n",
              "      <td>Hbgn</td>\n",
              "      <td>1604011105812</td>\n",
              "      <td>1</td>\n",
              "      <td>Not worth the price. Foods tastes dull and old...</td>\n",
              "      <td>None</td>\n",
              "      <td>None</td>\n",
              "      <td>0x89c25daf13bc726b:0x7f609addad46f073</td>\n",
              "    </tr>\n",
              "    <tr>\n",
              "      <th>3</th>\n",
              "      <td>1.154654e+20</td>\n",
              "      <td>Sammy Solar</td>\n",
              "      <td>1607188303287</td>\n",
              "      <td>5</td>\n",
              "      <td>Delicious food and a big menu to choose from a...</td>\n",
              "      <td>None</td>\n",
              "      <td>None</td>\n",
              "      <td>0x89c25daf13bc726b:0x7f609addad46f073</td>\n",
              "    </tr>\n",
              "    <tr>\n",
              "      <th>4</th>\n",
              "      <td>1.153217e+20</td>\n",
              "      <td>Kat P</td>\n",
              "      <td>1594215598522</td>\n",
              "      <td>4</td>\n",
              "      <td>I love the food here very flavorful each visit...</td>\n",
              "      <td>None</td>\n",
              "      <td>None</td>\n",
              "      <td>0x89c25daf13bc726b:0x7f609addad46f073</td>\n",
              "    </tr>\n",
              "    <tr>\n",
              "      <th>...</th>\n",
              "      <td>...</td>\n",
              "      <td>...</td>\n",
              "      <td>...</td>\n",
              "      <td>...</td>\n",
              "      <td>...</td>\n",
              "      <td>...</td>\n",
              "      <td>...</td>\n",
              "      <td>...</td>\n",
              "    </tr>\n",
              "    <tr>\n",
              "      <th>149995</th>\n",
              "      <td>1.053874e+20</td>\n",
              "      <td>Spike Buxton</td>\n",
              "      <td>1510989425059</td>\n",
              "      <td>5</td>\n",
              "      <td>One of my favorites in all of New York City. A...</td>\n",
              "      <td>None</td>\n",
              "      <td>None</td>\n",
              "      <td>0x89c24f8abea01a3d:0xd384fb4e9f6e7a84</td>\n",
              "    </tr>\n",
              "    <tr>\n",
              "      <th>149996</th>\n",
              "      <td>1.159938e+20</td>\n",
              "      <td>熹熙</td>\n",
              "      <td>1577491326346</td>\n",
              "      <td>3</td>\n",
              "      <td>High prices. Pretty rude to me calling. Didnt ...</td>\n",
              "      <td>None</td>\n",
              "      <td>None</td>\n",
              "      <td>0x89c24f8abea01a3d:0xd384fb4e9f6e7a84</td>\n",
              "    </tr>\n",
              "    <tr>\n",
              "      <th>149997</th>\n",
              "      <td>1.038091e+20</td>\n",
              "      <td>Michael Mark</td>\n",
              "      <td>1562114823708</td>\n",
              "      <td>5</td>\n",
              "      <td>Linda and Maggie always trim your nails just l...</td>\n",
              "      <td>None</td>\n",
              "      <td>None</td>\n",
              "      <td>0x89c24f8abea01a3d:0xd384fb4e9f6e7a84</td>\n",
              "    </tr>\n",
              "    <tr>\n",
              "      <th>149998</th>\n",
              "      <td>1.132527e+20</td>\n",
              "      <td>Charles Olson</td>\n",
              "      <td>1554552427163</td>\n",
              "      <td>5</td>\n",
              "      <td>I had an awesome experience at the Pink &amp; Whit...</td>\n",
              "      <td>None</td>\n",
              "      <td>None</td>\n",
              "      <td>0x89c24f8abea01a3d:0xd384fb4e9f6e7a84</td>\n",
              "    </tr>\n",
              "    <tr>\n",
              "      <th>149999</th>\n",
              "      <td>1.089723e+20</td>\n",
              "      <td>EllaM</td>\n",
              "      <td>1565638809650</td>\n",
              "      <td>4</td>\n",
              "      <td>good salon. wish they had more colors for sns.</td>\n",
              "      <td>None</td>\n",
              "      <td>None</td>\n",
              "      <td>0x89c24f8abea01a3d:0xd384fb4e9f6e7a84</td>\n",
              "    </tr>\n",
              "  </tbody>\n",
              "</table>\n",
              "<p>150000 rows × 8 columns</p>\n",
              "</div>\n",
              "      <button class=\"colab-df-convert\" onclick=\"convertToInteractive('df-dc68c7e8-ed7e-417d-b1ae-f35f2fa01558')\"\n",
              "              title=\"Convert this dataframe to an interactive table.\"\n",
              "              style=\"display:none;\">\n",
              "        \n",
              "  <svg xmlns=\"http://www.w3.org/2000/svg\" height=\"24px\"viewBox=\"0 0 24 24\"\n",
              "       width=\"24px\">\n",
              "    <path d=\"M0 0h24v24H0V0z\" fill=\"none\"/>\n",
              "    <path d=\"M18.56 5.44l.94 2.06.94-2.06 2.06-.94-2.06-.94-.94-2.06-.94 2.06-2.06.94zm-11 1L8.5 8.5l.94-2.06 2.06-.94-2.06-.94L8.5 2.5l-.94 2.06-2.06.94zm10 10l.94 2.06.94-2.06 2.06-.94-2.06-.94-.94-2.06-.94 2.06-2.06.94z\"/><path d=\"M17.41 7.96l-1.37-1.37c-.4-.4-.92-.59-1.43-.59-.52 0-1.04.2-1.43.59L10.3 9.45l-7.72 7.72c-.78.78-.78 2.05 0 2.83L4 21.41c.39.39.9.59 1.41.59.51 0 1.02-.2 1.41-.59l7.78-7.78 2.81-2.81c.8-.78.8-2.07 0-2.86zM5.41 20L4 18.59l7.72-7.72 1.47 1.35L5.41 20z\"/>\n",
              "  </svg>\n",
              "      </button>\n",
              "      \n",
              "  <style>\n",
              "    .colab-df-container {\n",
              "      display:flex;\n",
              "      flex-wrap:wrap;\n",
              "      gap: 12px;\n",
              "    }\n",
              "\n",
              "    .colab-df-convert {\n",
              "      background-color: #E8F0FE;\n",
              "      border: none;\n",
              "      border-radius: 50%;\n",
              "      cursor: pointer;\n",
              "      display: none;\n",
              "      fill: #1967D2;\n",
              "      height: 32px;\n",
              "      padding: 0 0 0 0;\n",
              "      width: 32px;\n",
              "    }\n",
              "\n",
              "    .colab-df-convert:hover {\n",
              "      background-color: #E2EBFA;\n",
              "      box-shadow: 0px 1px 2px rgba(60, 64, 67, 0.3), 0px 1px 3px 1px rgba(60, 64, 67, 0.15);\n",
              "      fill: #174EA6;\n",
              "    }\n",
              "\n",
              "    [theme=dark] .colab-df-convert {\n",
              "      background-color: #3B4455;\n",
              "      fill: #D2E3FC;\n",
              "    }\n",
              "\n",
              "    [theme=dark] .colab-df-convert:hover {\n",
              "      background-color: #434B5C;\n",
              "      box-shadow: 0px 1px 3px 1px rgba(0, 0, 0, 0.15);\n",
              "      filter: drop-shadow(0px 1px 2px rgba(0, 0, 0, 0.3));\n",
              "      fill: #FFFFFF;\n",
              "    }\n",
              "  </style>\n",
              "\n",
              "      <script>\n",
              "        const buttonEl =\n",
              "          document.querySelector('#df-dc68c7e8-ed7e-417d-b1ae-f35f2fa01558 button.colab-df-convert');\n",
              "        buttonEl.style.display =\n",
              "          google.colab.kernel.accessAllowed ? 'block' : 'none';\n",
              "\n",
              "        async function convertToInteractive(key) {\n",
              "          const element = document.querySelector('#df-dc68c7e8-ed7e-417d-b1ae-f35f2fa01558');\n",
              "          const dataTable =\n",
              "            await google.colab.kernel.invokeFunction('convertToInteractive',\n",
              "                                                     [key], {});\n",
              "          if (!dataTable) return;\n",
              "\n",
              "          const docLinkHtml = 'Like what you see? Visit the ' +\n",
              "            '<a target=\"_blank\" href=https://colab.research.google.com/notebooks/data_table.ipynb>data table notebook</a>'\n",
              "            + ' to learn more about interactive tables.';\n",
              "          element.innerHTML = '';\n",
              "          dataTable['output_type'] = 'display_data';\n",
              "          await google.colab.output.renderOutput(dataTable, element);\n",
              "          const docLink = document.createElement('div');\n",
              "          docLink.innerHTML = docLinkHtml;\n",
              "          element.appendChild(docLink);\n",
              "        }\n",
              "      </script>\n",
              "    </div>\n",
              "  </div>\n",
              "  "
            ]
          },
          "metadata": {},
          "execution_count": 20
        }
      ]
    },
    {
      "cell_type": "code",
      "source": [
        "''' Visualizamos el tipo de dato de cada columna '''\n",
        "reviews_ny.info()"
      ],
      "metadata": {
        "id": "ZKMicaZU5EzQ",
        "colab": {
          "base_uri": "https://localhost:8080/"
        },
        "outputId": "4d32d9a5-c293-4c78-c72e-5a97445f7ea8"
      },
      "execution_count": null,
      "outputs": [
        {
          "output_type": "stream",
          "name": "stdout",
          "text": [
            "<class 'pandas.core.frame.DataFrame'>\n",
            "RangeIndex: 150000 entries, 0 to 149999\n",
            "Data columns (total 8 columns):\n",
            " #   Column   Non-Null Count   Dtype  \n",
            "---  ------   --------------   -----  \n",
            " 0   user_id  150000 non-null  float64\n",
            " 1   name     150000 non-null  object \n",
            " 2   time     150000 non-null  int64  \n",
            " 3   rating   150000 non-null  int64  \n",
            " 4   text     86203 non-null   object \n",
            " 5   pics     5503 non-null    object \n",
            " 6   resp     14271 non-null   object \n",
            " 7   gmap_id  150000 non-null  object \n",
            "dtypes: float64(1), int64(2), object(5)\n",
            "memory usage: 9.2+ MB\n"
          ]
        }
      ]
    },
    {
      "cell_type": "code",
      "source": [
        "reviews_ny.describe()"
      ],
      "metadata": {
        "id": "Scpd44pZ5Hj5",
        "colab": {
          "base_uri": "https://localhost:8080/",
          "height": 300
        },
        "outputId": "d975abc1-547c-4a6d-fab4-37a6a557b1e0"
      },
      "execution_count": null,
      "outputs": [
        {
          "output_type": "execute_result",
          "data": {
            "text/plain": [
              "            user_id          time         rating\n",
              "count  1.500000e+05  1.500000e+05  150000.000000\n",
              "mean   1.093286e+20  1.551322e+12       4.305347\n",
              "std    5.227837e+18  4.686639e+10       1.128077\n",
              "min    1.000000e+20  6.626016e+11       1.000000\n",
              "25%    1.047377e+20  1.524839e+12       4.000000\n",
              "50%    1.093121e+20  1.556020e+12       5.000000\n",
              "75%    1.138576e+20  1.581539e+12       5.000000\n",
              "max    1.184465e+20  1.624606e+12       5.000000"
            ],
            "text/html": [
              "\n",
              "  <div id=\"df-23b5f0d2-654e-4612-9909-3fb59ebb5ef6\">\n",
              "    <div class=\"colab-df-container\">\n",
              "      <div>\n",
              "<style scoped>\n",
              "    .dataframe tbody tr th:only-of-type {\n",
              "        vertical-align: middle;\n",
              "    }\n",
              "\n",
              "    .dataframe tbody tr th {\n",
              "        vertical-align: top;\n",
              "    }\n",
              "\n",
              "    .dataframe thead th {\n",
              "        text-align: right;\n",
              "    }\n",
              "</style>\n",
              "<table border=\"1\" class=\"dataframe\">\n",
              "  <thead>\n",
              "    <tr style=\"text-align: right;\">\n",
              "      <th></th>\n",
              "      <th>user_id</th>\n",
              "      <th>time</th>\n",
              "      <th>rating</th>\n",
              "    </tr>\n",
              "  </thead>\n",
              "  <tbody>\n",
              "    <tr>\n",
              "      <th>count</th>\n",
              "      <td>1.500000e+05</td>\n",
              "      <td>1.500000e+05</td>\n",
              "      <td>150000.000000</td>\n",
              "    </tr>\n",
              "    <tr>\n",
              "      <th>mean</th>\n",
              "      <td>1.093286e+20</td>\n",
              "      <td>1.551322e+12</td>\n",
              "      <td>4.305347</td>\n",
              "    </tr>\n",
              "    <tr>\n",
              "      <th>std</th>\n",
              "      <td>5.227837e+18</td>\n",
              "      <td>4.686639e+10</td>\n",
              "      <td>1.128077</td>\n",
              "    </tr>\n",
              "    <tr>\n",
              "      <th>min</th>\n",
              "      <td>1.000000e+20</td>\n",
              "      <td>6.626016e+11</td>\n",
              "      <td>1.000000</td>\n",
              "    </tr>\n",
              "    <tr>\n",
              "      <th>25%</th>\n",
              "      <td>1.047377e+20</td>\n",
              "      <td>1.524839e+12</td>\n",
              "      <td>4.000000</td>\n",
              "    </tr>\n",
              "    <tr>\n",
              "      <th>50%</th>\n",
              "      <td>1.093121e+20</td>\n",
              "      <td>1.556020e+12</td>\n",
              "      <td>5.000000</td>\n",
              "    </tr>\n",
              "    <tr>\n",
              "      <th>75%</th>\n",
              "      <td>1.138576e+20</td>\n",
              "      <td>1.581539e+12</td>\n",
              "      <td>5.000000</td>\n",
              "    </tr>\n",
              "    <tr>\n",
              "      <th>max</th>\n",
              "      <td>1.184465e+20</td>\n",
              "      <td>1.624606e+12</td>\n",
              "      <td>5.000000</td>\n",
              "    </tr>\n",
              "  </tbody>\n",
              "</table>\n",
              "</div>\n",
              "      <button class=\"colab-df-convert\" onclick=\"convertToInteractive('df-23b5f0d2-654e-4612-9909-3fb59ebb5ef6')\"\n",
              "              title=\"Convert this dataframe to an interactive table.\"\n",
              "              style=\"display:none;\">\n",
              "        \n",
              "  <svg xmlns=\"http://www.w3.org/2000/svg\" height=\"24px\"viewBox=\"0 0 24 24\"\n",
              "       width=\"24px\">\n",
              "    <path d=\"M0 0h24v24H0V0z\" fill=\"none\"/>\n",
              "    <path d=\"M18.56 5.44l.94 2.06.94-2.06 2.06-.94-2.06-.94-.94-2.06-.94 2.06-2.06.94zm-11 1L8.5 8.5l.94-2.06 2.06-.94-2.06-.94L8.5 2.5l-.94 2.06-2.06.94zm10 10l.94 2.06.94-2.06 2.06-.94-2.06-.94-.94-2.06-.94 2.06-2.06.94z\"/><path d=\"M17.41 7.96l-1.37-1.37c-.4-.4-.92-.59-1.43-.59-.52 0-1.04.2-1.43.59L10.3 9.45l-7.72 7.72c-.78.78-.78 2.05 0 2.83L4 21.41c.39.39.9.59 1.41.59.51 0 1.02-.2 1.41-.59l7.78-7.78 2.81-2.81c.8-.78.8-2.07 0-2.86zM5.41 20L4 18.59l7.72-7.72 1.47 1.35L5.41 20z\"/>\n",
              "  </svg>\n",
              "      </button>\n",
              "      \n",
              "  <style>\n",
              "    .colab-df-container {\n",
              "      display:flex;\n",
              "      flex-wrap:wrap;\n",
              "      gap: 12px;\n",
              "    }\n",
              "\n",
              "    .colab-df-convert {\n",
              "      background-color: #E8F0FE;\n",
              "      border: none;\n",
              "      border-radius: 50%;\n",
              "      cursor: pointer;\n",
              "      display: none;\n",
              "      fill: #1967D2;\n",
              "      height: 32px;\n",
              "      padding: 0 0 0 0;\n",
              "      width: 32px;\n",
              "    }\n",
              "\n",
              "    .colab-df-convert:hover {\n",
              "      background-color: #E2EBFA;\n",
              "      box-shadow: 0px 1px 2px rgba(60, 64, 67, 0.3), 0px 1px 3px 1px rgba(60, 64, 67, 0.15);\n",
              "      fill: #174EA6;\n",
              "    }\n",
              "\n",
              "    [theme=dark] .colab-df-convert {\n",
              "      background-color: #3B4455;\n",
              "      fill: #D2E3FC;\n",
              "    }\n",
              "\n",
              "    [theme=dark] .colab-df-convert:hover {\n",
              "      background-color: #434B5C;\n",
              "      box-shadow: 0px 1px 3px 1px rgba(0, 0, 0, 0.15);\n",
              "      filter: drop-shadow(0px 1px 2px rgba(0, 0, 0, 0.3));\n",
              "      fill: #FFFFFF;\n",
              "    }\n",
              "  </style>\n",
              "\n",
              "      <script>\n",
              "        const buttonEl =\n",
              "          document.querySelector('#df-23b5f0d2-654e-4612-9909-3fb59ebb5ef6 button.colab-df-convert');\n",
              "        buttonEl.style.display =\n",
              "          google.colab.kernel.accessAllowed ? 'block' : 'none';\n",
              "\n",
              "        async function convertToInteractive(key) {\n",
              "          const element = document.querySelector('#df-23b5f0d2-654e-4612-9909-3fb59ebb5ef6');\n",
              "          const dataTable =\n",
              "            await google.colab.kernel.invokeFunction('convertToInteractive',\n",
              "                                                     [key], {});\n",
              "          if (!dataTable) return;\n",
              "\n",
              "          const docLinkHtml = 'Like what you see? Visit the ' +\n",
              "            '<a target=\"_blank\" href=https://colab.research.google.com/notebooks/data_table.ipynb>data table notebook</a>'\n",
              "            + ' to learn more about interactive tables.';\n",
              "          element.innerHTML = '';\n",
              "          dataTable['output_type'] = 'display_data';\n",
              "          await google.colab.output.renderOutput(dataTable, element);\n",
              "          const docLink = document.createElement('div');\n",
              "          docLink.innerHTML = docLinkHtml;\n",
              "          element.appendChild(docLink);\n",
              "        }\n",
              "      </script>\n",
              "    </div>\n",
              "  </div>\n",
              "  "
            ]
          },
          "metadata": {},
          "execution_count": 22
        }
      ]
    },
    {
      "cell_type": "code",
      "source": [
        "reviews_ny.shape"
      ],
      "metadata": {
        "id": "tfas6R_V5H6n",
        "colab": {
          "base_uri": "https://localhost:8080/"
        },
        "outputId": "482335a9-0495-43c9-cd88-0148cd5ac480"
      },
      "execution_count": null,
      "outputs": [
        {
          "output_type": "execute_result",
          "data": {
            "text/plain": [
              "(150000, 8)"
            ]
          },
          "metadata": {},
          "execution_count": 23
        }
      ]
    },
    {
      "cell_type": "code",
      "source": [
        "reviews_ny.columns"
      ],
      "metadata": {
        "id": "RBYjuDlu5JaX",
        "colab": {
          "base_uri": "https://localhost:8080/"
        },
        "outputId": "aa9ad3c8-9697-4ba3-a611-63293c531316"
      },
      "execution_count": null,
      "outputs": [
        {
          "output_type": "execute_result",
          "data": {
            "text/plain": [
              "Index(['user_id', 'name', 'time', 'rating', 'text', 'pics', 'resp', 'gmap_id'], dtype='object')"
            ]
          },
          "metadata": {},
          "execution_count": 24
        }
      ]
    },
    {
      "cell_type": "markdown",
      "source": [
        "*   user_id = id del usuario que hace la reseña\n",
        "*   name = nombre del usuario\n",
        "*   time = fecha en que se realizo la reseña\n",
        "*   rating = calificación dada por el usuario del 1 al 5\n",
        "*   text = reseña del usuario\n",
        "*   pics = url de las fotos que acompañan a la reseña\n",
        "*   resp = respuesta de la reseña por parte del negocio, contiene de forma anidada una fecha y un texto\n",
        "*   gmap_id = id del mapa"
      ],
      "metadata": {
        "id": "vngK3_l85Nvg"
      }
    },
    {
      "cell_type": "code",
      "source": [
        "''' Transformamos la columna 'time' a formato date ''' \n",
        "\n",
        "reviews_ny['time'] = pd.to_datetime(reviews_ny['time'], unit='ms')#.dt.strftime('%Y - %m - %d')"
      ],
      "metadata": {
        "id": "7OJ-Hjs85VI4"
      },
      "execution_count": null,
      "outputs": []
    },
    {
      "cell_type": "code",
      "source": [
        "#Usuarios unicos\n",
        "print(f\"Hay {len(reviews_ny['user_id'].unique())} usuarios unicos\")"
      ],
      "metadata": {
        "id": "wnV2tP045WZY",
        "colab": {
          "base_uri": "https://localhost:8080/"
        },
        "outputId": "152c1e3b-18e7-4e9c-b226-019f19644c29"
      },
      "execution_count": null,
      "outputs": [
        {
          "output_type": "stream",
          "name": "stdout",
          "text": [
            "Hay 116000 usuarios unicos\n"
          ]
        }
      ]
    },
    {
      "cell_type": "markdown",
      "source": [
        "## Valores faltantes"
      ],
      "metadata": {
        "id": "q5WBhL4e5bU4"
      }
    },
    {
      "cell_type": "code",
      "source": [
        "reviews_ny.isnull().sum().sort_values(ascending = False)"
      ],
      "metadata": {
        "id": "zdt1feKg5YGo",
        "colab": {
          "base_uri": "https://localhost:8080/"
        },
        "outputId": "e7fa9a63-c473-4560-cd20-ba104c8a9719"
      },
      "execution_count": null,
      "outputs": [
        {
          "output_type": "execute_result",
          "data": {
            "text/plain": [
              "pics       144497\n",
              "resp       135729\n",
              "text        63797\n",
              "user_id         0\n",
              "name            0\n",
              "time            0\n",
              "rating          0\n",
              "gmap_id         0\n",
              "dtype: int64"
            ]
          },
          "metadata": {},
          "execution_count": 27
        }
      ]
    },
    {
      "cell_type": "code",
      "source": [
        "plt.figure(figsize= (25,12))\n",
        "sns.heatmap(reviews_ny.isnull())\n",
        "plt.show()"
      ],
      "metadata": {
        "id": "9i7ginay5eDZ",
        "colab": {
          "base_uri": "https://localhost:8080/",
          "height": 706
        },
        "outputId": "76cb0804-1703-487c-9a21-68ca68c4ee06"
      },
      "execution_count": null,
      "outputs": [
        {
          "output_type": "display_data",
          "data": {
            "text/plain": [
              "<Figure size 1800x864 with 2 Axes>"
            ],
            "image/png": "[encoded data removed]"
          },
          "metadata": {
            "needs_background": "light"
          }
        }
      ]
    },
    {
      "cell_type": "markdown",
      "source": [
        "## Valores atípicos"
      ],
      "metadata": {
        "id": "VK_ItA-C5hko"
      }
    },
    {
      "cell_type": "markdown",
      "source": [
        "Valores atípicos de la columna rating"
      ],
      "metadata": {
        "id": "adCwvIxT5nth"
      }
    },
    {
      "cell_type": "code",
      "source": [
        "sns.boxplot(x = 'rating', data = reviews_ny)\n",
        "plt.show()"
      ],
      "metadata": {
        "id": "j0L_2z5q5fro",
        "colab": {
          "base_uri": "https://localhost:8080/",
          "height": 279
        },
        "outputId": "5931703f-90f4-4864-81a0-8833cda4ac28"
      },
      "execution_count": null,
      "outputs": [
        {
          "output_type": "display_data",
          "data": {
            "text/plain": [
              "<Figure size 432x288 with 1 Axes>"
            ],
            "image/png": "[encoded data removed]"
          },
          "metadata": {
            "needs_background": "light"
          }
        }
      ]
    },
    {
      "cell_type": "code",
      "source": [
        "''' Menor valor de calificación ''' \n",
        "reviews_ny.rating.min()"
      ],
      "metadata": {
        "id": "UV_RTWCZ5pvI",
        "colab": {
          "base_uri": "https://localhost:8080/"
        },
        "outputId": "c6a0f9d1-7439-48c4-a3a2-923f2e40f1da"
      },
      "execution_count": null,
      "outputs": [
        {
          "output_type": "execute_result",
          "data": {
            "text/plain": [
              "1"
            ]
          },
          "metadata": {},
          "execution_count": 30
        }
      ]
    },
    {
      "cell_type": "code",
      "source": [
        "''' Mayor valor de calificación ''' \n",
        "reviews_ny.rating.max()"
      ],
      "metadata": {
        "id": "8Hcjtkjs5stI",
        "colab": {
          "base_uri": "https://localhost:8080/"
        },
        "outputId": "af785b2a-8ff5-4b3a-9fac-e53284bdd670"
      },
      "execution_count": null,
      "outputs": [
        {
          "output_type": "execute_result",
          "data": {
            "text/plain": [
              "5"
            ]
          },
          "metadata": {},
          "execution_count": 31
        }
      ]
    },
    {
      "cell_type": "markdown",
      "source": [
        "## Valores duplicados"
      ],
      "metadata": {
        "id": "CYrgLD_v53Fi"
      }
    },
    {
      "cell_type": "code",
      "source": [
        "''' Eliminamos aquellas columnas que tienen listas anidadas '''\n",
        "reviews_ny.drop(columns= ['name','pics', 'resp'], inplace=True)"
      ],
      "metadata": {
        "id": "Bs2148q851Gh"
      },
      "execution_count": null,
      "outputs": []
    },
    {
      "cell_type": "code",
      "source": [
        "print(f\"Hay {reviews_ny.duplicated().sum()} valores duplicados\")"
      ],
      "metadata": {
        "id": "saLa_wjh57uI",
        "colab": {
          "base_uri": "https://localhost:8080/"
        },
        "outputId": "fbd7e838-9848-4e54-a993-fe2b24e458ef"
      },
      "execution_count": null,
      "outputs": [
        {
          "output_type": "stream",
          "name": "stdout",
          "text": [
            "Hay 2580 valores duplicados\n"
          ]
        }
      ]
    },
    {
      "cell_type": "code",
      "source": [
        "duplicados = reviews_ny.duplicated()\n",
        "\n",
        "num_duplicados = duplicados.sum()\n",
        "num_no_duplicados = len(reviews_ny) - num_duplicados"
      ],
      "metadata": {
        "id": "P3p4DR7Q9QDS"
      },
      "execution_count": null,
      "outputs": []
    },
    {
      "cell_type": "code",
      "source": [
        "sns.countplot(x= duplicados, palette='Set1')\n",
        "plt.title('Duplicados en DataFrame')\n",
        "plt.xlabel('Duplicados')\n",
        "plt.ylabel('Cantidad')\n",
        "plt.xticks([0, 1], ['No', 'Sí'])\n",
        "plt.show()"
      ],
      "metadata": {
        "colab": {
          "base_uri": "https://localhost:8080/",
          "height": 295
        },
        "id": "d5Zes2CR8uVZ",
        "outputId": "5074787d-b317-4786-d87b-986a483fff41"
      },
      "execution_count": null,
      "outputs": [
        {
          "output_type": "display_data",
          "data": {
            "text/plain": [
              "<Figure size 432x288 with 1 Axes>"
            ],
            "image/png": "[encoded data removed]"
          },
          "metadata": {
            "needs_background": "light"
          }
        }
      ]
    },
    {
      "cell_type": "markdown",
      "source": [
        "# **Estado de Texas**"
      ],
      "metadata": {
        "id": "nwaM9t396Asp"
      }
    },
    {
      "cell_type": "code",
      "source": [
        "''' Abrimos el primer archivo .json de las reviews referidas al estado de Texas '''\n",
        "blob = bucket.blob('Google-Maps/reviews-estados/review-Texas/10.json')\n",
        "datos_str = blob.download_as_string()\n",
        "reviews_Texas = pd.read_json(datos_str, lines=True)\n",
        "reviews_Texas"
      ],
      "metadata": {
        "colab": {
          "base_uri": "https://localhost:8080/",
          "height": 467
        },
        "id": "h1eYwYuY6lZX",
        "outputId": "4e1d6e91-3f96-49d5-d6b2-409daf712fd1"
      },
      "execution_count": null,
      "outputs": [
        {
          "output_type": "execute_result",
          "data": {
            "text/plain": [
              "             user_id                name           time  rating  text  \\\n",
              "0       1.025399e+20        Maria torres  1520065882777       5  None   \n",
              "1       1.152979e+20  Brittaney Lunsford  1546127546702       5  None   \n",
              "2       1.002856e+20               Agnes  1567470805179       5  None   \n",
              "3       1.083442e+20        Luis E Ortiz  1501458412770       3  None   \n",
              "4       1.036427e+20     Jennifer Frosch  1573946175218       4  None   \n",
              "...              ...                 ...            ...     ...   ...   \n",
              "149995  1.150015e+20           kim basak  1606391412832       5  None   \n",
              "149996  1.159675e+20       Raveena Patel  1610605735010       5  None   \n",
              "149997  1.068207e+20            Tom Tran  1582609316658       5  None   \n",
              "149998  1.133652e+20             Ambarin  1581126701849       4  None   \n",
              "149999  1.093357e+20            John Kim  1607726620671       3  None   \n",
              "\n",
              "                                                     pics  \\\n",
              "0                                                    None   \n",
              "1                                                    None   \n",
              "2                                                    None   \n",
              "3       [{'url': ['https://lh5.googleusercontent.com/p...   \n",
              "4                                                    None   \n",
              "...                                                   ...   \n",
              "149995                                               None   \n",
              "149996                                               None   \n",
              "149997                                               None   \n",
              "149998                                               None   \n",
              "149999                                               None   \n",
              "\n",
              "                                                     resp  \\\n",
              "0                                                    None   \n",
              "1                                                    None   \n",
              "2                                                    None   \n",
              "3                                                    None   \n",
              "4                                                    None   \n",
              "...                                                   ...   \n",
              "149995                                               None   \n",
              "149996                                               None   \n",
              "149997                                               None   \n",
              "149998  {'time': 1581699253649, 'text': 'Hi Ambarin,\n",
              "T...   \n",
              "149999                                               None   \n",
              "\n",
              "                                      gmap_id  \n",
              "0       0x8640d215ff1e43e5:0xaeeb5211a25191f4  \n",
              "1       0x8640d215ff1e43e5:0xaeeb5211a25191f4  \n",
              "2       0x8640d215ff1e43e5:0xaeeb5211a25191f4  \n",
              "3       0x8640d215ff1e43e5:0xaeeb5211a25191f4  \n",
              "4       0x8640d215ff1e43e5:0xaeeb5211a25191f4  \n",
              "...                                       ...  \n",
              "149995  0x864c23ee6b5d9d09:0x3cc9cba7f179b2ee  \n",
              "149996  0x864c23ee6b5d9d09:0x3cc9cba7f179b2ee  \n",
              "149997  0x864c23ee6b5d9d09:0x3cc9cba7f179b2ee  \n",
              "149998  0x864c23ee6b5d9d09:0x3cc9cba7f179b2ee  \n",
              "149999  0x864c23ee6b5d9d09:0x3cc9cba7f179b2ee  \n",
              "\n",
              "[150000 rows x 8 columns]"
            ],
            "text/html": [
              "\n",
              "  <div id=\"df-31c9295b-69a6-4707-9b5c-1191116add08\">\n",
              "    <div class=\"colab-df-container\">\n",
              "      <div>\n",
              "<style scoped>\n",
              "    .dataframe tbody tr th:only-of-type {\n",
              "        vertical-align: middle;\n",
              "    }\n",
              "\n",
              "    .dataframe tbody tr th {\n",
              "        vertical-align: top;\n",
              "    }\n",
              "\n",
              "    .dataframe thead th {\n",
              "        text-align: right;\n",
              "    }\n",
              "</style>\n",
              "<table border=\"1\" class=\"dataframe\">\n",
              "  <thead>\n",
              "    <tr style=\"text-align: right;\">\n",
              "      <th></th>\n",
              "      <th>user_id</th>\n",
              "      <th>name</th>\n",
              "      <th>time</th>\n",
              "      <th>rating</th>\n",
              "      <th>text</th>\n",
              "      <th>pics</th>\n",
              "      <th>resp</th>\n",
              "      <th>gmap_id</th>\n",
              "    </tr>\n",
              "  </thead>\n",
              "  <tbody>\n",
              "    <tr>\n",
              "      <th>0</th>\n",
              "      <td>1.025399e+20</td>\n",
              "      <td>Maria torres</td>\n",
              "      <td>1520065882777</td>\n",
              "      <td>5</td>\n",
              "      <td>None</td>\n",
              "      <td>None</td>\n",
              "      <td>None</td>\n",
              "      <td>0x8640d215ff1e43e5:0xaeeb5211a25191f4</td>\n",
              "    </tr>\n",
              "    <tr>\n",
              "      <th>1</th>\n",
              "      <td>1.152979e+20</td>\n",
              "      <td>Brittaney Lunsford</td>\n",
              "      <td>1546127546702</td>\n",
              "      <td>5</td>\n",
              "      <td>None</td>\n",
              "      <td>None</td>\n",
              "      <td>None</td>\n",
              "      <td>0x8640d215ff1e43e5:0xaeeb5211a25191f4</td>\n",
              "    </tr>\n",
              "    <tr>\n",
              "      <th>2</th>\n",
              "      <td>1.002856e+20</td>\n",
              "      <td>Agnes</td>\n",
              "      <td>1567470805179</td>\n",
              "      <td>5</td>\n",
              "      <td>None</td>\n",
              "      <td>None</td>\n",
              "      <td>None</td>\n",
              "      <td>0x8640d215ff1e43e5:0xaeeb5211a25191f4</td>\n",
              "    </tr>\n",
              "    <tr>\n",
              "      <th>3</th>\n",
              "      <td>1.083442e+20</td>\n",
              "      <td>Luis E Ortiz</td>\n",
              "      <td>1501458412770</td>\n",
              "      <td>3</td>\n",
              "      <td>None</td>\n",
              "      <td>[{'url': ['https://lh5.googleusercontent.com/p...</td>\n",
              "      <td>None</td>\n",
              "      <td>0x8640d215ff1e43e5:0xaeeb5211a25191f4</td>\n",
              "    </tr>\n",
              "    <tr>\n",
              "      <th>4</th>\n",
              "      <td>1.036427e+20</td>\n",
              "      <td>Jennifer Frosch</td>\n",
              "      <td>1573946175218</td>\n",
              "      <td>4</td>\n",
              "      <td>None</td>\n",
              "      <td>None</td>\n",
              "      <td>None</td>\n",
              "      <td>0x8640d215ff1e43e5:0xaeeb5211a25191f4</td>\n",
              "    </tr>\n",
              "    <tr>\n",
              "      <th>...</th>\n",
              "      <td>...</td>\n",
              "      <td>...</td>\n",
              "      <td>...</td>\n",
              "      <td>...</td>\n",
              "      <td>...</td>\n",
              "      <td>...</td>\n",
              "      <td>...</td>\n",
              "      <td>...</td>\n",
              "    </tr>\n",
              "    <tr>\n",
              "      <th>149995</th>\n",
              "      <td>1.150015e+20</td>\n",
              "      <td>kim basak</td>\n",
              "      <td>1606391412832</td>\n",
              "      <td>5</td>\n",
              "      <td>None</td>\n",
              "      <td>None</td>\n",
              "      <td>None</td>\n",
              "      <td>0x864c23ee6b5d9d09:0x3cc9cba7f179b2ee</td>\n",
              "    </tr>\n",
              "    <tr>\n",
              "      <th>149996</th>\n",
              "      <td>1.159675e+20</td>\n",
              "      <td>Raveena Patel</td>\n",
              "      <td>1610605735010</td>\n",
              "      <td>5</td>\n",
              "      <td>None</td>\n",
              "      <td>None</td>\n",
              "      <td>None</td>\n",
              "      <td>0x864c23ee6b5d9d09:0x3cc9cba7f179b2ee</td>\n",
              "    </tr>\n",
              "    <tr>\n",
              "      <th>149997</th>\n",
              "      <td>1.068207e+20</td>\n",
              "      <td>Tom Tran</td>\n",
              "      <td>1582609316658</td>\n",
              "      <td>5</td>\n",
              "      <td>None</td>\n",
              "      <td>None</td>\n",
              "      <td>None</td>\n",
              "      <td>0x864c23ee6b5d9d09:0x3cc9cba7f179b2ee</td>\n",
              "    </tr>\n",
              "    <tr>\n",
              "      <th>149998</th>\n",
              "      <td>1.133652e+20</td>\n",
              "      <td>Ambarin</td>\n",
              "      <td>1581126701849</td>\n",
              "      <td>4</td>\n",
              "      <td>None</td>\n",
              "      <td>None</td>\n",
              "      <td>{'time': 1581699253649, 'text': 'Hi Ambarin,\n",
              "T...</td>\n",
              "      <td>0x864c23ee6b5d9d09:0x3cc9cba7f179b2ee</td>\n",
              "    </tr>\n",
              "    <tr>\n",
              "      <th>149999</th>\n",
              "      <td>1.093357e+20</td>\n",
              "      <td>John Kim</td>\n",
              "      <td>1607726620671</td>\n",
              "      <td>3</td>\n",
              "      <td>None</td>\n",
              "      <td>None</td>\n",
              "      <td>None</td>\n",
              "      <td>0x864c23ee6b5d9d09:0x3cc9cba7f179b2ee</td>\n",
              "    </tr>\n",
              "  </tbody>\n",
              "</table>\n",
              "<p>150000 rows × 8 columns</p>\n",
              "</div>\n",
              "      <button class=\"colab-df-convert\" onclick=\"convertToInteractive('df-31c9295b-69a6-4707-9b5c-1191116add08')\"\n",
              "              title=\"Convert this dataframe to an interactive table.\"\n",
              "              style=\"display:none;\">\n",
              "        \n",
              "  <svg xmlns=\"http://www.w3.org/2000/svg\" height=\"24px\"viewBox=\"0 0 24 24\"\n",
              "       width=\"24px\">\n",
              "    <path d=\"M0 0h24v24H0V0z\" fill=\"none\"/>\n",
              "    <path d=\"M18.56 5.44l.94 2.06.94-2.06 2.06-.94-2.06-.94-.94-2.06-.94 2.06-2.06.94zm-11 1L8.5 8.5l.94-2.06 2.06-.94-2.06-.94L8.5 2.5l-.94 2.06-2.06.94zm10 10l.94 2.06.94-2.06 2.06-.94-2.06-.94-.94-2.06-.94 2.06-2.06.94z\"/><path d=\"M17.41 7.96l-1.37-1.37c-.4-.4-.92-.59-1.43-.59-.52 0-1.04.2-1.43.59L10.3 9.45l-7.72 7.72c-.78.78-.78 2.05 0 2.83L4 21.41c.39.39.9.59 1.41.59.51 0 1.02-.2 1.41-.59l7.78-7.78 2.81-2.81c.8-.78.8-2.07 0-2.86zM5.41 20L4 18.59l7.72-7.72 1.47 1.35L5.41 20z\"/>\n",
              "  </svg>\n",
              "      </button>\n",
              "      \n",
              "  <style>\n",
              "    .colab-df-container {\n",
              "      display:flex;\n",
              "      flex-wrap:wrap;\n",
              "      gap: 12px;\n",
              "    }\n",
              "\n",
              "    .colab-df-convert {\n",
              "      background-color: #E8F0FE;\n",
              "      border: none;\n",
              "      border-radius: 50%;\n",
              "      cursor: pointer;\n",
              "      display: none;\n",
              "      fill: #1967D2;\n",
              "      height: 32px;\n",
              "      padding: 0 0 0 0;\n",
              "      width: 32px;\n",
              "    }\n",
              "\n",
              "    .colab-df-convert:hover {\n",
              "      background-color: #E2EBFA;\n",
              "      box-shadow: 0px 1px 2px rgba(60, 64, 67, 0.3), 0px 1px 3px 1px rgba(60, 64, 67, 0.15);\n",
              "      fill: #174EA6;\n",
              "    }\n",
              "\n",
              "    [theme=dark] .colab-df-convert {\n",
              "      background-color: #3B4455;\n",
              "      fill: #D2E3FC;\n",
              "    }\n",
              "\n",
              "    [theme=dark] .colab-df-convert:hover {\n",
              "      background-color: #434B5C;\n",
              "      box-shadow: 0px 1px 3px 1px rgba(0, 0, 0, 0.15);\n",
              "      filter: drop-shadow(0px 1px 2px rgba(0, 0, 0, 0.3));\n",
              "      fill: #FFFFFF;\n",
              "    }\n",
              "  </style>\n",
              "\n",
              "      <script>\n",
              "        const buttonEl =\n",
              "          document.querySelector('#df-31c9295b-69a6-4707-9b5c-1191116add08 button.colab-df-convert');\n",
              "        buttonEl.style.display =\n",
              "          google.colab.kernel.accessAllowed ? 'block' : 'none';\n",
              "\n",
              "        async function convertToInteractive(key) {\n",
              "          const element = document.querySelector('#df-31c9295b-69a6-4707-9b5c-1191116add08');\n",
              "          const dataTable =\n",
              "            await google.colab.kernel.invokeFunction('convertToInteractive',\n",
              "                                                     [key], {});\n",
              "          if (!dataTable) return;\n",
              "\n",
              "          const docLinkHtml = 'Like what you see? Visit the ' +\n",
              "            '<a target=\"_blank\" href=https://colab.research.google.com/notebooks/data_table.ipynb>data table notebook</a>'\n",
              "            + ' to learn more about interactive tables.';\n",
              "          element.innerHTML = '';\n",
              "          dataTable['output_type'] = 'display_data';\n",
              "          await google.colab.output.renderOutput(dataTable, element);\n",
              "          const docLink = document.createElement('div');\n",
              "          docLink.innerHTML = docLinkHtml;\n",
              "          element.appendChild(docLink);\n",
              "        }\n",
              "      </script>\n",
              "    </div>\n",
              "  </div>\n",
              "  "
            ]
          },
          "metadata": {},
          "execution_count": 4
        }
      ]
    },
    {
      "cell_type": "code",
      "source": [
        "''' Visualizamos el tipo de dato de cada columna '''\n",
        "reviews_Texas.info()"
      ],
      "metadata": {
        "colab": {
          "base_uri": "https://localhost:8080/"
        },
        "id": "xECHaSZK7KkP",
        "outputId": "90b5e455-9a12-4ee9-d348-23fc3bf1a86d"
      },
      "execution_count": null,
      "outputs": [
        {
          "output_type": "stream",
          "name": "stdout",
          "text": [
            "<class 'pandas.core.frame.DataFrame'>\n",
            "RangeIndex: 150000 entries, 0 to 149999\n",
            "Data columns (total 8 columns):\n",
            " #   Column   Non-Null Count   Dtype  \n",
            "---  ------   --------------   -----  \n",
            " 0   user_id  150000 non-null  float64\n",
            " 1   name     150000 non-null  object \n",
            " 2   time     150000 non-null  int64  \n",
            " 3   rating   150000 non-null  int64  \n",
            " 4   text     87942 non-null   object \n",
            " 5   pics     4213 non-null    object \n",
            " 6   resp     23763 non-null   object \n",
            " 7   gmap_id  150000 non-null  object \n",
            "dtypes: float64(1), int64(2), object(5)\n",
            "memory usage: 9.2+ MB\n"
          ]
        }
      ]
    },
    {
      "cell_type": "code",
      "source": [
        "reviews_Texas.describe()"
      ],
      "metadata": {
        "colab": {
          "base_uri": "https://localhost:8080/",
          "height": 300
        },
        "id": "5-PrxOyN7Qev",
        "outputId": "47aafee1-cc11-4e8f-ecc1-5d690e2f0d28"
      },
      "execution_count": null,
      "outputs": [
        {
          "output_type": "execute_result",
          "data": {
            "text/plain": [
              "            user_id          time         rating\n",
              "count  1.500000e+05  1.500000e+05  150000.000000\n",
              "mean   1.092769e+20  1.553760e+12       4.284360\n",
              "std    5.285837e+18  4.362761e+10       1.169753\n",
              "min    1.000000e+20  1.247805e+12       1.000000\n",
              "25%    1.046589e+20  1.526694e+12       4.000000\n",
              "50%    1.092445e+20  1.557092e+12       5.000000\n",
              "75%    1.138660e+20  1.582833e+12       5.000000\n",
              "max    1.184467e+20  1.624258e+12       5.000000"
            ],
            "text/html": [
              "\n",
              "  <div id=\"df-68e8b066-c386-4080-90f4-2b0f3411c123\">\n",
              "    <div class=\"colab-df-container\">\n",
              "      <div>\n",
              "<style scoped>\n",
              "    .dataframe tbody tr th:only-of-type {\n",
              "        vertical-align: middle;\n",
              "    }\n",
              "\n",
              "    .dataframe tbody tr th {\n",
              "        vertical-align: top;\n",
              "    }\n",
              "\n",
              "    .dataframe thead th {\n",
              "        text-align: right;\n",
              "    }\n",
              "</style>\n",
              "<table border=\"1\" class=\"dataframe\">\n",
              "  <thead>\n",
              "    <tr style=\"text-align: right;\">\n",
              "      <th></th>\n",
              "      <th>user_id</th>\n",
              "      <th>time</th>\n",
              "      <th>rating</th>\n",
              "    </tr>\n",
              "  </thead>\n",
              "  <tbody>\n",
              "    <tr>\n",
              "      <th>count</th>\n",
              "      <td>1.500000e+05</td>\n",
              "      <td>1.500000e+05</td>\n",
              "      <td>150000.000000</td>\n",
              "    </tr>\n",
              "    <tr>\n",
              "      <th>mean</th>\n",
              "      <td>1.092769e+20</td>\n",
              "      <td>1.553760e+12</td>\n",
              "      <td>4.284360</td>\n",
              "    </tr>\n",
              "    <tr>\n",
              "      <th>std</th>\n",
              "      <td>5.285837e+18</td>\n",
              "      <td>4.362761e+10</td>\n",
              "      <td>1.169753</td>\n",
              "    </tr>\n",
              "    <tr>\n",
              "      <th>min</th>\n",
              "      <td>1.000000e+20</td>\n",
              "      <td>1.247805e+12</td>\n",
              "      <td>1.000000</td>\n",
              "    </tr>\n",
              "    <tr>\n",
              "      <th>25%</th>\n",
              "      <td>1.046589e+20</td>\n",
              "      <td>1.526694e+12</td>\n",
              "      <td>4.000000</td>\n",
              "    </tr>\n",
              "    <tr>\n",
              "      <th>50%</th>\n",
              "      <td>1.092445e+20</td>\n",
              "      <td>1.557092e+12</td>\n",
              "      <td>5.000000</td>\n",
              "    </tr>\n",
              "    <tr>\n",
              "      <th>75%</th>\n",
              "      <td>1.138660e+20</td>\n",
              "      <td>1.582833e+12</td>\n",
              "      <td>5.000000</td>\n",
              "    </tr>\n",
              "    <tr>\n",
              "      <th>max</th>\n",
              "      <td>1.184467e+20</td>\n",
              "      <td>1.624258e+12</td>\n",
              "      <td>5.000000</td>\n",
              "    </tr>\n",
              "  </tbody>\n",
              "</table>\n",
              "</div>\n",
              "      <button class=\"colab-df-convert\" onclick=\"convertToInteractive('df-68e8b066-c386-4080-90f4-2b0f3411c123')\"\n",
              "              title=\"Convert this dataframe to an interactive table.\"\n",
              "              style=\"display:none;\">\n",
              "        \n",
              "  <svg xmlns=\"http://www.w3.org/2000/svg\" height=\"24px\"viewBox=\"0 0 24 24\"\n",
              "       width=\"24px\">\n",
              "    <path d=\"M0 0h24v24H0V0z\" fill=\"none\"/>\n",
              "    <path d=\"M18.56 5.44l.94 2.06.94-2.06 2.06-.94-2.06-.94-.94-2.06-.94 2.06-2.06.94zm-11 1L8.5 8.5l.94-2.06 2.06-.94-2.06-.94L8.5 2.5l-.94 2.06-2.06.94zm10 10l.94 2.06.94-2.06 2.06-.94-2.06-.94-.94-2.06-.94 2.06-2.06.94z\"/><path d=\"M17.41 7.96l-1.37-1.37c-.4-.4-.92-.59-1.43-.59-.52 0-1.04.2-1.43.59L10.3 9.45l-7.72 7.72c-.78.78-.78 2.05 0 2.83L4 21.41c.39.39.9.59 1.41.59.51 0 1.02-.2 1.41-.59l7.78-7.78 2.81-2.81c.8-.78.8-2.07 0-2.86zM5.41 20L4 18.59l7.72-7.72 1.47 1.35L5.41 20z\"/>\n",
              "  </svg>\n",
              "      </button>\n",
              "      \n",
              "  <style>\n",
              "    .colab-df-container {\n",
              "      display:flex;\n",
              "      flex-wrap:wrap;\n",
              "      gap: 12px;\n",
              "    }\n",
              "\n",
              "    .colab-df-convert {\n",
              "      background-color: #E8F0FE;\n",
              "      border: none;\n",
              "      border-radius: 50%;\n",
              "      cursor: pointer;\n",
              "      display: none;\n",
              "      fill: #1967D2;\n",
              "      height: 32px;\n",
              "      padding: 0 0 0 0;\n",
              "      width: 32px;\n",
              "    }\n",
              "\n",
              "    .colab-df-convert:hover {\n",
              "      background-color: #E2EBFA;\n",
              "      box-shadow: 0px 1px 2px rgba(60, 64, 67, 0.3), 0px 1px 3px 1px rgba(60, 64, 67, 0.15);\n",
              "      fill: #174EA6;\n",
              "    }\n",
              "\n",
              "    [theme=dark] .colab-df-convert {\n",
              "      background-color: #3B4455;\n",
              "      fill: #D2E3FC;\n",
              "    }\n",
              "\n",
              "    [theme=dark] .colab-df-convert:hover {\n",
              "      background-color: #434B5C;\n",
              "      box-shadow: 0px 1px 3px 1px rgba(0, 0, 0, 0.15);\n",
              "      filter: drop-shadow(0px 1px 2px rgba(0, 0, 0, 0.3));\n",
              "      fill: #FFFFFF;\n",
              "    }\n",
              "  </style>\n",
              "\n",
              "      <script>\n",
              "        const buttonEl =\n",
              "          document.querySelector('#df-68e8b066-c386-4080-90f4-2b0f3411c123 button.colab-df-convert');\n",
              "        buttonEl.style.display =\n",
              "          google.colab.kernel.accessAllowed ? 'block' : 'none';\n",
              "\n",
              "        async function convertToInteractive(key) {\n",
              "          const element = document.querySelector('#df-68e8b066-c386-4080-90f4-2b0f3411c123');\n",
              "          const dataTable =\n",
              "            await google.colab.kernel.invokeFunction('convertToInteractive',\n",
              "                                                     [key], {});\n",
              "          if (!dataTable) return;\n",
              "\n",
              "          const docLinkHtml = 'Like what you see? Visit the ' +\n",
              "            '<a target=\"_blank\" href=https://colab.research.google.com/notebooks/data_table.ipynb>data table notebook</a>'\n",
              "            + ' to learn more about interactive tables.';\n",
              "          element.innerHTML = '';\n",
              "          dataTable['output_type'] = 'display_data';\n",
              "          await google.colab.output.renderOutput(dataTable, element);\n",
              "          const docLink = document.createElement('div');\n",
              "          docLink.innerHTML = docLinkHtml;\n",
              "          element.appendChild(docLink);\n",
              "        }\n",
              "      </script>\n",
              "    </div>\n",
              "  </div>\n",
              "  "
            ]
          },
          "metadata": {},
          "execution_count": 6
        }
      ]
    },
    {
      "cell_type": "code",
      "source": [
        "reviews_Texas.shape"
      ],
      "metadata": {
        "colab": {
          "base_uri": "https://localhost:8080/"
        },
        "id": "jSoEfwlk7TuP",
        "outputId": "e2d67606-c122-47f0-bf21-2d631eff116f"
      },
      "execution_count": null,
      "outputs": [
        {
          "output_type": "execute_result",
          "data": {
            "text/plain": [
              "(150000, 8)"
            ]
          },
          "metadata": {},
          "execution_count": 7
        }
      ]
    },
    {
      "cell_type": "code",
      "source": [
        "reviews_Texas.columns"
      ],
      "metadata": {
        "colab": {
          "base_uri": "https://localhost:8080/"
        },
        "id": "BUKVukum7YQ5",
        "outputId": "911f74fc-cd1e-4229-8adf-bbc37cafec5b"
      },
      "execution_count": null,
      "outputs": [
        {
          "output_type": "execute_result",
          "data": {
            "text/plain": [
              "Index(['user_id', 'name', 'time', 'rating', 'text', 'pics', 'resp', 'gmap_id'], dtype='object')"
            ]
          },
          "metadata": {},
          "execution_count": 8
        }
      ]
    },
    {
      "cell_type": "markdown",
      "source": [
        "*   user_id = id del usuario que hace la reseña\n",
        "*   name = nombre del usuario\n",
        "*   time = fecha en que se realizo la reseña\n",
        "*   rating = calificación dada por el usuario del 1 al 5\n",
        "*   text = reseña del usuario\n",
        "*   pics = url de las fotos que acompañan a la reseña\n",
        "*   resp = respuesta de la reseña por parte del negocio, contiene de forma anidada una fecha y un texto\n",
        "*   gmap_id = id del mapa"
      ],
      "metadata": {
        "id": "6zQcS39Z7dN4"
      }
    },
    {
      "cell_type": "code",
      "source": [
        "''' Transformamos la columna 'time' a formato date ''' \n",
        "\n",
        "reviews_Texas['time'] = pd.to_datetime(reviews_Texas['time'], unit='ms')#.dt.strftime('%Y - %m - %d')"
      ],
      "metadata": {
        "id": "915jf88E7eHQ"
      },
      "execution_count": null,
      "outputs": []
    },
    {
      "cell_type": "code",
      "source": [
        "reviews_Texas.time"
      ],
      "metadata": {
        "colab": {
          "base_uri": "https://localhost:8080/"
        },
        "id": "r66o0dDM7lHw",
        "outputId": "e0f26121-d0cc-4db6-fda6-0cdaa8d3916e"
      },
      "execution_count": null,
      "outputs": [
        {
          "output_type": "execute_result",
          "data": {
            "text/plain": [
              "0        2018-03-03 08:31:22.777\n",
              "1        2018-12-29 23:52:26.702\n",
              "2        2019-09-03 00:33:25.179\n",
              "3        2017-07-30 23:46:52.770\n",
              "4        2019-11-16 23:16:15.218\n",
              "                   ...          \n",
              "149995   2020-11-26 11:50:12.832\n",
              "149996   2021-01-14 06:28:55.010\n",
              "149997   2020-02-25 05:41:56.658\n",
              "149998   2020-02-08 01:51:41.849\n",
              "149999   2020-12-11 22:43:40.671\n",
              "Name: time, Length: 150000, dtype: datetime64[ns]"
            ]
          },
          "metadata": {},
          "execution_count": 11
        }
      ]
    },
    {
      "cell_type": "code",
      "source": [
        "#Usuarios unicos\n",
        "print(f\"Hay {len(reviews_Texas['user_id'].unique())} usuarios unicos\")"
      ],
      "metadata": {
        "colab": {
          "base_uri": "https://localhost:8080/"
        },
        "id": "CL_H2n6B7qRv",
        "outputId": "f67632a8-427f-479d-e78d-ec6fdaa4cb16"
      },
      "execution_count": null,
      "outputs": [
        {
          "output_type": "stream",
          "name": "stdout",
          "text": [
            "Hay 124269 usuarios unicos\n"
          ]
        }
      ]
    },
    {
      "cell_type": "markdown",
      "source": [
        "## Valores faltantes"
      ],
      "metadata": {
        "id": "4Og1gR2w7u7u"
      }
    },
    {
      "cell_type": "code",
      "source": [
        "reviews_Texas.isnull().sum().sort_values(ascending = False)"
      ],
      "metadata": {
        "colab": {
          "base_uri": "https://localhost:8080/"
        },
        "id": "hqAJhcHi7uAx",
        "outputId": "beaf0403-68c4-4a13-b97d-e1dc839bd709"
      },
      "execution_count": null,
      "outputs": [
        {
          "output_type": "execute_result",
          "data": {
            "text/plain": [
              "pics       145787\n",
              "resp       126237\n",
              "text        62058\n",
              "user_id         0\n",
              "name            0\n",
              "time            0\n",
              "rating          0\n",
              "gmap_id         0\n",
              "dtype: int64"
            ]
          },
          "metadata": {},
          "execution_count": 13
        }
      ]
    },
    {
      "cell_type": "code",
      "source": [
        "plt.figure(figsize= (25,12))\n",
        "sns.heatmap(reviews_Texas.isnull())\n",
        "plt.show()"
      ],
      "metadata": {
        "colab": {
          "base_uri": "https://localhost:8080/",
          "height": 706
        },
        "id": "vnYhOEXi70xu",
        "outputId": "0fb18db2-ab84-4abf-a2e3-8c8f15eb0e0e"
      },
      "execution_count": null,
      "outputs": [
        {
          "output_type": "display_data",
          "data": {
            "text/plain": [
              "<Figure size 1800x864 with 2 Axes>"
            ],
            "image/png": "[encoded data removed]"
          },
          "metadata": {
            "needs_background": "light"
          }
        }
      ]
    },
    {
      "cell_type": "markdown",
      "source": [
        "## Valores atípicos"
      ],
      "metadata": {
        "id": "iiHmaTxq77QW"
      }
    },
    {
      "cell_type": "markdown",
      "source": [
        "Valores atípicos de la columna rating"
      ],
      "metadata": {
        "id": "M1qk6-KC7-2u"
      }
    },
    {
      "cell_type": "code",
      "source": [
        "sns.boxplot(x = 'rating', data = reviews_Texas)\n",
        "plt.show()"
      ],
      "metadata": {
        "colab": {
          "base_uri": "https://localhost:8080/",
          "height": 279
        },
        "id": "nIg6p0yC7572",
        "outputId": "22e9446c-79a2-49b5-c285-5087614fdf7c"
      },
      "execution_count": null,
      "outputs": [
        {
          "output_type": "display_data",
          "data": {
            "text/plain": [
              "<Figure size 432x288 with 1 Axes>"
            ],
            "image/png": "[encoded data removed]"
          },
          "metadata": {
            "needs_background": "light"
          }
        }
      ]
    },
    {
      "cell_type": "code",
      "source": [
        "reviews_Texas.rating.min()"
      ],
      "metadata": {
        "colab": {
          "base_uri": "https://localhost:8080/"
        },
        "id": "tWfesAXu8ETH",
        "outputId": "ff2e1dd8-0b46-4f34-f4e6-bbe514feac8e"
      },
      "execution_count": null,
      "outputs": [
        {
          "output_type": "execute_result",
          "data": {
            "text/plain": [
              "1"
            ]
          },
          "metadata": {},
          "execution_count": 16
        }
      ]
    },
    {
      "cell_type": "code",
      "source": [
        "reviews_Texas.rating.max()"
      ],
      "metadata": {
        "colab": {
          "base_uri": "https://localhost:8080/"
        },
        "id": "YkPWoi7O8H6P",
        "outputId": "f5d6c0c9-5868-4269-e574-7aee51b4e9e1"
      },
      "execution_count": null,
      "outputs": [
        {
          "output_type": "execute_result",
          "data": {
            "text/plain": [
              "5"
            ]
          },
          "metadata": {},
          "execution_count": 17
        }
      ]
    },
    {
      "cell_type": "markdown",
      "source": [
        "## Valores duplicados"
      ],
      "metadata": {
        "id": "4nx5n7Dg8N4f"
      }
    },
    {
      "cell_type": "code",
      "source": [
        "''' Eliminamos aquellas columnas que tienen listas anidadas '''\n",
        "reviews_Texas.drop(columns= ['name','pics', 'resp'], inplace=True)"
      ],
      "metadata": {
        "id": "RSdCG5tJ8OzC"
      },
      "execution_count": null,
      "outputs": []
    },
    {
      "cell_type": "code",
      "source": [
        "print(f\"Hay {reviews_Texas.duplicated().sum()} valores duplicados\")"
      ],
      "metadata": {
        "colab": {
          "base_uri": "https://localhost:8080/"
        },
        "id": "6k6IriC28S0u",
        "outputId": "74fae228-33bb-4ee2-8bf9-08aa233e3c06"
      },
      "execution_count": null,
      "outputs": [
        {
          "output_type": "stream",
          "name": "stdout",
          "text": [
            "Hay 4948 valores duplicados\n"
          ]
        }
      ]
    },
    {
      "cell_type": "code",
      "source": [
        "duplicados = reviews_Texas.duplicated()\n",
        "\n",
        "num_duplicados = duplicados.sum()\n",
        "num_no_duplicados = len(reviews_Texas) - num_duplicados"
      ],
      "metadata": {
        "id": "RKekgxO29uNW"
      },
      "execution_count": null,
      "outputs": []
    },
    {
      "cell_type": "code",
      "source": [
        "sns.countplot(x= duplicados, palette='Set1')\n",
        "plt.title('Duplicados en DataFrame')\n",
        "plt.xlabel('Duplicados')\n",
        "plt.ylabel('Cantidad')\n",
        "plt.xticks([0, 1], ['No', 'Sí'])\n",
        "plt.show()"
      ],
      "metadata": {
        "colab": {
          "base_uri": "https://localhost:8080/",
          "height": 295
        },
        "id": "XW4GkJ1_92gm",
        "outputId": "f5b645db-0473-4e5c-8a6f-a867522cb1ef"
      },
      "execution_count": null,
      "outputs": [
        {
          "output_type": "display_data",
          "data": {
            "text/plain": [
              "<Figure size 432x288 with 1 Axes>"
            ],
            "image/png": "[encoded data removed]"
          },
          "metadata": {
            "needs_background": "light"
          }
        }
      ]
    },
    {
      "cell_type": "markdown",
      "source": [
        "# **Estado de Florida**"
      ],
      "metadata": {
        "id": "5NjZ0ZBz-Vo_"
      }
    },
    {
      "cell_type": "code",
      "source": [
        "''' Abrimos el primer archivo .json de las reviews referidas al estado de California '''\n",
        "blob = bucket.blob('Google-Maps/reviews-estados/review-Florida/8.json')\n",
        "datos_str = blob.download_as_string()\n",
        "reviews_florida = pd.read_json(datos_str, lines=True)\n",
        "reviews_florida"
      ],
      "metadata": {
        "colab": {
          "base_uri": "https://localhost:8080/",
          "height": 423
        },
        "id": "g1fB_hULAlim",
        "outputId": "b47ed164-dc0e-4b5f-837c-2d31bcec05c7"
      },
      "execution_count": null,
      "outputs": [
        {
          "output_type": "execute_result",
          "data": {
            "text/plain": [
              "             user_id                name           time  rating  \\\n",
              "0       1.104702e+20          paul lynch  1514980803126       5   \n",
              "1       1.036286e+20      Maary Demmings  1497735129902       5   \n",
              "2       1.118701e+20        Aaron Wilder  1495653714688       5   \n",
              "3       1.134749e+20       PewPew Gaming  1514486733158       1   \n",
              "4       1.133231e+20       Lee Rodriguez  1508589294156       5   \n",
              "...              ...                 ...            ...     ...   \n",
              "149995  1.140761e+20       carlos jaimes  1568825710365       4   \n",
              "149996  1.062076e+20           Lew Graff  1304312616934       4   \n",
              "149997  1.157316e+20             Sammy M  1482593194868       4   \n",
              "149998  1.150730e+20        Amanda Grant  1574464961974       4   \n",
              "149999  1.011641e+20  Dr. Carlos Andrade  1487451545236       5   \n",
              "\n",
              "                                                     text  pics  resp  \\\n",
              "0                                            Good service  None  None   \n",
              "1                                                    Good  None  None   \n",
              "2       Went there for work but it was busy and had a ...  None  None   \n",
              "3       Horrible service repairs... labor hourly rate ...  None  None   \n",
              "4                                          Amazing people  None  None   \n",
              "...                                                   ...   ...   ...   \n",
              "149995                                               None  None  None   \n",
              "149996                                               None  None  None   \n",
              "149997                                               None  None  None   \n",
              "149998                                               None  None  None   \n",
              "149999                                               None  None  None   \n",
              "\n",
              "                                      gmap_id  \n",
              "0        0x88de11c0e8d32209:0x7c81f6c83581877  \n",
              "1        0x88de11c0e8d32209:0x7c81f6c83581877  \n",
              "2        0x88de11c0e8d32209:0x7c81f6c83581877  \n",
              "3        0x88de11c0e8d32209:0x7c81f6c83581877  \n",
              "4        0x88de11c0e8d32209:0x7c81f6c83581877  \n",
              "...                                       ...  \n",
              "149995  0x88d909b7051d9807:0xf6638e378b0416a7  \n",
              "149996  0x88d909b7051d9807:0xf6638e378b0416a7  \n",
              "149997  0x88d909b7051d9807:0xf6638e378b0416a7  \n",
              "149998  0x88d909b7051d9807:0xf6638e378b0416a7  \n",
              "149999  0x88d909b7051d9807:0xf6638e378b0416a7  \n",
              "\n",
              "[150000 rows x 8 columns]"
            ],
            "text/html": [
              "\n",
              "  <div id=\"df-b7cb89a7-6cc6-4f77-8260-8c1abebe24f7\">\n",
              "    <div class=\"colab-df-container\">\n",
              "      <div>\n",
              "<style scoped>\n",
              "    .dataframe tbody tr th:only-of-type {\n",
              "        vertical-align: middle;\n",
              "    }\n",
              "\n",
              "    .dataframe tbody tr th {\n",
              "        vertical-align: top;\n",
              "    }\n",
              "\n",
              "    .dataframe thead th {\n",
              "        text-align: right;\n",
              "    }\n",
              "</style>\n",
              "<table border=\"1\" class=\"dataframe\">\n",
              "  <thead>\n",
              "    <tr style=\"text-align: right;\">\n",
              "      <th></th>\n",
              "      <th>user_id</th>\n",
              "      <th>name</th>\n",
              "      <th>time</th>\n",
              "      <th>rating</th>\n",
              "      <th>text</th>\n",
              "      <th>pics</th>\n",
              "      <th>resp</th>\n",
              "      <th>gmap_id</th>\n",
              "    </tr>\n",
              "  </thead>\n",
              "  <tbody>\n",
              "    <tr>\n",
              "      <th>0</th>\n",
              "      <td>1.104702e+20</td>\n",
              "      <td>paul lynch</td>\n",
              "      <td>1514980803126</td>\n",
              "      <td>5</td>\n",
              "      <td>Good service</td>\n",
              "      <td>None</td>\n",
              "      <td>None</td>\n",
              "      <td>0x88de11c0e8d32209:0x7c81f6c83581877</td>\n",
              "    </tr>\n",
              "    <tr>\n",
              "      <th>1</th>\n",
              "      <td>1.036286e+20</td>\n",
              "      <td>Maary Demmings</td>\n",
              "      <td>1497735129902</td>\n",
              "      <td>5</td>\n",
              "      <td>Good</td>\n",
              "      <td>None</td>\n",
              "      <td>None</td>\n",
              "      <td>0x88de11c0e8d32209:0x7c81f6c83581877</td>\n",
              "    </tr>\n",
              "    <tr>\n",
              "      <th>2</th>\n",
              "      <td>1.118701e+20</td>\n",
              "      <td>Aaron Wilder</td>\n",
              "      <td>1495653714688</td>\n",
              "      <td>5</td>\n",
              "      <td>Went there for work but it was busy and had a ...</td>\n",
              "      <td>None</td>\n",
              "      <td>None</td>\n",
              "      <td>0x88de11c0e8d32209:0x7c81f6c83581877</td>\n",
              "    </tr>\n",
              "    <tr>\n",
              "      <th>3</th>\n",
              "      <td>1.134749e+20</td>\n",
              "      <td>PewPew Gaming</td>\n",
              "      <td>1514486733158</td>\n",
              "      <td>1</td>\n",
              "      <td>Horrible service repairs... labor hourly rate ...</td>\n",
              "      <td>None</td>\n",
              "      <td>None</td>\n",
              "      <td>0x88de11c0e8d32209:0x7c81f6c83581877</td>\n",
              "    </tr>\n",
              "    <tr>\n",
              "      <th>4</th>\n",
              "      <td>1.133231e+20</td>\n",
              "      <td>Lee Rodriguez</td>\n",
              "      <td>1508589294156</td>\n",
              "      <td>5</td>\n",
              "      <td>Amazing people</td>\n",
              "      <td>None</td>\n",
              "      <td>None</td>\n",
              "      <td>0x88de11c0e8d32209:0x7c81f6c83581877</td>\n",
              "    </tr>\n",
              "    <tr>\n",
              "      <th>...</th>\n",
              "      <td>...</td>\n",
              "      <td>...</td>\n",
              "      <td>...</td>\n",
              "      <td>...</td>\n",
              "      <td>...</td>\n",
              "      <td>...</td>\n",
              "      <td>...</td>\n",
              "      <td>...</td>\n",
              "    </tr>\n",
              "    <tr>\n",
              "      <th>149995</th>\n",
              "      <td>1.140761e+20</td>\n",
              "      <td>carlos jaimes</td>\n",
              "      <td>1568825710365</td>\n",
              "      <td>4</td>\n",
              "      <td>None</td>\n",
              "      <td>None</td>\n",
              "      <td>None</td>\n",
              "      <td>0x88d909b7051d9807:0xf6638e378b0416a7</td>\n",
              "    </tr>\n",
              "    <tr>\n",
              "      <th>149996</th>\n",
              "      <td>1.062076e+20</td>\n",
              "      <td>Lew Graff</td>\n",
              "      <td>1304312616934</td>\n",
              "      <td>4</td>\n",
              "      <td>None</td>\n",
              "      <td>None</td>\n",
              "      <td>None</td>\n",
              "      <td>0x88d909b7051d9807:0xf6638e378b0416a7</td>\n",
              "    </tr>\n",
              "    <tr>\n",
              "      <th>149997</th>\n",
              "      <td>1.157316e+20</td>\n",
              "      <td>Sammy M</td>\n",
              "      <td>1482593194868</td>\n",
              "      <td>4</td>\n",
              "      <td>None</td>\n",
              "      <td>None</td>\n",
              "      <td>None</td>\n",
              "      <td>0x88d909b7051d9807:0xf6638e378b0416a7</td>\n",
              "    </tr>\n",
              "    <tr>\n",
              "      <th>149998</th>\n",
              "      <td>1.150730e+20</td>\n",
              "      <td>Amanda Grant</td>\n",
              "      <td>1574464961974</td>\n",
              "      <td>4</td>\n",
              "      <td>None</td>\n",
              "      <td>None</td>\n",
              "      <td>None</td>\n",
              "      <td>0x88d909b7051d9807:0xf6638e378b0416a7</td>\n",
              "    </tr>\n",
              "    <tr>\n",
              "      <th>149999</th>\n",
              "      <td>1.011641e+20</td>\n",
              "      <td>Dr. Carlos Andrade</td>\n",
              "      <td>1487451545236</td>\n",
              "      <td>5</td>\n",
              "      <td>None</td>\n",
              "      <td>None</td>\n",
              "      <td>None</td>\n",
              "      <td>0x88d909b7051d9807:0xf6638e378b0416a7</td>\n",
              "    </tr>\n",
              "  </tbody>\n",
              "</table>\n",
              "<p>150000 rows × 8 columns</p>\n",
              "</div>\n",
              "      <button class=\"colab-df-convert\" onclick=\"convertToInteractive('df-b7cb89a7-6cc6-4f77-8260-8c1abebe24f7')\"\n",
              "              title=\"Convert this dataframe to an interactive table.\"\n",
              "              style=\"display:none;\">\n",
              "        \n",
              "  <svg xmlns=\"http://www.w3.org/2000/svg\" height=\"24px\"viewBox=\"0 0 24 24\"\n",
              "       width=\"24px\">\n",
              "    <path d=\"M0 0h24v24H0V0z\" fill=\"none\"/>\n",
              "    <path d=\"M18.56 5.44l.94 2.06.94-2.06 2.06-.94-2.06-.94-.94-2.06-.94 2.06-2.06.94zm-11 1L8.5 8.5l.94-2.06 2.06-.94-2.06-.94L8.5 2.5l-.94 2.06-2.06.94zm10 10l.94 2.06.94-2.06 2.06-.94-2.06-.94-.94-2.06-.94 2.06-2.06.94z\"/><path d=\"M17.41 7.96l-1.37-1.37c-.4-.4-.92-.59-1.43-.59-.52 0-1.04.2-1.43.59L10.3 9.45l-7.72 7.72c-.78.78-.78 2.05 0 2.83L4 21.41c.39.39.9.59 1.41.59.51 0 1.02-.2 1.41-.59l7.78-7.78 2.81-2.81c.8-.78.8-2.07 0-2.86zM5.41 20L4 18.59l7.72-7.72 1.47 1.35L5.41 20z\"/>\n",
              "  </svg>\n",
              "      </button>\n",
              "      \n",
              "  <style>\n",
              "    .colab-df-container {\n",
              "      display:flex;\n",
              "      flex-wrap:wrap;\n",
              "      gap: 12px;\n",
              "    }\n",
              "\n",
              "    .colab-df-convert {\n",
              "      background-color: #E8F0FE;\n",
              "      border: none;\n",
              "      border-radius: 50%;\n",
              "      cursor: pointer;\n",
              "      display: none;\n",
              "      fill: #1967D2;\n",
              "      height: 32px;\n",
              "      padding: 0 0 0 0;\n",
              "      width: 32px;\n",
              "    }\n",
              "\n",
              "    .colab-df-convert:hover {\n",
              "      background-color: #E2EBFA;\n",
              "      box-shadow: 0px 1px 2px rgba(60, 64, 67, 0.3), 0px 1px 3px 1px rgba(60, 64, 67, 0.15);\n",
              "      fill: #174EA6;\n",
              "    }\n",
              "\n",
              "    [theme=dark] .colab-df-convert {\n",
              "      background-color: #3B4455;\n",
              "      fill: #D2E3FC;\n",
              "    }\n",
              "\n",
              "    [theme=dark] .colab-df-convert:hover {\n",
              "      background-color: #434B5C;\n",
              "      box-shadow: 0px 1px 3px 1px rgba(0, 0, 0, 0.15);\n",
              "      filter: drop-shadow(0px 1px 2px rgba(0, 0, 0, 0.3));\n",
              "      fill: #FFFFFF;\n",
              "    }\n",
              "  </style>\n",
              "\n",
              "      <script>\n",
              "        const buttonEl =\n",
              "          document.querySelector('#df-b7cb89a7-6cc6-4f77-8260-8c1abebe24f7 button.colab-df-convert');\n",
              "        buttonEl.style.display =\n",
              "          google.colab.kernel.accessAllowed ? 'block' : 'none';\n",
              "\n",
              "        async function convertToInteractive(key) {\n",
              "          const element = document.querySelector('#df-b7cb89a7-6cc6-4f77-8260-8c1abebe24f7');\n",
              "          const dataTable =\n",
              "            await google.colab.kernel.invokeFunction('convertToInteractive',\n",
              "                                                     [key], {});\n",
              "          if (!dataTable) return;\n",
              "\n",
              "          const docLinkHtml = 'Like what you see? Visit the ' +\n",
              "            '<a target=\"_blank\" href=https://colab.research.google.com/notebooks/data_table.ipynb>data table notebook</a>'\n",
              "            + ' to learn more about interactive tables.';\n",
              "          element.innerHTML = '';\n",
              "          dataTable['output_type'] = 'display_data';\n",
              "          await google.colab.output.renderOutput(dataTable, element);\n",
              "          const docLink = document.createElement('div');\n",
              "          docLink.innerHTML = docLinkHtml;\n",
              "          element.appendChild(docLink);\n",
              "        }\n",
              "      </script>\n",
              "    </div>\n",
              "  </div>\n",
              "  "
            ]
          },
          "metadata": {},
          "execution_count": 41
        }
      ]
    },
    {
      "cell_type": "code",
      "source": [
        "''' Visualizamos el tipo de dato de cada columna '''\n",
        "reviews_florida.info()"
      ],
      "metadata": {
        "colab": {
          "base_uri": "https://localhost:8080/"
        },
        "id": "UlZUFr2EAl7N",
        "outputId": "d50cf719-8cf4-4627-a03f-d4a8596c5e68"
      },
      "execution_count": null,
      "outputs": [
        {
          "output_type": "stream",
          "name": "stdout",
          "text": [
            "<class 'pandas.core.frame.DataFrame'>\n",
            "RangeIndex: 150000 entries, 0 to 149999\n",
            "Data columns (total 8 columns):\n",
            " #   Column   Non-Null Count   Dtype  \n",
            "---  ------   --------------   -----  \n",
            " 0   user_id  150000 non-null  float64\n",
            " 1   name     150000 non-null  object \n",
            " 2   time     150000 non-null  int64  \n",
            " 3   rating   150000 non-null  int64  \n",
            " 4   text     92809 non-null   object \n",
            " 5   pics     5344 non-null    object \n",
            " 6   resp     27901 non-null   object \n",
            " 7   gmap_id  150000 non-null  object \n",
            "dtypes: float64(1), int64(2), object(5)\n",
            "memory usage: 9.2+ MB\n"
          ]
        }
      ]
    },
    {
      "cell_type": "code",
      "source": [
        "reviews_florida.describe()"
      ],
      "metadata": {
        "colab": {
          "base_uri": "https://localhost:8080/",
          "height": 300
        },
        "id": "dTDJxP3EBD6U",
        "outputId": "504f586f-2b9a-467c-ce6f-fd649d833356"
      },
      "execution_count": null,
      "outputs": [
        {
          "output_type": "execute_result",
          "data": {
            "text/plain": [
              "            user_id          time         rating\n",
              "count  1.500000e+05  1.500000e+05  150000.000000\n",
              "mean   1.092655e+20  1.553134e+12       4.273160\n",
              "std    5.304734e+18  4.357603e+10       1.200247\n",
              "min    1.000004e+20  1.229469e+12       1.000000\n",
              "25%    1.046301e+20  1.524957e+12       4.000000\n",
              "50%    1.092414e+20  1.555538e+12       5.000000\n",
              "75%    1.138708e+20  1.582995e+12       5.000000\n",
              "max    1.184467e+20  1.624188e+12       5.000000"
            ],
            "text/html": [
              "\n",
              "  <div id=\"df-b71073ca-13f0-4766-8ec2-f5b4129b5679\">\n",
              "    <div class=\"colab-df-container\">\n",
              "      <div>\n",
              "<style scoped>\n",
              "    .dataframe tbody tr th:only-of-type {\n",
              "        vertical-align: middle;\n",
              "    }\n",
              "\n",
              "    .dataframe tbody tr th {\n",
              "        vertical-align: top;\n",
              "    }\n",
              "\n",
              "    .dataframe thead th {\n",
              "        text-align: right;\n",
              "    }\n",
              "</style>\n",
              "<table border=\"1\" class=\"dataframe\">\n",
              "  <thead>\n",
              "    <tr style=\"text-align: right;\">\n",
              "      <th></th>\n",
              "      <th>user_id</th>\n",
              "      <th>time</th>\n",
              "      <th>rating</th>\n",
              "    </tr>\n",
              "  </thead>\n",
              "  <tbody>\n",
              "    <tr>\n",
              "      <th>count</th>\n",
              "      <td>1.500000e+05</td>\n",
              "      <td>1.500000e+05</td>\n",
              "      <td>150000.000000</td>\n",
              "    </tr>\n",
              "    <tr>\n",
              "      <th>mean</th>\n",
              "      <td>1.092655e+20</td>\n",
              "      <td>1.553134e+12</td>\n",
              "      <td>4.273160</td>\n",
              "    </tr>\n",
              "    <tr>\n",
              "      <th>std</th>\n",
              "      <td>5.304734e+18</td>\n",
              "      <td>4.357603e+10</td>\n",
              "      <td>1.200247</td>\n",
              "    </tr>\n",
              "    <tr>\n",
              "      <th>min</th>\n",
              "      <td>1.000004e+20</td>\n",
              "      <td>1.229469e+12</td>\n",
              "      <td>1.000000</td>\n",
              "    </tr>\n",
              "    <tr>\n",
              "      <th>25%</th>\n",
              "      <td>1.046301e+20</td>\n",
              "      <td>1.524957e+12</td>\n",
              "      <td>4.000000</td>\n",
              "    </tr>\n",
              "    <tr>\n",
              "      <th>50%</th>\n",
              "      <td>1.092414e+20</td>\n",
              "      <td>1.555538e+12</td>\n",
              "      <td>5.000000</td>\n",
              "    </tr>\n",
              "    <tr>\n",
              "      <th>75%</th>\n",
              "      <td>1.138708e+20</td>\n",
              "      <td>1.582995e+12</td>\n",
              "      <td>5.000000</td>\n",
              "    </tr>\n",
              "    <tr>\n",
              "      <th>max</th>\n",
              "      <td>1.184467e+20</td>\n",
              "      <td>1.624188e+12</td>\n",
              "      <td>5.000000</td>\n",
              "    </tr>\n",
              "  </tbody>\n",
              "</table>\n",
              "</div>\n",
              "      <button class=\"colab-df-convert\" onclick=\"convertToInteractive('df-b71073ca-13f0-4766-8ec2-f5b4129b5679')\"\n",
              "              title=\"Convert this dataframe to an interactive table.\"\n",
              "              style=\"display:none;\">\n",
              "        \n",
              "  <svg xmlns=\"http://www.w3.org/2000/svg\" height=\"24px\"viewBox=\"0 0 24 24\"\n",
              "       width=\"24px\">\n",
              "    <path d=\"M0 0h24v24H0V0z\" fill=\"none\"/>\n",
              "    <path d=\"M18.56 5.44l.94 2.06.94-2.06 2.06-.94-2.06-.94-.94-2.06-.94 2.06-2.06.94zm-11 1L8.5 8.5l.94-2.06 2.06-.94-2.06-.94L8.5 2.5l-.94 2.06-2.06.94zm10 10l.94 2.06.94-2.06 2.06-.94-2.06-.94-.94-2.06-.94 2.06-2.06.94z\"/><path d=\"M17.41 7.96l-1.37-1.37c-.4-.4-.92-.59-1.43-.59-.52 0-1.04.2-1.43.59L10.3 9.45l-7.72 7.72c-.78.78-.78 2.05 0 2.83L4 21.41c.39.39.9.59 1.41.59.51 0 1.02-.2 1.41-.59l7.78-7.78 2.81-2.81c.8-.78.8-2.07 0-2.86zM5.41 20L4 18.59l7.72-7.72 1.47 1.35L5.41 20z\"/>\n",
              "  </svg>\n",
              "      </button>\n",
              "      \n",
              "  <style>\n",
              "    .colab-df-container {\n",
              "      display:flex;\n",
              "      flex-wrap:wrap;\n",
              "      gap: 12px;\n",
              "    }\n",
              "\n",
              "    .colab-df-convert {\n",
              "      background-color: #E8F0FE;\n",
              "      border: none;\n",
              "      border-radius: 50%;\n",
              "      cursor: pointer;\n",
              "      display: none;\n",
              "      fill: #1967D2;\n",
              "      height: 32px;\n",
              "      padding: 0 0 0 0;\n",
              "      width: 32px;\n",
              "    }\n",
              "\n",
              "    .colab-df-convert:hover {\n",
              "      background-color: #E2EBFA;\n",
              "      box-shadow: 0px 1px 2px rgba(60, 64, 67, 0.3), 0px 1px 3px 1px rgba(60, 64, 67, 0.15);\n",
              "      fill: #174EA6;\n",
              "    }\n",
              "\n",
              "    [theme=dark] .colab-df-convert {\n",
              "      background-color: #3B4455;\n",
              "      fill: #D2E3FC;\n",
              "    }\n",
              "\n",
              "    [theme=dark] .colab-df-convert:hover {\n",
              "      background-color: #434B5C;\n",
              "      box-shadow: 0px 1px 3px 1px rgba(0, 0, 0, 0.15);\n",
              "      filter: drop-shadow(0px 1px 2px rgba(0, 0, 0, 0.3));\n",
              "      fill: #FFFFFF;\n",
              "    }\n",
              "  </style>\n",
              "\n",
              "      <script>\n",
              "        const buttonEl =\n",
              "          document.querySelector('#df-b71073ca-13f0-4766-8ec2-f5b4129b5679 button.colab-df-convert');\n",
              "        buttonEl.style.display =\n",
              "          google.colab.kernel.accessAllowed ? 'block' : 'none';\n",
              "\n",
              "        async function convertToInteractive(key) {\n",
              "          const element = document.querySelector('#df-b71073ca-13f0-4766-8ec2-f5b4129b5679');\n",
              "          const dataTable =\n",
              "            await google.colab.kernel.invokeFunction('convertToInteractive',\n",
              "                                                     [key], {});\n",
              "          if (!dataTable) return;\n",
              "\n",
              "          const docLinkHtml = 'Like what you see? Visit the ' +\n",
              "            '<a target=\"_blank\" href=https://colab.research.google.com/notebooks/data_table.ipynb>data table notebook</a>'\n",
              "            + ' to learn more about interactive tables.';\n",
              "          element.innerHTML = '';\n",
              "          dataTable['output_type'] = 'display_data';\n",
              "          await google.colab.output.renderOutput(dataTable, element);\n",
              "          const docLink = document.createElement('div');\n",
              "          docLink.innerHTML = docLinkHtml;\n",
              "          element.appendChild(docLink);\n",
              "        }\n",
              "      </script>\n",
              "    </div>\n",
              "  </div>\n",
              "  "
            ]
          },
          "metadata": {},
          "execution_count": 43
        }
      ]
    },
    {
      "cell_type": "code",
      "source": [
        "reviews_florida.shape"
      ],
      "metadata": {
        "colab": {
          "base_uri": "https://localhost:8080/"
        },
        "id": "u639NMvqBDzM",
        "outputId": "a8401a43-cd72-424f-b42c-a10171f2336a"
      },
      "execution_count": null,
      "outputs": [
        {
          "output_type": "execute_result",
          "data": {
            "text/plain": [
              "(150000, 8)"
            ]
          },
          "metadata": {},
          "execution_count": 44
        }
      ]
    },
    {
      "cell_type": "code",
      "source": [
        "reviews_florida.columns"
      ],
      "metadata": {
        "colab": {
          "base_uri": "https://localhost:8080/"
        },
        "id": "gOjhUBbPBDo-",
        "outputId": "ce3f9a9f-7e4b-4381-cce4-66a898028d91"
      },
      "execution_count": null,
      "outputs": [
        {
          "output_type": "execute_result",
          "data": {
            "text/plain": [
              "Index(['user_id', 'name', 'time', 'rating', 'text', 'pics', 'resp', 'gmap_id'], dtype='object')"
            ]
          },
          "metadata": {},
          "execution_count": 45
        }
      ]
    },
    {
      "cell_type": "markdown",
      "source": [
        "*   user_id = id del usuario que hace la reseña\n",
        "*   name = nombre del usuario\n",
        "*   time = fecha en que se realizo la reseña\n",
        "*   rating = calificación dada por el usuario del 1 al 5\n",
        "*   text = reseña del usuario\n",
        "*   pics = url de las fotos que acompañan a la reseña\n",
        "*   resp = respuesta de la reseña por parte del negocio, contiene de forma anidada una fecha y un texto\n",
        "*   gmap_id = id del mapa"
      ],
      "metadata": {
        "id": "XJq1SDGpBVy9"
      }
    },
    {
      "cell_type": "code",
      "source": [
        "''' Transformamos la columna 'time' a formato date ''' \n",
        "\n",
        "reviews_florida['time'] = pd.to_datetime(reviews_florida['time'], unit='ms')#.dt.strftime('%Y - %m - %d')"
      ],
      "metadata": {
        "id": "8KeQlvFVBWum"
      },
      "execution_count": null,
      "outputs": []
    },
    {
      "cell_type": "code",
      "source": [
        "reviews_florida.time"
      ],
      "metadata": {
        "colab": {
          "base_uri": "https://localhost:8080/"
        },
        "id": "XT8wBuilBWl0",
        "outputId": "9cf896f1-06d4-43e4-9452-3ba5efc09cab"
      },
      "execution_count": null,
      "outputs": [
        {
          "output_type": "execute_result",
          "data": {
            "text/plain": [
              "0        2018-01-03 12:00:03.126\n",
              "1        2017-06-17 21:32:09.902\n",
              "2        2017-05-24 19:21:54.688\n",
              "3        2017-12-28 18:45:33.158\n",
              "4        2017-10-21 12:34:54.156\n",
              "                   ...          \n",
              "149995   2019-09-18 16:55:10.365\n",
              "149996   2011-05-02 05:03:36.934\n",
              "149997   2016-12-24 15:26:34.868\n",
              "149998   2019-11-22 23:22:41.974\n",
              "149999   2017-02-18 20:59:05.236\n",
              "Name: time, Length: 150000, dtype: datetime64[ns]"
            ]
          },
          "metadata": {},
          "execution_count": 47
        }
      ]
    },
    {
      "cell_type": "code",
      "source": [
        "#Usuarios unicos\n",
        "print(f\"Hay {len(reviews_florida['user_id'].unique())} usuarios unicos\")"
      ],
      "metadata": {
        "colab": {
          "base_uri": "https://localhost:8080/"
        },
        "id": "1Hjyw51eBWht",
        "outputId": "8539d133-bedd-4c91-acd3-e898239979b3"
      },
      "execution_count": null,
      "outputs": [
        {
          "output_type": "stream",
          "name": "stdout",
          "text": [
            "Hay 124704 usuarios unicos\n"
          ]
        }
      ]
    },
    {
      "cell_type": "markdown",
      "source": [
        "## Valores faltantes"
      ],
      "metadata": {
        "id": "8RxncHH1Bim1"
      }
    },
    {
      "cell_type": "code",
      "source": [
        "reviews_florida.isnull().sum().sort_values(ascending = False)"
      ],
      "metadata": {
        "colab": {
          "base_uri": "https://localhost:8080/"
        },
        "id": "D-DSE3nxBiG2",
        "outputId": "24122427-708f-4e60-e58c-e941bb0c57a4"
      },
      "execution_count": null,
      "outputs": [
        {
          "output_type": "execute_result",
          "data": {
            "text/plain": [
              "pics       144656\n",
              "resp       122099\n",
              "text        57191\n",
              "user_id         0\n",
              "name            0\n",
              "time            0\n",
              "rating          0\n",
              "gmap_id         0\n",
              "dtype: int64"
            ]
          },
          "metadata": {},
          "execution_count": 49
        }
      ]
    },
    {
      "cell_type": "code",
      "source": [
        "plt.figure(figsize= (25,12))\n",
        "sns.heatmap(reviews_florida.isnull())\n",
        "plt.show()"
      ],
      "metadata": {
        "colab": {
          "base_uri": "https://localhost:8080/",
          "height": 706
        },
        "id": "H2P8Sn7rBp7j",
        "outputId": "f07b95e0-e115-49db-c607-3205b2c2b49d"
      },
      "execution_count": null,
      "outputs": [
        {
          "output_type": "display_data",
          "data": {
            "text/plain": [
              "<Figure size 1800x864 with 2 Axes>"
            ],
            "image/png": "[encoded data removed]"
          },
          "metadata": {
            "needs_background": "light"
          }
        }
      ]
    },
    {
      "cell_type": "markdown",
      "source": [
        "##Valores atípicos"
      ],
      "metadata": {
        "id": "KSFLQGxrBx5M"
      }
    },
    {
      "cell_type": "markdown",
      "source": [
        "Valores atípicos de la columna rating"
      ],
      "metadata": {
        "id": "EFSQRQs9B1wV"
      }
    },
    {
      "cell_type": "code",
      "source": [
        "sns.boxplot(x = 'rating', data = reviews_florida)\n",
        "plt.show()"
      ],
      "metadata": {
        "colab": {
          "base_uri": "https://localhost:8080/",
          "height": 279
        },
        "id": "jxV0BiPWBuYM",
        "outputId": "152253bc-a3de-4f6c-c411-b1111bd089ce"
      },
      "execution_count": null,
      "outputs": [
        {
          "output_type": "display_data",
          "data": {
            "text/plain": [
              "<Figure size 432x288 with 1 Axes>"
            ],
            "image/png": "[encoded data removed]"
          },
          "metadata": {
            "needs_background": "light"
          }
        }
      ]
    },
    {
      "cell_type": "code",
      "source": [
        "reviews_florida.rating.min()"
      ],
      "metadata": {
        "colab": {
          "base_uri": "https://localhost:8080/"
        },
        "id": "EePufLdCB6Dr",
        "outputId": "a50d3dba-b5ef-4e1b-dcd0-3e516899af64"
      },
      "execution_count": null,
      "outputs": [
        {
          "output_type": "execute_result",
          "data": {
            "text/plain": [
              "1"
            ]
          },
          "metadata": {},
          "execution_count": 52
        }
      ]
    },
    {
      "cell_type": "code",
      "source": [
        "reviews_florida.rating.max()"
      ],
      "metadata": {
        "colab": {
          "base_uri": "https://localhost:8080/"
        },
        "id": "Tm8XebOJB-G8",
        "outputId": "46bebfb2-2235-4162-8135-4db8ff521475"
      },
      "execution_count": null,
      "outputs": [
        {
          "output_type": "execute_result",
          "data": {
            "text/plain": [
              "5"
            ]
          },
          "metadata": {},
          "execution_count": 54
        }
      ]
    },
    {
      "cell_type": "markdown",
      "source": [
        "## Valores duplicados"
      ],
      "metadata": {
        "id": "w8tbDXRvCEac"
      }
    },
    {
      "cell_type": "code",
      "source": [
        "''' Eliminamos aquellas columnas que tienen listas anidadas '''\n",
        "reviews_florida.drop(columns= ['name','pics', 'resp'], inplace=True)"
      ],
      "metadata": {
        "id": "iml1b91RCFfs"
      },
      "execution_count": null,
      "outputs": []
    },
    {
      "cell_type": "code",
      "source": [
        "print(f\"Hay {reviews_florida.duplicated().sum()} valores duplicados\")"
      ],
      "metadata": {
        "colab": {
          "base_uri": "https://localhost:8080/"
        },
        "id": "pig2ChU1CKoL",
        "outputId": "b7145a25-9c1c-4ac9-dbbe-a1024855a601"
      },
      "execution_count": null,
      "outputs": [
        {
          "output_type": "stream",
          "name": "stdout",
          "text": [
            "Hay 6500 valores duplicados\n"
          ]
        }
      ]
    },
    {
      "cell_type": "code",
      "source": [
        "duplicados = reviews_florida.duplicated()\n",
        "\n",
        "num_duplicados = duplicados.sum()\n",
        "num_no_duplicados = len(reviews_florida) - num_duplicados"
      ],
      "metadata": {
        "id": "Tpk3hXN1CNtM"
      },
      "execution_count": null,
      "outputs": []
    },
    {
      "cell_type": "code",
      "source": [
        "sns.countplot(x= duplicados, palette='Set1')\n",
        "plt.title('Duplicados en DataFrame')\n",
        "plt.xlabel('Duplicados')\n",
        "plt.ylabel('Cantidad')\n",
        "plt.xticks([0, 1], ['No', 'Sí'])\n",
        "plt.show()"
      ],
      "metadata": {
        "colab": {
          "base_uri": "https://localhost:8080/",
          "height": 295
        },
        "id": "xrydRZNQCUbb",
        "outputId": "9a0c347a-c60a-4c1a-8488-6789496fe3d8"
      },
      "execution_count": null,
      "outputs": [
        {
          "output_type": "display_data",
          "data": {
            "text/plain": [
              "<Figure size 432x288 with 1 Axes>"
            ],
            "image/png": "[encoded data removed]"
          },
          "metadata": {
            "needs_background": "light"
          }
        }
      ]
    },
    {
      "cell_type": "markdown",
      "source": [
        "# **Estado de Pennsylvania**"
      ],
      "metadata": {
        "id": "vry7ZIP1CZD-"
      }
    },
    {
      "cell_type": "code",
      "source": [
        "''' Abrimos el primer archivo .json de las reviews referidas al estado de Pennysylvania '''\n",
        "blob = bucket.blob('Google-Maps/reviews-estados/review-Pennsylvania/13.json')\n",
        "datos_str = blob.download_as_string()\n",
        "reviews_penny = pd.read_json(datos_str, lines=True)\n",
        "reviews_penny"
      ],
      "metadata": {
        "colab": {
          "base_uri": "https://localhost:8080/",
          "height": 519
        },
        "id": "Z4CyXy13Cogj",
        "outputId": "94afc710-fd84-47c4-ff8a-98c9714d494d"
      },
      "execution_count": null,
      "outputs": [
        {
          "output_type": "execute_result",
          "data": {
            "text/plain": [
              "             user_id               name           time  rating  \\\n",
              "0       1.076011e+20        Dan Carlson  1545329865857       5   \n",
              "1       1.150751e+20      Clay Fawthorp  1576458986615       5   \n",
              "2       1.010987e+20        jose nieves  1600815924489       5   \n",
              "3       1.125445e+20                R M  1534458115931       5   \n",
              "4       1.044814e+20    John DiGiuseppe  1546744348230       5   \n",
              "...              ...                ...            ...     ...   \n",
              "149995  1.064576e+20     Jason Mcclosky  1558783762846       5   \n",
              "149996  1.136654e+20  Sherrie Zataweski  1561107358438       5   \n",
              "149997  1.074070e+20              Tom H  1521531505990       5   \n",
              "149998  1.149843e+20   Noreen Preteroti  1547679917919       5   \n",
              "149999  1.043106e+20     Alexandra King  1533221994563       5   \n",
              "\n",
              "                                                     text  pics  \\\n",
              "0       This store & shop is the best one in the area....  None   \n",
              "1       Very knowledgeable staff. Great customer exper...  None   \n",
              "2       From start to finish,  the team at Trek in Wes...  None   \n",
              "3       Great customer service and repair capabilities...  None   \n",
              "4       Mike and Bill were outstanding. Today’s bikes ...  None   \n",
              "...                                                   ...   ...   \n",
              "149995                                          Authentic  None   \n",
              "149996                                                Yum  None   \n",
              "149997                                 Pizza is fantastic  None   \n",
              "149998                                        Great food!  None   \n",
              "149999                                        Delicious!!  None   \n",
              "\n",
              "                                                     resp  \\\n",
              "0                                                    None   \n",
              "1       {'time': 1576794810532, 'text': 'Thanks for th...   \n",
              "2       {'time': 1557159598666, 'text': 'Love to hear ...   \n",
              "3                                                    None   \n",
              "4                                                    None   \n",
              "...                                                   ...   \n",
              "149995                                               None   \n",
              "149996                                               None   \n",
              "149997                                               None   \n",
              "149998                                               None   \n",
              "149999                                               None   \n",
              "\n",
              "                                      gmap_id  \n",
              "0       0x89c6f1636d3657b1:0x1751fb816d53e479  \n",
              "1       0x89c6f1636d3657b1:0x1751fb816d53e479  \n",
              "2       0x89c6f1636d3657b1:0x1751fb816d53e479  \n",
              "3       0x89c6f1636d3657b1:0x1751fb816d53e479  \n",
              "4       0x89c6f1636d3657b1:0x1751fb816d53e479  \n",
              "...                                       ...  \n",
              "149995  0x8835aca94c7c006f:0x7f0c203c796f881d  \n",
              "149996  0x8835aca94c7c006f:0x7f0c203c796f881d  \n",
              "149997  0x8835aca94c7c006f:0x7f0c203c796f881d  \n",
              "149998  0x8835aca94c7c006f:0x7f0c203c796f881d  \n",
              "149999  0x8835aca94c7c006f:0x7f0c203c796f881d  \n",
              "\n",
              "[150000 rows x 8 columns]"
            ],
            "text/html": [
              "\n",
              "  <div id=\"df-025ea058-ff4d-4138-9599-836e6892429c\">\n",
              "    <div class=\"colab-df-container\">\n",
              "      <div>\n",
              "<style scoped>\n",
              "    .dataframe tbody tr th:only-of-type {\n",
              "        vertical-align: middle;\n",
              "    }\n",
              "\n",
              "    .dataframe tbody tr th {\n",
              "        vertical-align: top;\n",
              "    }\n",
              "\n",
              "    .dataframe thead th {\n",
              "        text-align: right;\n",
              "    }\n",
              "</style>\n",
              "<table border=\"1\" class=\"dataframe\">\n",
              "  <thead>\n",
              "    <tr style=\"text-align: right;\">\n",
              "      <th></th>\n",
              "      <th>user_id</th>\n",
              "      <th>name</th>\n",
              "      <th>time</th>\n",
              "      <th>rating</th>\n",
              "      <th>text</th>\n",
              "      <th>pics</th>\n",
              "      <th>resp</th>\n",
              "      <th>gmap_id</th>\n",
              "    </tr>\n",
              "  </thead>\n",
              "  <tbody>\n",
              "    <tr>\n",
              "      <th>0</th>\n",
              "      <td>1.076011e+20</td>\n",
              "      <td>Dan Carlson</td>\n",
              "      <td>1545329865857</td>\n",
              "      <td>5</td>\n",
              "      <td>This store &amp; shop is the best one in the area....</td>\n",
              "      <td>None</td>\n",
              "      <td>None</td>\n",
              "      <td>0x89c6f1636d3657b1:0x1751fb816d53e479</td>\n",
              "    </tr>\n",
              "    <tr>\n",
              "      <th>1</th>\n",
              "      <td>1.150751e+20</td>\n",
              "      <td>Clay Fawthorp</td>\n",
              "      <td>1576458986615</td>\n",
              "      <td>5</td>\n",
              "      <td>Very knowledgeable staff. Great customer exper...</td>\n",
              "      <td>None</td>\n",
              "      <td>{'time': 1576794810532, 'text': 'Thanks for th...</td>\n",
              "      <td>0x89c6f1636d3657b1:0x1751fb816d53e479</td>\n",
              "    </tr>\n",
              "    <tr>\n",
              "      <th>2</th>\n",
              "      <td>1.010987e+20</td>\n",
              "      <td>jose nieves</td>\n",
              "      <td>1600815924489</td>\n",
              "      <td>5</td>\n",
              "      <td>From start to finish,  the team at Trek in Wes...</td>\n",
              "      <td>None</td>\n",
              "      <td>{'time': 1557159598666, 'text': 'Love to hear ...</td>\n",
              "      <td>0x89c6f1636d3657b1:0x1751fb816d53e479</td>\n",
              "    </tr>\n",
              "    <tr>\n",
              "      <th>3</th>\n",
              "      <td>1.125445e+20</td>\n",
              "      <td>R M</td>\n",
              "      <td>1534458115931</td>\n",
              "      <td>5</td>\n",
              "      <td>Great customer service and repair capabilities...</td>\n",
              "      <td>None</td>\n",
              "      <td>None</td>\n",
              "      <td>0x89c6f1636d3657b1:0x1751fb816d53e479</td>\n",
              "    </tr>\n",
              "    <tr>\n",
              "      <th>4</th>\n",
              "      <td>1.044814e+20</td>\n",
              "      <td>John DiGiuseppe</td>\n",
              "      <td>1546744348230</td>\n",
              "      <td>5</td>\n",
              "      <td>Mike and Bill were outstanding. Today’s bikes ...</td>\n",
              "      <td>None</td>\n",
              "      <td>None</td>\n",
              "      <td>0x89c6f1636d3657b1:0x1751fb816d53e479</td>\n",
              "    </tr>\n",
              "    <tr>\n",
              "      <th>...</th>\n",
              "      <td>...</td>\n",
              "      <td>...</td>\n",
              "      <td>...</td>\n",
              "      <td>...</td>\n",
              "      <td>...</td>\n",
              "      <td>...</td>\n",
              "      <td>...</td>\n",
              "      <td>...</td>\n",
              "    </tr>\n",
              "    <tr>\n",
              "      <th>149995</th>\n",
              "      <td>1.064576e+20</td>\n",
              "      <td>Jason Mcclosky</td>\n",
              "      <td>1558783762846</td>\n",
              "      <td>5</td>\n",
              "      <td>Authentic</td>\n",
              "      <td>None</td>\n",
              "      <td>None</td>\n",
              "      <td>0x8835aca94c7c006f:0x7f0c203c796f881d</td>\n",
              "    </tr>\n",
              "    <tr>\n",
              "      <th>149996</th>\n",
              "      <td>1.136654e+20</td>\n",
              "      <td>Sherrie Zataweski</td>\n",
              "      <td>1561107358438</td>\n",
              "      <td>5</td>\n",
              "      <td>Yum</td>\n",
              "      <td>None</td>\n",
              "      <td>None</td>\n",
              "      <td>0x8835aca94c7c006f:0x7f0c203c796f881d</td>\n",
              "    </tr>\n",
              "    <tr>\n",
              "      <th>149997</th>\n",
              "      <td>1.074070e+20</td>\n",
              "      <td>Tom H</td>\n",
              "      <td>1521531505990</td>\n",
              "      <td>5</td>\n",
              "      <td>Pizza is fantastic</td>\n",
              "      <td>None</td>\n",
              "      <td>None</td>\n",
              "      <td>0x8835aca94c7c006f:0x7f0c203c796f881d</td>\n",
              "    </tr>\n",
              "    <tr>\n",
              "      <th>149998</th>\n",
              "      <td>1.149843e+20</td>\n",
              "      <td>Noreen Preteroti</td>\n",
              "      <td>1547679917919</td>\n",
              "      <td>5</td>\n",
              "      <td>Great food!</td>\n",
              "      <td>None</td>\n",
              "      <td>None</td>\n",
              "      <td>0x8835aca94c7c006f:0x7f0c203c796f881d</td>\n",
              "    </tr>\n",
              "    <tr>\n",
              "      <th>149999</th>\n",
              "      <td>1.043106e+20</td>\n",
              "      <td>Alexandra King</td>\n",
              "      <td>1533221994563</td>\n",
              "      <td>5</td>\n",
              "      <td>Delicious!!</td>\n",
              "      <td>None</td>\n",
              "      <td>None</td>\n",
              "      <td>0x8835aca94c7c006f:0x7f0c203c796f881d</td>\n",
              "    </tr>\n",
              "  </tbody>\n",
              "</table>\n",
              "<p>150000 rows × 8 columns</p>\n",
              "</div>\n",
              "      <button class=\"colab-df-convert\" onclick=\"convertToInteractive('df-025ea058-ff4d-4138-9599-836e6892429c')\"\n",
              "              title=\"Convert this dataframe to an interactive table.\"\n",
              "              style=\"display:none;\">\n",
              "        \n",
              "  <svg xmlns=\"http://www.w3.org/2000/svg\" height=\"24px\"viewBox=\"0 0 24 24\"\n",
              "       width=\"24px\">\n",
              "    <path d=\"M0 0h24v24H0V0z\" fill=\"none\"/>\n",
              "    <path d=\"M18.56 5.44l.94 2.06.94-2.06 2.06-.94-2.06-.94-.94-2.06-.94 2.06-2.06.94zm-11 1L8.5 8.5l.94-2.06 2.06-.94-2.06-.94L8.5 2.5l-.94 2.06-2.06.94zm10 10l.94 2.06.94-2.06 2.06-.94-2.06-.94-.94-2.06-.94 2.06-2.06.94z\"/><path d=\"M17.41 7.96l-1.37-1.37c-.4-.4-.92-.59-1.43-.59-.52 0-1.04.2-1.43.59L10.3 9.45l-7.72 7.72c-.78.78-.78 2.05 0 2.83L4 21.41c.39.39.9.59 1.41.59.51 0 1.02-.2 1.41-.59l7.78-7.78 2.81-2.81c.8-.78.8-2.07 0-2.86zM5.41 20L4 18.59l7.72-7.72 1.47 1.35L5.41 20z\"/>\n",
              "  </svg>\n",
              "      </button>\n",
              "      \n",
              "  <style>\n",
              "    .colab-df-container {\n",
              "      display:flex;\n",
              "      flex-wrap:wrap;\n",
              "      gap: 12px;\n",
              "    }\n",
              "\n",
              "    .colab-df-convert {\n",
              "      background-color: #E8F0FE;\n",
              "      border: none;\n",
              "      border-radius: 50%;\n",
              "      cursor: pointer;\n",
              "      display: none;\n",
              "      fill: #1967D2;\n",
              "      height: 32px;\n",
              "      padding: 0 0 0 0;\n",
              "      width: 32px;\n",
              "    }\n",
              "\n",
              "    .colab-df-convert:hover {\n",
              "      background-color: #E2EBFA;\n",
              "      box-shadow: 0px 1px 2px rgba(60, 64, 67, 0.3), 0px 1px 3px 1px rgba(60, 64, 67, 0.15);\n",
              "      fill: #174EA6;\n",
              "    }\n",
              "\n",
              "    [theme=dark] .colab-df-convert {\n",
              "      background-color: #3B4455;\n",
              "      fill: #D2E3FC;\n",
              "    }\n",
              "\n",
              "    [theme=dark] .colab-df-convert:hover {\n",
              "      background-color: #434B5C;\n",
              "      box-shadow: 0px 1px 3px 1px rgba(0, 0, 0, 0.15);\n",
              "      filter: drop-shadow(0px 1px 2px rgba(0, 0, 0, 0.3));\n",
              "      fill: #FFFFFF;\n",
              "    }\n",
              "  </style>\n",
              "\n",
              "      <script>\n",
              "        const buttonEl =\n",
              "          document.querySelector('#df-025ea058-ff4d-4138-9599-836e6892429c button.colab-df-convert');\n",
              "        buttonEl.style.display =\n",
              "          google.colab.kernel.accessAllowed ? 'block' : 'none';\n",
              "\n",
              "        async function convertToInteractive(key) {\n",
              "          const element = document.querySelector('#df-025ea058-ff4d-4138-9599-836e6892429c');\n",
              "          const dataTable =\n",
              "            await google.colab.kernel.invokeFunction('convertToInteractive',\n",
              "                                                     [key], {});\n",
              "          if (!dataTable) return;\n",
              "\n",
              "          const docLinkHtml = 'Like what you see? Visit the ' +\n",
              "            '<a target=\"_blank\" href=https://colab.research.google.com/notebooks/data_table.ipynb>data table notebook</a>'\n",
              "            + ' to learn more about interactive tables.';\n",
              "          element.innerHTML = '';\n",
              "          dataTable['output_type'] = 'display_data';\n",
              "          await google.colab.output.renderOutput(dataTable, element);\n",
              "          const docLink = document.createElement('div');\n",
              "          docLink.innerHTML = docLinkHtml;\n",
              "          element.appendChild(docLink);\n",
              "        }\n",
              "      </script>\n",
              "    </div>\n",
              "  </div>\n",
              "  "
            ]
          },
          "metadata": {},
          "execution_count": 60
        }
      ]
    },
    {
      "cell_type": "code",
      "source": [
        "''' Visualizamos el tipo de dato de cada columna '''\n",
        "reviews_penny.info()"
      ],
      "metadata": {
        "colab": {
          "base_uri": "https://localhost:8080/"
        },
        "id": "iK5GzHh7DRlB",
        "outputId": "b5989676-18f5-4859-aec2-141d00046d5a"
      },
      "execution_count": null,
      "outputs": [
        {
          "output_type": "stream",
          "name": "stdout",
          "text": [
            "<class 'pandas.core.frame.DataFrame'>\n",
            "RangeIndex: 150000 entries, 0 to 149999\n",
            "Data columns (total 8 columns):\n",
            " #   Column   Non-Null Count   Dtype  \n",
            "---  ------   --------------   -----  \n",
            " 0   user_id  150000 non-null  float64\n",
            " 1   name     150000 non-null  object \n",
            " 2   time     150000 non-null  int64  \n",
            " 3   rating   150000 non-null  int64  \n",
            " 4   text     84073 non-null   object \n",
            " 5   pics     3542 non-null    object \n",
            " 6   resp     17112 non-null   object \n",
            " 7   gmap_id  150000 non-null  object \n",
            "dtypes: float64(1), int64(2), object(5)\n",
            "memory usage: 9.2+ MB\n"
          ]
        }
      ]
    },
    {
      "cell_type": "code",
      "source": [
        "reviews_penny.describe()"
      ],
      "metadata": {
        "colab": {
          "base_uri": "https://localhost:8080/",
          "height": 300
        },
        "id": "2FuXceVrDRic",
        "outputId": "4dc22939-e202-4b7d-931b-e66ea786f723"
      },
      "execution_count": null,
      "outputs": [
        {
          "output_type": "execute_result",
          "data": {
            "text/plain": [
              "            user_id          time         rating\n",
              "count  1.500000e+05  1.500000e+05  150000.000000\n",
              "mean   1.092578e+20  1.552191e+12       4.360033\n",
              "std    5.298905e+18  4.134412e+10       1.065215\n",
              "min    1.000000e+20  1.140134e+12       1.000000\n",
              "25%    1.046734e+20  1.526039e+12       4.000000\n",
              "50%    1.092572e+20  1.554926e+12       5.000000\n",
              "75%    1.138387e+20  1.580267e+12       5.000000\n",
              "max    1.184467e+20  1.622455e+12       5.000000"
            ],
            "text/html": [
              "\n",
              "  <div id=\"df-a0b5d610-539b-4698-8cae-c1dab5158130\">\n",
              "    <div class=\"colab-df-container\">\n",
              "      <div>\n",
              "<style scoped>\n",
              "    .dataframe tbody tr th:only-of-type {\n",
              "        vertical-align: middle;\n",
              "    }\n",
              "\n",
              "    .dataframe tbody tr th {\n",
              "        vertical-align: top;\n",
              "    }\n",
              "\n",
              "    .dataframe thead th {\n",
              "        text-align: right;\n",
              "    }\n",
              "</style>\n",
              "<table border=\"1\" class=\"dataframe\">\n",
              "  <thead>\n",
              "    <tr style=\"text-align: right;\">\n",
              "      <th></th>\n",
              "      <th>user_id</th>\n",
              "      <th>time</th>\n",
              "      <th>rating</th>\n",
              "    </tr>\n",
              "  </thead>\n",
              "  <tbody>\n",
              "    <tr>\n",
              "      <th>count</th>\n",
              "      <td>1.500000e+05</td>\n",
              "      <td>1.500000e+05</td>\n",
              "      <td>150000.000000</td>\n",
              "    </tr>\n",
              "    <tr>\n",
              "      <th>mean</th>\n",
              "      <td>1.092578e+20</td>\n",
              "      <td>1.552191e+12</td>\n",
              "      <td>4.360033</td>\n",
              "    </tr>\n",
              "    <tr>\n",
              "      <th>std</th>\n",
              "      <td>5.298905e+18</td>\n",
              "      <td>4.134412e+10</td>\n",
              "      <td>1.065215</td>\n",
              "    </tr>\n",
              "    <tr>\n",
              "      <th>min</th>\n",
              "      <td>1.000000e+20</td>\n",
              "      <td>1.140134e+12</td>\n",
              "      <td>1.000000</td>\n",
              "    </tr>\n",
              "    <tr>\n",
              "      <th>25%</th>\n",
              "      <td>1.046734e+20</td>\n",
              "      <td>1.526039e+12</td>\n",
              "      <td>4.000000</td>\n",
              "    </tr>\n",
              "    <tr>\n",
              "      <th>50%</th>\n",
              "      <td>1.092572e+20</td>\n",
              "      <td>1.554926e+12</td>\n",
              "      <td>5.000000</td>\n",
              "    </tr>\n",
              "    <tr>\n",
              "      <th>75%</th>\n",
              "      <td>1.138387e+20</td>\n",
              "      <td>1.580267e+12</td>\n",
              "      <td>5.000000</td>\n",
              "    </tr>\n",
              "    <tr>\n",
              "      <th>max</th>\n",
              "      <td>1.184467e+20</td>\n",
              "      <td>1.622455e+12</td>\n",
              "      <td>5.000000</td>\n",
              "    </tr>\n",
              "  </tbody>\n",
              "</table>\n",
              "</div>\n",
              "      <button class=\"colab-df-convert\" onclick=\"convertToInteractive('df-a0b5d610-539b-4698-8cae-c1dab5158130')\"\n",
              "              title=\"Convert this dataframe to an interactive table.\"\n",
              "              style=\"display:none;\">\n",
              "        \n",
              "  <svg xmlns=\"http://www.w3.org/2000/svg\" height=\"24px\"viewBox=\"0 0 24 24\"\n",
              "       width=\"24px\">\n",
              "    <path d=\"M0 0h24v24H0V0z\" fill=\"none\"/>\n",
              "    <path d=\"M18.56 5.44l.94 2.06.94-2.06 2.06-.94-2.06-.94-.94-2.06-.94 2.06-2.06.94zm-11 1L8.5 8.5l.94-2.06 2.06-.94-2.06-.94L8.5 2.5l-.94 2.06-2.06.94zm10 10l.94 2.06.94-2.06 2.06-.94-2.06-.94-.94-2.06-.94 2.06-2.06.94z\"/><path d=\"M17.41 7.96l-1.37-1.37c-.4-.4-.92-.59-1.43-.59-.52 0-1.04.2-1.43.59L10.3 9.45l-7.72 7.72c-.78.78-.78 2.05 0 2.83L4 21.41c.39.39.9.59 1.41.59.51 0 1.02-.2 1.41-.59l7.78-7.78 2.81-2.81c.8-.78.8-2.07 0-2.86zM5.41 20L4 18.59l7.72-7.72 1.47 1.35L5.41 20z\"/>\n",
              "  </svg>\n",
              "      </button>\n",
              "      \n",
              "  <style>\n",
              "    .colab-df-container {\n",
              "      display:flex;\n",
              "      flex-wrap:wrap;\n",
              "      gap: 12px;\n",
              "    }\n",
              "\n",
              "    .colab-df-convert {\n",
              "      background-color: #E8F0FE;\n",
              "      border: none;\n",
              "      border-radius: 50%;\n",
              "      cursor: pointer;\n",
              "      display: none;\n",
              "      fill: #1967D2;\n",
              "      height: 32px;\n",
              "      padding: 0 0 0 0;\n",
              "      width: 32px;\n",
              "    }\n",
              "\n",
              "    .colab-df-convert:hover {\n",
              "      background-color: #E2EBFA;\n",
              "      box-shadow: 0px 1px 2px rgba(60, 64, 67, 0.3), 0px 1px 3px 1px rgba(60, 64, 67, 0.15);\n",
              "      fill: #174EA6;\n",
              "    }\n",
              "\n",
              "    [theme=dark] .colab-df-convert {\n",
              "      background-color: #3B4455;\n",
              "      fill: #D2E3FC;\n",
              "    }\n",
              "\n",
              "    [theme=dark] .colab-df-convert:hover {\n",
              "      background-color: #434B5C;\n",
              "      box-shadow: 0px 1px 3px 1px rgba(0, 0, 0, 0.15);\n",
              "      filter: drop-shadow(0px 1px 2px rgba(0, 0, 0, 0.3));\n",
              "      fill: #FFFFFF;\n",
              "    }\n",
              "  </style>\n",
              "\n",
              "      <script>\n",
              "        const buttonEl =\n",
              "          document.querySelector('#df-a0b5d610-539b-4698-8cae-c1dab5158130 button.colab-df-convert');\n",
              "        buttonEl.style.display =\n",
              "          google.colab.kernel.accessAllowed ? 'block' : 'none';\n",
              "\n",
              "        async function convertToInteractive(key) {\n",
              "          const element = document.querySelector('#df-a0b5d610-539b-4698-8cae-c1dab5158130');\n",
              "          const dataTable =\n",
              "            await google.colab.kernel.invokeFunction('convertToInteractive',\n",
              "                                                     [key], {});\n",
              "          if (!dataTable) return;\n",
              "\n",
              "          const docLinkHtml = 'Like what you see? Visit the ' +\n",
              "            '<a target=\"_blank\" href=https://colab.research.google.com/notebooks/data_table.ipynb>data table notebook</a>'\n",
              "            + ' to learn more about interactive tables.';\n",
              "          element.innerHTML = '';\n",
              "          dataTable['output_type'] = 'display_data';\n",
              "          await google.colab.output.renderOutput(dataTable, element);\n",
              "          const docLink = document.createElement('div');\n",
              "          docLink.innerHTML = docLinkHtml;\n",
              "          element.appendChild(docLink);\n",
              "        }\n",
              "      </script>\n",
              "    </div>\n",
              "  </div>\n",
              "  "
            ]
          },
          "metadata": {},
          "execution_count": 62
        }
      ]
    },
    {
      "cell_type": "code",
      "source": [
        "reviews_penny.shape"
      ],
      "metadata": {
        "colab": {
          "base_uri": "https://localhost:8080/"
        },
        "id": "FaJRbJQ2DRfu",
        "outputId": "da3f941a-6186-43b0-8cac-04dbb526c6a5"
      },
      "execution_count": null,
      "outputs": [
        {
          "output_type": "execute_result",
          "data": {
            "text/plain": [
              "(150000, 8)"
            ]
          },
          "metadata": {},
          "execution_count": 63
        }
      ]
    },
    {
      "cell_type": "code",
      "source": [
        "reviews_penny.columns"
      ],
      "metadata": {
        "colab": {
          "base_uri": "https://localhost:8080/"
        },
        "id": "Z5TqTOyEDRbL",
        "outputId": "0db860ba-e1ee-4107-e864-d4c6b40892cd"
      },
      "execution_count": null,
      "outputs": [
        {
          "output_type": "execute_result",
          "data": {
            "text/plain": [
              "Index(['user_id', 'name', 'time', 'rating', 'text', 'pics', 'resp', 'gmap_id'], dtype='object')"
            ]
          },
          "metadata": {},
          "execution_count": 64
        }
      ]
    },
    {
      "cell_type": "markdown",
      "source": [
        "*   user_id = id del usuario que hace la reseña\n",
        "*   name = nombre del usuario\n",
        "*   time = fecha en que se realizo la reseña\n",
        "*   rating = calificación dada por el usuario del 1 al 5\n",
        "*   text = reseña del usuario\n",
        "*   pics = url de las fotos que acompañan a la reseña\n",
        "*   resp = respuesta de la reseña por parte del negocio, contiene de forma anidada una fecha y un texto\n",
        "*   gmap_id = id del mapa"
      ],
      "metadata": {
        "id": "GdImqoIEDfwc"
      }
    },
    {
      "cell_type": "code",
      "source": [
        "''' Transformamos la columna 'time' a formato date ''' \n",
        "\n",
        "reviews_penny['time'] = pd.to_datetime(reviews_penny['time'], unit='ms')#.dt.strftime('%Y - %m - %d')"
      ],
      "metadata": {
        "id": "Tc3YEau8DRYw"
      },
      "execution_count": null,
      "outputs": []
    },
    {
      "cell_type": "code",
      "source": [
        "reviews_penny.time"
      ],
      "metadata": {
        "colab": {
          "base_uri": "https://localhost:8080/"
        },
        "id": "T3k1wahuDRVm",
        "outputId": "4ab46abe-b399-4cb8-b00f-fce5f7904e79"
      },
      "execution_count": null,
      "outputs": [
        {
          "output_type": "execute_result",
          "data": {
            "text/plain": [
              "0        2018-12-20 18:17:45.857\n",
              "1        2019-12-16 01:16:26.615\n",
              "2        2020-09-22 23:05:24.489\n",
              "3        2018-08-16 22:21:55.931\n",
              "4        2019-01-06 03:12:28.230\n",
              "                   ...          \n",
              "149995   2019-05-25 11:29:22.846\n",
              "149996   2019-06-21 08:55:58.438\n",
              "149997   2018-03-20 07:38:25.990\n",
              "149998   2019-01-16 23:05:17.919\n",
              "149999   2018-08-02 14:59:54.563\n",
              "Name: time, Length: 150000, dtype: datetime64[ns]"
            ]
          },
          "metadata": {},
          "execution_count": 66
        }
      ]
    },
    {
      "cell_type": "code",
      "source": [
        "#Usuarios unicos\n",
        "print(f\"Hay {len(reviews_penny['user_id'].unique())} usuarios unicos\")"
      ],
      "metadata": {
        "colab": {
          "base_uri": "https://localhost:8080/"
        },
        "id": "odG7B4nTDRR9",
        "outputId": "8c94a9c9-663f-4809-de93-d3158138ee90"
      },
      "execution_count": null,
      "outputs": [
        {
          "output_type": "stream",
          "name": "stdout",
          "text": [
            "Hay 108189 usuarios unicos\n"
          ]
        }
      ]
    },
    {
      "cell_type": "markdown",
      "source": [
        "## Valores faltantes"
      ],
      "metadata": {
        "id": "Z2ZS3_IiDue8"
      }
    },
    {
      "cell_type": "code",
      "source": [
        "reviews_penny.isnull().sum().sort_values(ascending = False)"
      ],
      "metadata": {
        "colab": {
          "base_uri": "https://localhost:8080/"
        },
        "id": "hL4qOFK9DqLb",
        "outputId": "9331334e-b81e-4bf6-da2c-e75c7a66d985"
      },
      "execution_count": null,
      "outputs": [
        {
          "output_type": "execute_result",
          "data": {
            "text/plain": [
              "pics       146458\n",
              "resp       132888\n",
              "text        65927\n",
              "user_id         0\n",
              "name            0\n",
              "time            0\n",
              "rating          0\n",
              "gmap_id         0\n",
              "dtype: int64"
            ]
          },
          "metadata": {},
          "execution_count": 68
        }
      ]
    },
    {
      "cell_type": "code",
      "source": [
        "plt.figure(figsize= (25,12))\n",
        "sns.heatmap(reviews_penny.isnull())\n",
        "plt.show()"
      ],
      "metadata": {
        "colab": {
          "base_uri": "https://localhost:8080/",
          "height": 706
        },
        "id": "DEBW_SOhD088",
        "outputId": "846e05ca-840f-4880-fe76-8ca68fc0856e"
      },
      "execution_count": null,
      "outputs": [
        {
          "output_type": "display_data",
          "data": {
            "text/plain": [
              "<Figure size 1800x864 with 2 Axes>"
            ],
            "image/png": "[encoded data removed]"
          },
          "metadata": {
            "needs_background": "light"
          }
        }
      ]
    },
    {
      "cell_type": "markdown",
      "source": [
        "## Valores atípicos"
      ],
      "metadata": {
        "id": "WmLZtxZAD83M"
      }
    },
    {
      "cell_type": "markdown",
      "source": [
        "Valores atípicos de la columna rating"
      ],
      "metadata": {
        "id": "XDl5Ce5GEBZ1"
      }
    },
    {
      "cell_type": "code",
      "source": [
        "sns.boxplot(x = 'rating', data = reviews_penny)\n",
        "plt.show()"
      ],
      "metadata": {
        "colab": {
          "base_uri": "https://localhost:8080/",
          "height": 279
        },
        "id": "7bYJDbcWD_oc",
        "outputId": "da4ba0a8-05b3-4202-f5d6-e161d00b38c1"
      },
      "execution_count": null,
      "outputs": [
        {
          "output_type": "display_data",
          "data": {
            "text/plain": [
              "<Figure size 432x288 with 1 Axes>"
            ],
            "image/png": "[encoded data removed]"
          },
          "metadata": {
            "needs_background": "light"
          }
        }
      ]
    },
    {
      "cell_type": "code",
      "source": [
        "reviews_penny.rating.min()"
      ],
      "metadata": {
        "colab": {
          "base_uri": "https://localhost:8080/"
        },
        "id": "_wYci6KpD_fs",
        "outputId": "477e53b3-26b3-4e38-b2f1-19f11d5c175b"
      },
      "execution_count": null,
      "outputs": [
        {
          "output_type": "execute_result",
          "data": {
            "text/plain": [
              "1"
            ]
          },
          "metadata": {},
          "execution_count": 71
        }
      ]
    },
    {
      "cell_type": "code",
      "source": [
        "reviews_penny.rating.max()"
      ],
      "metadata": {
        "colab": {
          "base_uri": "https://localhost:8080/"
        },
        "id": "scBScj4xEFUr",
        "outputId": "0283cc81-4863-4366-895d-50e474e3e4d1"
      },
      "execution_count": null,
      "outputs": [
        {
          "output_type": "execute_result",
          "data": {
            "text/plain": [
              "5"
            ]
          },
          "metadata": {},
          "execution_count": 72
        }
      ]
    },
    {
      "cell_type": "markdown",
      "source": [
        "## Valores duplicados"
      ],
      "metadata": {
        "id": "PCe-MPlHELZT"
      }
    },
    {
      "cell_type": "code",
      "source": [
        "''' Eliminamos aquellas columnas que tienen listas anidadas '''\n",
        "reviews_penny.drop(columns= ['name','pics', 'resp'], inplace=True)"
      ],
      "metadata": {
        "id": "3iwHk-rRENsj"
      },
      "execution_count": null,
      "outputs": []
    },
    {
      "cell_type": "code",
      "source": [
        "print(f\"Hay {reviews_penny.duplicated().sum()} valores duplicados\")"
      ],
      "metadata": {
        "colab": {
          "base_uri": "https://localhost:8080/"
        },
        "id": "IIYSmfOMEOCE",
        "outputId": "39c96192-1c8a-4eae-8ce3-375786805c3d"
      },
      "execution_count": null,
      "outputs": [
        {
          "output_type": "stream",
          "name": "stdout",
          "text": [
            "Hay 0 valores duplicados\n"
          ]
        }
      ]
    },
    {
      "cell_type": "code",
      "source": [
        "duplicados = reviews_penny.duplicated()\n",
        "\n",
        "num_duplicados = duplicados.sum()\n",
        "num_no_duplicados = len(reviews_penny) - num_duplicados"
      ],
      "metadata": {
        "id": "sOMTJ04uEi2C"
      },
      "execution_count": null,
      "outputs": []
    },
    {
      "cell_type": "code",
      "source": [
        "sns.countplot(x= duplicados, palette='Set1')\n",
        "plt.title('Duplicados en DataFrame')\n",
        "plt.xlabel('Duplicados')\n",
        "plt.ylabel('Cantidad')\n",
        "plt.xticks([0, 1], ['No', 'Sí'])\n",
        "plt.show()"
      ],
      "metadata": {
        "colab": {
          "base_uri": "https://localhost:8080/",
          "height": 295
        },
        "id": "klq5NbWEEjOO",
        "outputId": "e899a96d-d797-4f61-8baf-bad65bf19c79"
      },
      "execution_count": null,
      "outputs": [
        {
          "output_type": "display_data",
          "data": {
            "text/plain": [
              "<Figure size 432x288 with 1 Axes>"
            ],
            "image/png": "[encoded data removed]"
          },
          "metadata": {
            "needs_background": "light"
          }
        }
      ]
    },
    {
      "cell_type": "markdown",
      "source": [
        "A partir del análisis de calidad de datos en los datasets 'reviews' de Google Maps, concluímos en que los datos relevantes a conservar son los pertenecientes a las columnas 'user_id', 'time', 'rating', 'text' y 'gmap_id'.\n",
        "\n",
        "Hemos decidido incluír los datos de las columnas time, rating y text en la definición de KPIs y complementar los valores faltantes de la columna text con otras fuentes de opiniones como por ejemplo la red social Twitter.\n",
        "\n",
        "Transformaciones necesarias:\n",
        "\n",
        "*   La columna 'time' deberá llamarse 'date'\n",
        "*   La columna 'text' deberá llamarse 'opinion'\n",
        "*   Los valores de la columna time deberán ser transformados a formato date\n",
        "*   Se eliminarán las columnas 'pics', 'resp' y 'name'\n",
        "*   Se eliminarán los datos duplicados de todas las tablas pertenecientes a reviews \n",
        "*   El orden y los nombres de las columnas se mantendrán de la siguiente manera 'user_id', 'date', 'rating', 'opinion', 'gmap_id'\n"
      ],
      "metadata": {
        "id": "A8QLCNIBHTNw"
      }
    },
    {
      "cell_type": "markdown",
      "source": [
        "#Abrimos un archivo .json de la carpeta 'metadata_sitios' como muestra"
      ],
      "metadata": {
        "id": "unOTzRyomEzk"
      }
    },
    {
      "cell_type": "code",
      "source": [
        "blob2 = bucket.blob('Google-Maps/metadata-sitios/1.json')\n",
        "datos_str2 = blob2.download_as_string()\n",
        "metadata_sitios1 = pd.read_json(datos_str2, lines=True)\n"
      ],
      "metadata": {
        "id": "UJxYyM1Rln-W"
      },
      "execution_count": null,
      "outputs": []
    },
    {
      "cell_type": "code",
      "source": [
        "metadata_sitios1 "
      ],
      "metadata": {
        "colab": {
          "base_uri": "https://localhost:8080/",
          "height": 1000
        },
        "id": "y2S36oB2MgQP",
        "outputId": "0ec15e32-8db1-4eb4-8998-6431c22cf8d0"
      },
      "execution_count": null,
      "outputs": [
        {
          "output_type": "execute_result",
          "data": {
            "text/plain": [
              "                                   name  \\\n",
              "0                       Porter Pharmacy   \n",
              "1                          City Textile   \n",
              "2                          San Soo Dang   \n",
              "3                          Nova Fabrics   \n",
              "4                      Nobel Textile Co   \n",
              "...                                 ...   \n",
              "274996                     Maven Realty   \n",
              "274997               Stone Castle Fence   \n",
              "274998  Health Insurance Solutions Team   \n",
              "274999          Bernard Building Center   \n",
              "275000    HMR Motor Works and Auto Care   \n",
              "\n",
              "                                                  address  \\\n",
              "0       Porter Pharmacy, 129 N Second St, Cochran, GA ...   \n",
              "1       City Textile, 3001 E Pico Blvd, Los Angeles, C...   \n",
              "2       San Soo Dang, 761 S Vermont Ave, Los Angeles, ...   \n",
              "3       Nova Fabrics, 2200 E 11th St, Los Angeles, CA ...   \n",
              "4       Nobel Textile Co, 719 E 9th St, Los Angeles, C...   \n",
              "...                                                   ...   \n",
              "274996  Maven Realty, 2180 McMillan Ave #71672, North ...   \n",
              "274997  Stone Castle Fence, 124 Cypress Gardens Rd, Mo...   \n",
              "274998  Health Insurance Solutions Team, 6650 Rivers A...   \n",
              "274999  Bernard Building Center, 27300 M-32, M-32, Hil...   \n",
              "275000       HMR Motor Works and Auto Care, Mio, MI 48647   \n",
              "\n",
              "                                      gmap_id description   latitude  \\\n",
              "0       0x88f16e41928ff687:0x883dad4fd048e8f8        None  32.388300   \n",
              "1       0x80c2c98c0e3c16fd:0x29ec8a728764fdf9        None  34.018891   \n",
              "2       0x80c2c778e3b73d33:0xbdc58662a4a97d49        None  34.058092   \n",
              "3        0x80c2c89923b27a41:0x32041559418d447        None  34.023669   \n",
              "4       0x80c2c632f933b073:0xc31785961fe826a6        None  34.036694   \n",
              "...                                       ...         ...        ...   \n",
              "274996  0x88fe64e7daceaaab:0x101c046dcadcc9c3        None  32.857737   \n",
              "274997  0x88fe59f4602c95fd:0x57e2b1904d9e6949        None  33.089951   \n",
              "274998  0x88fe71f9617c15e1:0x89518c1d251706bf        None  32.918858   \n",
              "274999  0x4d34c7517d6e6e29:0x7fe553ee2f090cf0        None  45.056691   \n",
              "275000  0x88208f4360c053ab:0xe3d6883f19601a01        None  44.649195   \n",
              "\n",
              "         longitude                                           category  \\\n",
              "0       -83.357100                                         [Pharmacy]   \n",
              "1      -118.215290                                 [Textile exporter]   \n",
              "2      -118.292130                                [Korean restaurant]   \n",
              "3      -118.232930                                     [Fabric store]   \n",
              "4      -118.249421                                     [Fabric store]   \n",
              "...            ...                                                ...   \n",
              "274996  -79.985839                               [Real estate agency]   \n",
              "274997  -80.078021  [Fence contractor, Construction company, Contr...   \n",
              "274998  -80.027952                          [Health insurance agency]   \n",
              "274999  -83.894423  [Building materials store, Electrical supply s...   \n",
              "275000  -84.130324                                 [Auto repair shop]   \n",
              "\n",
              "        avg_rating  num_of_reviews price  \\\n",
              "0              4.9              16  None   \n",
              "1              4.5               6  None   \n",
              "2              4.4              18  None   \n",
              "3              3.3               6  None   \n",
              "4              4.3               7  None   \n",
              "...            ...             ...   ...   \n",
              "274996         4.9              15  None   \n",
              "274997         4.0              18  None   \n",
              "274998         5.0              18  None   \n",
              "274999         4.7              25  None   \n",
              "275000         4.4              13  None   \n",
              "\n",
              "                                                    hours  \\\n",
              "0       [[Friday, 8AM–6PM], [Saturday, 8AM–12PM], [Sun...   \n",
              "1                                                    None   \n",
              "2       [[Thursday, 6:30AM–6PM], [Friday, 6:30AM–6PM],...   \n",
              "3       [[Thursday, 9AM–5PM], [Friday, 9AM–5PM], [Satu...   \n",
              "4       [[Thursday, 9AM–5PM], [Friday, 9AM–5PM], [Satu...   \n",
              "...                                                   ...   \n",
              "274996  [[Saturday, Open 24 hours], [Sunday, Open 24 h...   \n",
              "274997  [[Saturday, Closed], [Sunday, Closed], [Monday...   \n",
              "274998  [[Saturday, Closed], [Sunday, Closed], [Monday...   \n",
              "274999  [[Saturday, 8AM–3PM], [Sunday, Closed], [Monda...   \n",
              "275000  [[Saturday, 9AM–5:30PM], [Sunday, Closed], [Mo...   \n",
              "\n",
              "                                                     MISC  \\\n",
              "0       {'Service options': ['In-store shopping', 'Sam...   \n",
              "1                                                    None   \n",
              "2       {'Service options': ['Takeout', 'Dine-in', 'De...   \n",
              "3       {'Service options': ['In-store shopping'], 'Pa...   \n",
              "4                {'Service options': ['In-store pickup']}   \n",
              "...                                                   ...   \n",
              "274996                                               None   \n",
              "274997                                               None   \n",
              "274998  {'Service options': ['Online appointments'], '...   \n",
              "274999  {'Service options': ['Curbside pickup', 'Deliv...   \n",
              "275000  {'Accessibility': ['Wheelchair accessible entr...   \n",
              "\n",
              "                            state  \\\n",
              "0               Open ⋅ Closes 6PM   \n",
              "1                        Open now   \n",
              "2               Open ⋅ Closes 6PM   \n",
              "3               Open ⋅ Closes 5PM   \n",
              "4               Open ⋅ Closes 5PM   \n",
              "...                           ...   \n",
              "274996              Open 24 hours   \n",
              "274997     Closed ⋅ Opens 7AM Mon   \n",
              "274998     Closed ⋅ Opens 8AM Mon   \n",
              "274999  Closed ⋅ Opens 7:30AM Mon   \n",
              "275000       Open ⋅ Closes 5:30PM   \n",
              "\n",
              "                                         relative_results  \\\n",
              "0       [0x88f16e41929435cf:0x5b2532a2885e9ef6, 0x88f1...   \n",
              "1       [0x80c2c624136ea88b:0xb0315367ed448771, 0x80c2...   \n",
              "2       [0x80c2c78249aba68f:0x35bf16ce61be751d, 0x80c2...   \n",
              "3       [0x80c2c8811477253f:0x23a8a492df1918f7, 0x80c2...   \n",
              "4       [0x80c2c62c496083d1:0xdefa11317fe870a1, 0x80c2...   \n",
              "...                                                   ...   \n",
              "274996  [0x88fe657160ccc965:0xc675c849dc6d96ba, 0x88fe...   \n",
              "274997  [0x88fe8d1444299bbb:0x91daa2e82c59ea94, 0x88fe...   \n",
              "274998  [0x88fe6fe45b8d3f15:0x41d4b940a40b246a, 0x88fe...   \n",
              "274999  [0x4d335f6408d395d9:0xc20dea80d4c100d8, 0x4d34...   \n",
              "275000  [0x88208e43a516e3ab:0xbb20b293f8e97ab2, 0x8820...   \n",
              "\n",
              "                                                      url  \n",
              "0       https://www.google.com/maps/place//data=!4m2!3...  \n",
              "1       https://www.google.com/maps/place//data=!4m2!3...  \n",
              "2       https://www.google.com/maps/place//data=!4m2!3...  \n",
              "3       https://www.google.com/maps/place//data=!4m2!3...  \n",
              "4       https://www.google.com/maps/place//data=!4m2!3...  \n",
              "...                                                   ...  \n",
              "274996  https://www.google.com/maps/place//data=!4m2!3...  \n",
              "274997  https://www.google.com/maps/place//data=!4m2!3...  \n",
              "274998  https://www.google.com/maps/place//data=!4m2!3...  \n",
              "274999  https://www.google.com/maps/place//data=!4m2!3...  \n",
              "275000  https://www.google.com/maps/place//data=!4m2!3...  \n",
              "\n",
              "[275001 rows x 15 columns]"
            ],
            "text/html": [
              "\n",
              "  <div id=\"df-27f8a6e7-02a0-45bf-bccd-490a2ca08e89\">\n",
              "    <div class=\"colab-df-container\">\n",
              "      <div>\n",
              "<style scoped>\n",
              "    .dataframe tbody tr th:only-of-type {\n",
              "        vertical-align: middle;\n",
              "    }\n",
              "\n",
              "    .dataframe tbody tr th {\n",
              "        vertical-align: top;\n",
              "    }\n",
              "\n",
              "    .dataframe thead th {\n",
              "        text-align: right;\n",
              "    }\n",
              "</style>\n",
              "<table border=\"1\" class=\"dataframe\">\n",
              "  <thead>\n",
              "    <tr style=\"text-align: right;\">\n",
              "      <th></th>\n",
              "      <th>name</th>\n",
              "      <th>address</th>\n",
              "      <th>gmap_id</th>\n",
              "      <th>description</th>\n",
              "      <th>latitude</th>\n",
              "      <th>longitude</th>\n",
              "      <th>category</th>\n",
              "      <th>avg_rating</th>\n",
              "      <th>num_of_reviews</th>\n",
              "      <th>price</th>\n",
              "      <th>hours</th>\n",
              "      <th>MISC</th>\n",
              "      <th>state</th>\n",
              "      <th>relative_results</th>\n",
              "      <th>url</th>\n",
              "    </tr>\n",
              "  </thead>\n",
              "  <tbody>\n",
              "    <tr>\n",
              "      <th>0</th>\n",
              "      <td>Porter Pharmacy</td>\n",
              "      <td>Porter Pharmacy, 129 N Second St, Cochran, GA ...</td>\n",
              "      <td>0x88f16e41928ff687:0x883dad4fd048e8f8</td>\n",
              "      <td>None</td>\n",
              "      <td>32.388300</td>\n",
              "      <td>-83.357100</td>\n",
              "      <td>[Pharmacy]</td>\n",
              "      <td>4.9</td>\n",
              "      <td>16</td>\n",
              "      <td>None</td>\n",
              "      <td>[[Friday, 8AM–6PM], [Saturday, 8AM–12PM], [Sun...</td>\n",
              "      <td>{'Service options': ['In-store shopping', 'Sam...</td>\n",
              "      <td>Open ⋅ Closes 6PM</td>\n",
              "      <td>[0x88f16e41929435cf:0x5b2532a2885e9ef6, 0x88f1...</td>\n",
              "      <td>https://www.google.com/maps/place//data=!4m2!3...</td>\n",
              "    </tr>\n",
              "    <tr>\n",
              "      <th>1</th>\n",
              "      <td>City Textile</td>\n",
              "      <td>City Textile, 3001 E Pico Blvd, Los Angeles, C...</td>\n",
              "      <td>0x80c2c98c0e3c16fd:0x29ec8a728764fdf9</td>\n",
              "      <td>None</td>\n",
              "      <td>34.018891</td>\n",
              "      <td>-118.215290</td>\n",
              "      <td>[Textile exporter]</td>\n",
              "      <td>4.5</td>\n",
              "      <td>6</td>\n",
              "      <td>None</td>\n",
              "      <td>None</td>\n",
              "      <td>None</td>\n",
              "      <td>Open now</td>\n",
              "      <td>[0x80c2c624136ea88b:0xb0315367ed448771, 0x80c2...</td>\n",
              "      <td>https://www.google.com/maps/place//data=!4m2!3...</td>\n",
              "    </tr>\n",
              "    <tr>\n",
              "      <th>2</th>\n",
              "      <td>San Soo Dang</td>\n",
              "      <td>San Soo Dang, 761 S Vermont Ave, Los Angeles, ...</td>\n",
              "      <td>0x80c2c778e3b73d33:0xbdc58662a4a97d49</td>\n",
              "      <td>None</td>\n",
              "      <td>34.058092</td>\n",
              "      <td>-118.292130</td>\n",
              "      <td>[Korean restaurant]</td>\n",
              "      <td>4.4</td>\n",
              "      <td>18</td>\n",
              "      <td>None</td>\n",
              "      <td>[[Thursday, 6:30AM–6PM], [Friday, 6:30AM–6PM],...</td>\n",
              "      <td>{'Service options': ['Takeout', 'Dine-in', 'De...</td>\n",
              "      <td>Open ⋅ Closes 6PM</td>\n",
              "      <td>[0x80c2c78249aba68f:0x35bf16ce61be751d, 0x80c2...</td>\n",
              "      <td>https://www.google.com/maps/place//data=!4m2!3...</td>\n",
              "    </tr>\n",
              "    <tr>\n",
              "      <th>3</th>\n",
              "      <td>Nova Fabrics</td>\n",
              "      <td>Nova Fabrics, 2200 E 11th St, Los Angeles, CA ...</td>\n",
              "      <td>0x80c2c89923b27a41:0x32041559418d447</td>\n",
              "      <td>None</td>\n",
              "      <td>34.023669</td>\n",
              "      <td>-118.232930</td>\n",
              "      <td>[Fabric store]</td>\n",
              "      <td>3.3</td>\n",
              "      <td>6</td>\n",
              "      <td>None</td>\n",
              "      <td>[[Thursday, 9AM–5PM], [Friday, 9AM–5PM], [Satu...</td>\n",
              "      <td>{'Service options': ['In-store shopping'], 'Pa...</td>\n",
              "      <td>Open ⋅ Closes 5PM</td>\n",
              "      <td>[0x80c2c8811477253f:0x23a8a492df1918f7, 0x80c2...</td>\n",
              "      <td>https://www.google.com/maps/place//data=!4m2!3...</td>\n",
              "    </tr>\n",
              "    <tr>\n",
              "      <th>4</th>\n",
              "      <td>Nobel Textile Co</td>\n",
              "      <td>Nobel Textile Co, 719 E 9th St, Los Angeles, C...</td>\n",
              "      <td>0x80c2c632f933b073:0xc31785961fe826a6</td>\n",
              "      <td>None</td>\n",
              "      <td>34.036694</td>\n",
              "      <td>-118.249421</td>\n",
              "      <td>[Fabric store]</td>\n",
              "      <td>4.3</td>\n",
              "      <td>7</td>\n",
              "      <td>None</td>\n",
              "      <td>[[Thursday, 9AM–5PM], [Friday, 9AM–5PM], [Satu...</td>\n",
              "      <td>{'Service options': ['In-store pickup']}</td>\n",
              "      <td>Open ⋅ Closes 5PM</td>\n",
              "      <td>[0x80c2c62c496083d1:0xdefa11317fe870a1, 0x80c2...</td>\n",
              "      <td>https://www.google.com/maps/place//data=!4m2!3...</td>\n",
              "    </tr>\n",
              "    <tr>\n",
              "      <th>...</th>\n",
              "      <td>...</td>\n",
              "      <td>...</td>\n",
              "      <td>...</td>\n",
              "      <td>...</td>\n",
              "      <td>...</td>\n",
              "      <td>...</td>\n",
              "      <td>...</td>\n",
              "      <td>...</td>\n",
              "      <td>...</td>\n",
              "      <td>...</td>\n",
              "      <td>...</td>\n",
              "      <td>...</td>\n",
              "      <td>...</td>\n",
              "      <td>...</td>\n",
              "      <td>...</td>\n",
              "    </tr>\n",
              "    <tr>\n",
              "      <th>274996</th>\n",
              "      <td>Maven Realty</td>\n",
              "      <td>Maven Realty, 2180 McMillan Ave #71672, North ...</td>\n",
              "      <td>0x88fe64e7daceaaab:0x101c046dcadcc9c3</td>\n",
              "      <td>None</td>\n",
              "      <td>32.857737</td>\n",
              "      <td>-79.985839</td>\n",
              "      <td>[Real estate agency]</td>\n",
              "      <td>4.9</td>\n",
              "      <td>15</td>\n",
              "      <td>None</td>\n",
              "      <td>[[Saturday, Open 24 hours], [Sunday, Open 24 h...</td>\n",
              "      <td>None</td>\n",
              "      <td>Open 24 hours</td>\n",
              "      <td>[0x88fe657160ccc965:0xc675c849dc6d96ba, 0x88fe...</td>\n",
              "      <td>https://www.google.com/maps/place//data=!4m2!3...</td>\n",
              "    </tr>\n",
              "    <tr>\n",
              "      <th>274997</th>\n",
              "      <td>Stone Castle Fence</td>\n",
              "      <td>Stone Castle Fence, 124 Cypress Gardens Rd, Mo...</td>\n",
              "      <td>0x88fe59f4602c95fd:0x57e2b1904d9e6949</td>\n",
              "      <td>None</td>\n",
              "      <td>33.089951</td>\n",
              "      <td>-80.078021</td>\n",
              "      <td>[Fence contractor, Construction company, Contr...</td>\n",
              "      <td>4.0</td>\n",
              "      <td>18</td>\n",
              "      <td>None</td>\n",
              "      <td>[[Saturday, Closed], [Sunday, Closed], [Monday...</td>\n",
              "      <td>None</td>\n",
              "      <td>Closed ⋅ Opens 7AM Mon</td>\n",
              "      <td>[0x88fe8d1444299bbb:0x91daa2e82c59ea94, 0x88fe...</td>\n",
              "      <td>https://www.google.com/maps/place//data=!4m2!3...</td>\n",
              "    </tr>\n",
              "    <tr>\n",
              "      <th>274998</th>\n",
              "      <td>Health Insurance Solutions Team</td>\n",
              "      <td>Health Insurance Solutions Team, 6650 Rivers A...</td>\n",
              "      <td>0x88fe71f9617c15e1:0x89518c1d251706bf</td>\n",
              "      <td>None</td>\n",
              "      <td>32.918858</td>\n",
              "      <td>-80.027952</td>\n",
              "      <td>[Health insurance agency]</td>\n",
              "      <td>5.0</td>\n",
              "      <td>18</td>\n",
              "      <td>None</td>\n",
              "      <td>[[Saturday, Closed], [Sunday, Closed], [Monday...</td>\n",
              "      <td>{'Service options': ['Online appointments'], '...</td>\n",
              "      <td>Closed ⋅ Opens 8AM Mon</td>\n",
              "      <td>[0x88fe6fe45b8d3f15:0x41d4b940a40b246a, 0x88fe...</td>\n",
              "      <td>https://www.google.com/maps/place//data=!4m2!3...</td>\n",
              "    </tr>\n",
              "    <tr>\n",
              "      <th>274999</th>\n",
              "      <td>Bernard Building Center</td>\n",
              "      <td>Bernard Building Center, 27300 M-32, M-32, Hil...</td>\n",
              "      <td>0x4d34c7517d6e6e29:0x7fe553ee2f090cf0</td>\n",
              "      <td>None</td>\n",
              "      <td>45.056691</td>\n",
              "      <td>-83.894423</td>\n",
              "      <td>[Building materials store, Electrical supply s...</td>\n",
              "      <td>4.7</td>\n",
              "      <td>25</td>\n",
              "      <td>None</td>\n",
              "      <td>[[Saturday, 8AM–3PM], [Sunday, Closed], [Monda...</td>\n",
              "      <td>{'Service options': ['Curbside pickup', 'Deliv...</td>\n",
              "      <td>Closed ⋅ Opens 7:30AM Mon</td>\n",
              "      <td>[0x4d335f6408d395d9:0xc20dea80d4c100d8, 0x4d34...</td>\n",
              "      <td>https://www.google.com/maps/place//data=!4m2!3...</td>\n",
              "    </tr>\n",
              "    <tr>\n",
              "      <th>275000</th>\n",
              "      <td>HMR Motor Works and Auto Care</td>\n",
              "      <td>HMR Motor Works and Auto Care, Mio, MI 48647</td>\n",
              "      <td>0x88208f4360c053ab:0xe3d6883f19601a01</td>\n",
              "      <td>None</td>\n",
              "      <td>44.649195</td>\n",
              "      <td>-84.130324</td>\n",
              "      <td>[Auto repair shop]</td>\n",
              "      <td>4.4</td>\n",
              "      <td>13</td>\n",
              "      <td>None</td>\n",
              "      <td>[[Saturday, 9AM–5:30PM], [Sunday, Closed], [Mo...</td>\n",
              "      <td>{'Accessibility': ['Wheelchair accessible entr...</td>\n",
              "      <td>Open ⋅ Closes 5:30PM</td>\n",
              "      <td>[0x88208e43a516e3ab:0xbb20b293f8e97ab2, 0x8820...</td>\n",
              "      <td>https://www.google.com/maps/place//data=!4m2!3...</td>\n",
              "    </tr>\n",
              "  </tbody>\n",
              "</table>\n",
              "<p>275001 rows × 15 columns</p>\n",
              "</div>\n",
              "      <button class=\"colab-df-convert\" onclick=\"convertToInteractive('df-27f8a6e7-02a0-45bf-bccd-490a2ca08e89')\"\n",
              "              title=\"Convert this dataframe to an interactive table.\"\n",
              "              style=\"display:none;\">\n",
              "        \n",
              "  <svg xmlns=\"http://www.w3.org/2000/svg\" height=\"24px\"viewBox=\"0 0 24 24\"\n",
              "       width=\"24px\">\n",
              "    <path d=\"M0 0h24v24H0V0z\" fill=\"none\"/>\n",
              "    <path d=\"M18.56 5.44l.94 2.06.94-2.06 2.06-.94-2.06-.94-.94-2.06-.94 2.06-2.06.94zm-11 1L8.5 8.5l.94-2.06 2.06-.94-2.06-.94L8.5 2.5l-.94 2.06-2.06.94zm10 10l.94 2.06.94-2.06 2.06-.94-2.06-.94-.94-2.06-.94 2.06-2.06.94z\"/><path d=\"M17.41 7.96l-1.37-1.37c-.4-.4-.92-.59-1.43-.59-.52 0-1.04.2-1.43.59L10.3 9.45l-7.72 7.72c-.78.78-.78 2.05 0 2.83L4 21.41c.39.39.9.59 1.41.59.51 0 1.02-.2 1.41-.59l7.78-7.78 2.81-2.81c.8-.78.8-2.07 0-2.86zM5.41 20L4 18.59l7.72-7.72 1.47 1.35L5.41 20z\"/>\n",
              "  </svg>\n",
              "      </button>\n",
              "      \n",
              "  <style>\n",
              "    .colab-df-container {\n",
              "      display:flex;\n",
              "      flex-wrap:wrap;\n",
              "      gap: 12px;\n",
              "    }\n",
              "\n",
              "    .colab-df-convert {\n",
              "      background-color: #E8F0FE;\n",
              "      border: none;\n",
              "      border-radius: 50%;\n",
              "      cursor: pointer;\n",
              "      display: none;\n",
              "      fill: #1967D2;\n",
              "      height: 32px;\n",
              "      padding: 0 0 0 0;\n",
              "      width: 32px;\n",
              "    }\n",
              "\n",
              "    .colab-df-convert:hover {\n",
              "      background-color: #E2EBFA;\n",
              "      box-shadow: 0px 1px 2px rgba(60, 64, 67, 0.3), 0px 1px 3px 1px rgba(60, 64, 67, 0.15);\n",
              "      fill: #174EA6;\n",
              "    }\n",
              "\n",
              "    [theme=dark] .colab-df-convert {\n",
              "      background-color: #3B4455;\n",
              "      fill: #D2E3FC;\n",
              "    }\n",
              "\n",
              "    [theme=dark] .colab-df-convert:hover {\n",
              "      background-color: #434B5C;\n",
              "      box-shadow: 0px 1px 3px 1px rgba(0, 0, 0, 0.15);\n",
              "      filter: drop-shadow(0px 1px 2px rgba(0, 0, 0, 0.3));\n",
              "      fill: #FFFFFF;\n",
              "    }\n",
              "  </style>\n",
              "\n",
              "      <script>\n",
              "        const buttonEl =\n",
              "          document.querySelector('#df-27f8a6e7-02a0-45bf-bccd-490a2ca08e89 button.colab-df-convert');\n",
              "        buttonEl.style.display =\n",
              "          google.colab.kernel.accessAllowed ? 'block' : 'none';\n",
              "\n",
              "        async function convertToInteractive(key) {\n",
              "          const element = document.querySelector('#df-27f8a6e7-02a0-45bf-bccd-490a2ca08e89');\n",
              "          const dataTable =\n",
              "            await google.colab.kernel.invokeFunction('convertToInteractive',\n",
              "                                                     [key], {});\n",
              "          if (!dataTable) return;\n",
              "\n",
              "          const docLinkHtml = 'Like what you see? Visit the ' +\n",
              "            '<a target=\"_blank\" href=https://colab.research.google.com/notebooks/data_table.ipynb>data table notebook</a>'\n",
              "            + ' to learn more about interactive tables.';\n",
              "          element.innerHTML = '';\n",
              "          dataTable['output_type'] = 'display_data';\n",
              "          await google.colab.output.renderOutput(dataTable, element);\n",
              "          const docLink = document.createElement('div');\n",
              "          docLink.innerHTML = docLinkHtml;\n",
              "          element.appendChild(docLink);\n",
              "        }\n",
              "      </script>\n",
              "    </div>\n",
              "  </div>\n",
              "  "
            ]
          },
          "metadata": {},
          "execution_count": 11
        }
      ]
    },
    {
      "cell_type": "code",
      "source": [
        "type(metadata_sitios1.address[18956])"
      ],
      "metadata": {
        "colab": {
          "base_uri": "https://localhost:8080/"
        },
        "id": "4TNxpAUnMrsY",
        "outputId": "b8382a6e-3d5b-4bd8-87a5-c629e3c6c4d2"
      },
      "execution_count": null,
      "outputs": [
        {
          "output_type": "execute_result",
          "data": {
            "text/plain": [
              "str"
            ]
          },
          "metadata": {},
          "execution_count": 15
        }
      ]
    },
    {
      "cell_type": "code",
      "source": [
        "''' Visualizamos el tipo de dato de cada columna '''\n",
        "metadata_sitios1.info()"
      ],
      "metadata": {
        "colab": {
          "base_uri": "https://localhost:8080/"
        },
        "id": "lw1Lf75Dm-Uv",
        "outputId": "b8600bfe-014b-44e6-aaef-2772bd47a290"
      },
      "execution_count": null,
      "outputs": [
        {
          "output_type": "stream",
          "name": "stdout",
          "text": [
            "<class 'pandas.core.frame.DataFrame'>\n",
            "RangeIndex: 275001 entries, 0 to 275000\n",
            "Data columns (total 15 columns):\n",
            " #   Column            Non-Null Count   Dtype  \n",
            "---  ------            --------------   -----  \n",
            " 0   name              274994 non-null  object \n",
            " 1   address           264939 non-null  object \n",
            " 2   gmap_id           275001 non-null  object \n",
            " 3   description       13155 non-null   object \n",
            " 4   latitude          275001 non-null  float64\n",
            " 5   longitude         275001 non-null  float64\n",
            " 6   category          272740 non-null  object \n",
            " 7   avg_rating        275001 non-null  float64\n",
            " 8   num_of_reviews    275001 non-null  int64  \n",
            " 9   price             13450 non-null   object \n",
            " 10  hours             192448 non-null  object \n",
            " 11  MISC              194972 non-null  object \n",
            " 12  state             195523 non-null  object \n",
            " 13  relative_results  238771 non-null  object \n",
            " 14  url               275001 non-null  object \n",
            "dtypes: float64(3), int64(1), object(11)\n",
            "memory usage: 31.5+ MB\n"
          ]
        }
      ]
    },
    {
      "cell_type": "code",
      "source": [
        "metadata_sitios1.describe()"
      ],
      "metadata": {
        "colab": {
          "base_uri": "https://localhost:8080/",
          "height": 300
        },
        "id": "3KYFKoU5nJ1_",
        "outputId": "6f30e27e-8350-4a43-89e7-80eaeb8ec631"
      },
      "execution_count": null,
      "outputs": [
        {
          "output_type": "execute_result",
          "data": {
            "text/plain": [
              "            latitude      longitude     avg_rating  num_of_reviews\n",
              "count  275001.000000  275001.000000  275001.000000   275001.000000\n",
              "mean       37.490112     -92.274708       4.307216       19.722750\n",
              "std         5.405780      16.414617       0.790101       37.642092\n",
              "min        -1.766059    -176.644648       1.000000        1.000000\n",
              "25%        33.759405     -98.924254       4.000000        4.000000\n",
              "50%        38.411790     -87.609055       4.500000        8.000000\n",
              "75%        41.320476     -80.252418       5.000000       18.000000\n",
              "max        70.398544     180.000000       5.000000     2114.000000"
            ],
            "text/html": [
              "\n",
              "  <div id=\"df-75dc3103-d084-48a8-80f1-f365170bc711\">\n",
              "    <div class=\"colab-df-container\">\n",
              "      <div>\n",
              "<style scoped>\n",
              "    .dataframe tbody tr th:only-of-type {\n",
              "        vertical-align: middle;\n",
              "    }\n",
              "\n",
              "    .dataframe tbody tr th {\n",
              "        vertical-align: top;\n",
              "    }\n",
              "\n",
              "    .dataframe thead th {\n",
              "        text-align: right;\n",
              "    }\n",
              "</style>\n",
              "<table border=\"1\" class=\"dataframe\">\n",
              "  <thead>\n",
              "    <tr style=\"text-align: right;\">\n",
              "      <th></th>\n",
              "      <th>latitude</th>\n",
              "      <th>longitude</th>\n",
              "      <th>avg_rating</th>\n",
              "      <th>num_of_reviews</th>\n",
              "    </tr>\n",
              "  </thead>\n",
              "  <tbody>\n",
              "    <tr>\n",
              "      <th>count</th>\n",
              "      <td>275001.000000</td>\n",
              "      <td>275001.000000</td>\n",
              "      <td>275001.000000</td>\n",
              "      <td>275001.000000</td>\n",
              "    </tr>\n",
              "    <tr>\n",
              "      <th>mean</th>\n",
              "      <td>37.490112</td>\n",
              "      <td>-92.274708</td>\n",
              "      <td>4.307216</td>\n",
              "      <td>19.722750</td>\n",
              "    </tr>\n",
              "    <tr>\n",
              "      <th>std</th>\n",
              "      <td>5.405780</td>\n",
              "      <td>16.414617</td>\n",
              "      <td>0.790101</td>\n",
              "      <td>37.642092</td>\n",
              "    </tr>\n",
              "    <tr>\n",
              "      <th>min</th>\n",
              "      <td>-1.766059</td>\n",
              "      <td>-176.644648</td>\n",
              "      <td>1.000000</td>\n",
              "      <td>1.000000</td>\n",
              "    </tr>\n",
              "    <tr>\n",
              "      <th>25%</th>\n",
              "      <td>33.759405</td>\n",
              "      <td>-98.924254</td>\n",
              "      <td>4.000000</td>\n",
              "      <td>4.000000</td>\n",
              "    </tr>\n",
              "    <tr>\n",
              "      <th>50%</th>\n",
              "      <td>38.411790</td>\n",
              "      <td>-87.609055</td>\n",
              "      <td>4.500000</td>\n",
              "      <td>8.000000</td>\n",
              "    </tr>\n",
              "    <tr>\n",
              "      <th>75%</th>\n",
              "      <td>41.320476</td>\n",
              "      <td>-80.252418</td>\n",
              "      <td>5.000000</td>\n",
              "      <td>18.000000</td>\n",
              "    </tr>\n",
              "    <tr>\n",
              "      <th>max</th>\n",
              "      <td>70.398544</td>\n",
              "      <td>180.000000</td>\n",
              "      <td>5.000000</td>\n",
              "      <td>2114.000000</td>\n",
              "    </tr>\n",
              "  </tbody>\n",
              "</table>\n",
              "</div>\n",
              "      <button class=\"colab-df-convert\" onclick=\"convertToInteractive('df-75dc3103-d084-48a8-80f1-f365170bc711')\"\n",
              "              title=\"Convert this dataframe to an interactive table.\"\n",
              "              style=\"display:none;\">\n",
              "        \n",
              "  <svg xmlns=\"http://www.w3.org/2000/svg\" height=\"24px\"viewBox=\"0 0 24 24\"\n",
              "       width=\"24px\">\n",
              "    <path d=\"M0 0h24v24H0V0z\" fill=\"none\"/>\n",
              "    <path d=\"M18.56 5.44l.94 2.06.94-2.06 2.06-.94-2.06-.94-.94-2.06-.94 2.06-2.06.94zm-11 1L8.5 8.5l.94-2.06 2.06-.94-2.06-.94L8.5 2.5l-.94 2.06-2.06.94zm10 10l.94 2.06.94-2.06 2.06-.94-2.06-.94-.94-2.06-.94 2.06-2.06.94z\"/><path d=\"M17.41 7.96l-1.37-1.37c-.4-.4-.92-.59-1.43-.59-.52 0-1.04.2-1.43.59L10.3 9.45l-7.72 7.72c-.78.78-.78 2.05 0 2.83L4 21.41c.39.39.9.59 1.41.59.51 0 1.02-.2 1.41-.59l7.78-7.78 2.81-2.81c.8-.78.8-2.07 0-2.86zM5.41 20L4 18.59l7.72-7.72 1.47 1.35L5.41 20z\"/>\n",
              "  </svg>\n",
              "      </button>\n",
              "      \n",
              "  <style>\n",
              "    .colab-df-container {\n",
              "      display:flex;\n",
              "      flex-wrap:wrap;\n",
              "      gap: 12px;\n",
              "    }\n",
              "\n",
              "    .colab-df-convert {\n",
              "      background-color: #E8F0FE;\n",
              "      border: none;\n",
              "      border-radius: 50%;\n",
              "      cursor: pointer;\n",
              "      display: none;\n",
              "      fill: #1967D2;\n",
              "      height: 32px;\n",
              "      padding: 0 0 0 0;\n",
              "      width: 32px;\n",
              "    }\n",
              "\n",
              "    .colab-df-convert:hover {\n",
              "      background-color: #E2EBFA;\n",
              "      box-shadow: 0px 1px 2px rgba(60, 64, 67, 0.3), 0px 1px 3px 1px rgba(60, 64, 67, 0.15);\n",
              "      fill: #174EA6;\n",
              "    }\n",
              "\n",
              "    [theme=dark] .colab-df-convert {\n",
              "      background-color: #3B4455;\n",
              "      fill: #D2E3FC;\n",
              "    }\n",
              "\n",
              "    [theme=dark] .colab-df-convert:hover {\n",
              "      background-color: #434B5C;\n",
              "      box-shadow: 0px 1px 3px 1px rgba(0, 0, 0, 0.15);\n",
              "      filter: drop-shadow(0px 1px 2px rgba(0, 0, 0, 0.3));\n",
              "      fill: #FFFFFF;\n",
              "    }\n",
              "  </style>\n",
              "\n",
              "      <script>\n",
              "        const buttonEl =\n",
              "          document.querySelector('#df-75dc3103-d084-48a8-80f1-f365170bc711 button.colab-df-convert');\n",
              "        buttonEl.style.display =\n",
              "          google.colab.kernel.accessAllowed ? 'block' : 'none';\n",
              "\n",
              "        async function convertToInteractive(key) {\n",
              "          const element = document.querySelector('#df-75dc3103-d084-48a8-80f1-f365170bc711');\n",
              "          const dataTable =\n",
              "            await google.colab.kernel.invokeFunction('convertToInteractive',\n",
              "                                                     [key], {});\n",
              "          if (!dataTable) return;\n",
              "\n",
              "          const docLinkHtml = 'Like what you see? Visit the ' +\n",
              "            '<a target=\"_blank\" href=https://colab.research.google.com/notebooks/data_table.ipynb>data table notebook</a>'\n",
              "            + ' to learn more about interactive tables.';\n",
              "          element.innerHTML = '';\n",
              "          dataTable['output_type'] = 'display_data';\n",
              "          await google.colab.output.renderOutput(dataTable, element);\n",
              "          const docLink = document.createElement('div');\n",
              "          docLink.innerHTML = docLinkHtml;\n",
              "          element.appendChild(docLink);\n",
              "        }\n",
              "      </script>\n",
              "    </div>\n",
              "  </div>\n",
              "  "
            ]
          },
          "metadata": {},
          "execution_count": 20
        }
      ]
    },
    {
      "cell_type": "code",
      "source": [
        "metadata_sitios1.columns"
      ],
      "metadata": {
        "colab": {
          "base_uri": "https://localhost:8080/"
        },
        "id": "B5mRVy-wnYSV",
        "outputId": "3e2283f0-f493-4bd8-e1e9-52d23d4fd28f"
      },
      "execution_count": null,
      "outputs": [
        {
          "output_type": "execute_result",
          "data": {
            "text/plain": [
              "Index(['name', 'address', 'gmap_id', 'description', 'latitude', 'longitude',\n",
              "       'category', 'avg_rating', 'num_of_reviews', 'price', 'hours', 'MISC',\n",
              "       'state', 'relative_results', 'url'],\n",
              "      dtype='object')"
            ]
          },
          "metadata": {},
          "execution_count": 21
        }
      ]
    },
    {
      "cell_type": "markdown",
      "source": [
        "*   name = nombre del local\n",
        "*   address = dirección física del local\n",
        "*   gmap_id = id del local\n",
        "*   description = descripción del lugar y sus productos y/o servicios\n",
        "*   url = url del local en google maps\n",
        "*   price = precio de los productos/servicios del local\n",
        "*   latitude = latitud\n",
        "*   longitud = longitud\n",
        "*   category = rubro al que pertenece el local\n",
        "*   avg_rating = rating promedio\n",
        "*   num_of_reviews = cantidad de reseñas\n",
        "*   hours = horarios de apertura y cierre del local\n",
        "*   state = estado actual cerrado o abierto\n",
        "*   MISC = categoría micelánea o diversa\n",
        "*   relative_results = resultados de básqueda relacionados\n",
        "\n"
      ],
      "metadata": {
        "id": "oesfld8ynd8N"
      }
    },
    {
      "cell_type": "markdown",
      "source": [
        "## Valores faltantes"
      ],
      "metadata": {
        "id": "sUigT-mqqeym"
      }
    },
    {
      "cell_type": "code",
      "source": [
        "metadata_sitios1.isnull().sum()"
      ],
      "metadata": {
        "colab": {
          "base_uri": "https://localhost:8080/"
        },
        "id": "Qh6vhwVWqPzU",
        "outputId": "1f69ad9e-51ff-4218-c49a-cc05d6026556"
      },
      "execution_count": null,
      "outputs": [
        {
          "output_type": "execute_result",
          "data": {
            "text/plain": [
              "name                     7\n",
              "address              10062\n",
              "gmap_id                  0\n",
              "description         261846\n",
              "latitude                 0\n",
              "longitude                0\n",
              "category              2261\n",
              "avg_rating               0\n",
              "num_of_reviews           0\n",
              "price               261551\n",
              "hours                82553\n",
              "MISC                 80029\n",
              "state                79478\n",
              "relative_results     36230\n",
              "url                      0\n",
              "dtype: int64"
            ]
          },
          "metadata": {},
          "execution_count": 22
        }
      ]
    },
    {
      "cell_type": "code",
      "source": [
        "plt.figure(figsize= (25,12))\n",
        "sns.heatmap(metadata_sitios1.isnull())\n",
        "plt.show()"
      ],
      "metadata": {
        "colab": {
          "base_uri": "https://localhost:8080/",
          "height": 680
        },
        "id": "Jve0spynTy5Y",
        "outputId": "aed58794-73c5-4bf0-f434-3c6541b2f5d0"
      },
      "execution_count": null,
      "outputs": [
        {
          "output_type": "display_data",
          "data": {
            "text/plain": [
              "<Figure size 1800x864 with 2 Axes>"
            ],
            "image/png": "[encoded data removed]"
          },
          "metadata": {
            "needs_background": "light"
          }
        }
      ]
    },
    {
      "cell_type": "markdown",
      "source": [
        "## Valores atípicos"
      ],
      "metadata": {
        "id": "_10GFDSmuNyG"
      }
    },
    {
      "cell_type": "markdown",
      "source": [
        "###Valores atípicos de la columna 'avg_rating'"
      ],
      "metadata": {
        "id": "gdb-NwFFufb8"
      }
    },
    {
      "cell_type": "code",
      "source": [
        "''' hago un boxplot con los años de la columna avg_rating '''\n",
        "sns.boxplot(x='avg_rating', data = metadata_sitios1)\n",
        "plt.show()"
      ],
      "metadata": {
        "colab": {
          "base_uri": "https://localhost:8080/",
          "height": 280
        },
        "id": "7Sqs7BY7uGuc",
        "outputId": "2cc98c61-1297-4333-9f03-ceb53292f4e6"
      },
      "execution_count": null,
      "outputs": [
        {
          "output_type": "display_data",
          "data": {
            "text/plain": [
              "<Figure size 432x288 with 1 Axes>"
            ],
            "image/png": "[encoded data removed]"
          },
          "metadata": {
            "needs_background": "light"
          }
        }
      ]
    },
    {
      "cell_type": "code",
      "source": [
        "metadata_sitios1.avg_rating.min()"
      ],
      "metadata": {
        "colab": {
          "base_uri": "https://localhost:8080/"
        },
        "id": "UeYF673cvX-D",
        "outputId": "a242a68c-c7a7-4e1f-8779-336d02b1ec6d"
      },
      "execution_count": null,
      "outputs": [
        {
          "output_type": "execute_result",
          "data": {
            "text/plain": [
              "1.0"
            ]
          },
          "metadata": {},
          "execution_count": 25
        }
      ]
    },
    {
      "cell_type": "code",
      "source": [
        "metadata_sitios1.avg_rating.max()"
      ],
      "metadata": {
        "colab": {
          "base_uri": "https://localhost:8080/"
        },
        "id": "mmgrQQC7vn7D",
        "outputId": "4c27fb49-1b23-46f8-c65c-4cdc085e9916"
      },
      "execution_count": null,
      "outputs": [
        {
          "output_type": "execute_result",
          "data": {
            "text/plain": [
              "5.0"
            ]
          },
          "metadata": {},
          "execution_count": 26
        }
      ]
    },
    {
      "cell_type": "markdown",
      "source": [
        "###Valores atípicos de la columna 'num_of_reviews'"
      ],
      "metadata": {
        "id": "51EEdyvruxXK"
      }
    },
    {
      "cell_type": "code",
      "source": [
        "''' hago un boxplot con los años de la columna num_of_reviews '''\n",
        "fig = plt.figure(figsize=(10, 6))\n",
        "sns.boxplot(x='num_of_reviews', data = metadata_sitios1)\n",
        "plt.xlim((0, 50))\n",
        "plt.show()"
      ],
      "metadata": {
        "colab": {
          "base_uri": "https://localhost:8080/",
          "height": 389
        },
        "id": "Gfjy7y6_u3NF",
        "outputId": "b11030cd-73ce-4b8a-cd07-febf7a8e4dca"
      },
      "execution_count": null,
      "outputs": [
        {
          "output_type": "display_data",
          "data": {
            "text/plain": [
              "<Figure size 720x432 with 1 Axes>"
            ],
            "image/png": "[encoded data removed]"
          },
          "metadata": {
            "needs_background": "light"
          }
        }
      ]
    },
    {
      "cell_type": "code",
      "source": [
        "''' menor cantidad de reviews por local '''\n",
        "metadata_sitios1.num_of_reviews.min()"
      ],
      "metadata": {
        "colab": {
          "base_uri": "https://localhost:8080/"
        },
        "id": "8EAio6QEwJP5",
        "outputId": "17d77726-7578-497f-a0f6-d99071707b7e"
      },
      "execution_count": null,
      "outputs": [
        {
          "output_type": "execute_result",
          "data": {
            "text/plain": [
              "1"
            ]
          },
          "metadata": {},
          "execution_count": 28
        }
      ]
    },
    {
      "cell_type": "code",
      "source": [
        "''' mayor cantidad de reviews por local '''\n",
        "metadata_sitios1.num_of_reviews.max()"
      ],
      "metadata": {
        "colab": {
          "base_uri": "https://localhost:8080/"
        },
        "id": "uEgsa-aPwJtp",
        "outputId": "def0884d-1258-4795-9a45-459a4758849b"
      },
      "execution_count": null,
      "outputs": [
        {
          "output_type": "execute_result",
          "data": {
            "text/plain": [
              "2114"
            ]
          },
          "metadata": {},
          "execution_count": 29
        }
      ]
    },
    {
      "cell_type": "markdown",
      "source": [
        "## Valores duplicados"
      ],
      "metadata": {
        "id": "oqQW1-Xq_YpY"
      }
    },
    {
      "cell_type": "code",
      "source": [
        "''' eliminamos columnas que contienen listas anidadas '''\n",
        "metadata_sitios1.drop(columns= ['category','MISC', 'description', 'price', 'state', 'hours','relative_results', 'url'], inplace=True)"
      ],
      "metadata": {
        "id": "jjc1G1Sj_RS9"
      },
      "execution_count": null,
      "outputs": []
    },
    {
      "cell_type": "code",
      "source": [
        "metadata_sitios1"
      ],
      "metadata": {
        "colab": {
          "base_uri": "https://localhost:8080/",
          "height": 641
        },
        "id": "-W20qxelAqVV",
        "outputId": "de1294af-c059-4a44-9fac-10634f1fbe2f"
      },
      "execution_count": null,
      "outputs": [
        {
          "output_type": "execute_result",
          "data": {
            "text/plain": [
              "                                   name  \\\n",
              "0                       Porter Pharmacy   \n",
              "1                          City Textile   \n",
              "2                          San Soo Dang   \n",
              "3                          Nova Fabrics   \n",
              "4                      Nobel Textile Co   \n",
              "...                                 ...   \n",
              "274996                     Maven Realty   \n",
              "274997               Stone Castle Fence   \n",
              "274998  Health Insurance Solutions Team   \n",
              "274999          Bernard Building Center   \n",
              "275000    HMR Motor Works and Auto Care   \n",
              "\n",
              "                                                  address  \\\n",
              "0       Porter Pharmacy, 129 N Second St, Cochran, GA ...   \n",
              "1       City Textile, 3001 E Pico Blvd, Los Angeles, C...   \n",
              "2       San Soo Dang, 761 S Vermont Ave, Los Angeles, ...   \n",
              "3       Nova Fabrics, 2200 E 11th St, Los Angeles, CA ...   \n",
              "4       Nobel Textile Co, 719 E 9th St, Los Angeles, C...   \n",
              "...                                                   ...   \n",
              "274996  Maven Realty, 2180 McMillan Ave #71672, North ...   \n",
              "274997  Stone Castle Fence, 124 Cypress Gardens Rd, Mo...   \n",
              "274998  Health Insurance Solutions Team, 6650 Rivers A...   \n",
              "274999  Bernard Building Center, 27300 M-32, M-32, Hil...   \n",
              "275000       HMR Motor Works and Auto Care, Mio, MI 48647   \n",
              "\n",
              "                                      gmap_id   latitude   longitude  \\\n",
              "0       0x88f16e41928ff687:0x883dad4fd048e8f8  32.388300  -83.357100   \n",
              "1       0x80c2c98c0e3c16fd:0x29ec8a728764fdf9  34.018891 -118.215290   \n",
              "2       0x80c2c778e3b73d33:0xbdc58662a4a97d49  34.058092 -118.292130   \n",
              "3        0x80c2c89923b27a41:0x32041559418d447  34.023669 -118.232930   \n",
              "4       0x80c2c632f933b073:0xc31785961fe826a6  34.036694 -118.249421   \n",
              "...                                       ...        ...         ...   \n",
              "274996  0x88fe64e7daceaaab:0x101c046dcadcc9c3  32.857737  -79.985839   \n",
              "274997  0x88fe59f4602c95fd:0x57e2b1904d9e6949  33.089951  -80.078021   \n",
              "274998  0x88fe71f9617c15e1:0x89518c1d251706bf  32.918858  -80.027952   \n",
              "274999  0x4d34c7517d6e6e29:0x7fe553ee2f090cf0  45.056691  -83.894423   \n",
              "275000  0x88208f4360c053ab:0xe3d6883f19601a01  44.649195  -84.130324   \n",
              "\n",
              "        avg_rating  num_of_reviews  \n",
              "0              4.9              16  \n",
              "1              4.5               6  \n",
              "2              4.4              18  \n",
              "3              3.3               6  \n",
              "4              4.3               7  \n",
              "...            ...             ...  \n",
              "274996         4.9              15  \n",
              "274997         4.0              18  \n",
              "274998         5.0              18  \n",
              "274999         4.7              25  \n",
              "275000         4.4              13  \n",
              "\n",
              "[275001 rows x 7 columns]"
            ],
            "text/html": [
              "\n",
              "  <div id=\"df-1240dc3d-4898-4377-8bcc-1ed425bc0203\">\n",
              "    <div class=\"colab-df-container\">\n",
              "      <div>\n",
              "<style scoped>\n",
              "    .dataframe tbody tr th:only-of-type {\n",
              "        vertical-align: middle;\n",
              "    }\n",
              "\n",
              "    .dataframe tbody tr th {\n",
              "        vertical-align: top;\n",
              "    }\n",
              "\n",
              "    .dataframe thead th {\n",
              "        text-align: right;\n",
              "    }\n",
              "</style>\n",
              "<table border=\"1\" class=\"dataframe\">\n",
              "  <thead>\n",
              "    <tr style=\"text-align: right;\">\n",
              "      <th></th>\n",
              "      <th>name</th>\n",
              "      <th>address</th>\n",
              "      <th>gmap_id</th>\n",
              "      <th>latitude</th>\n",
              "      <th>longitude</th>\n",
              "      <th>avg_rating</th>\n",
              "      <th>num_of_reviews</th>\n",
              "    </tr>\n",
              "  </thead>\n",
              "  <tbody>\n",
              "    <tr>\n",
              "      <th>0</th>\n",
              "      <td>Porter Pharmacy</td>\n",
              "      <td>Porter Pharmacy, 129 N Second St, Cochran, GA ...</td>\n",
              "      <td>0x88f16e41928ff687:0x883dad4fd048e8f8</td>\n",
              "      <td>32.388300</td>\n",
              "      <td>-83.357100</td>\n",
              "      <td>4.9</td>\n",
              "      <td>16</td>\n",
              "    </tr>\n",
              "    <tr>\n",
              "      <th>1</th>\n",
              "      <td>City Textile</td>\n",
              "      <td>City Textile, 3001 E Pico Blvd, Los Angeles, C...</td>\n",
              "      <td>0x80c2c98c0e3c16fd:0x29ec8a728764fdf9</td>\n",
              "      <td>34.018891</td>\n",
              "      <td>-118.215290</td>\n",
              "      <td>4.5</td>\n",
              "      <td>6</td>\n",
              "    </tr>\n",
              "    <tr>\n",
              "      <th>2</th>\n",
              "      <td>San Soo Dang</td>\n",
              "      <td>San Soo Dang, 761 S Vermont Ave, Los Angeles, ...</td>\n",
              "      <td>0x80c2c778e3b73d33:0xbdc58662a4a97d49</td>\n",
              "      <td>34.058092</td>\n",
              "      <td>-118.292130</td>\n",
              "      <td>4.4</td>\n",
              "      <td>18</td>\n",
              "    </tr>\n",
              "    <tr>\n",
              "      <th>3</th>\n",
              "      <td>Nova Fabrics</td>\n",
              "      <td>Nova Fabrics, 2200 E 11th St, Los Angeles, CA ...</td>\n",
              "      <td>0x80c2c89923b27a41:0x32041559418d447</td>\n",
              "      <td>34.023669</td>\n",
              "      <td>-118.232930</td>\n",
              "      <td>3.3</td>\n",
              "      <td>6</td>\n",
              "    </tr>\n",
              "    <tr>\n",
              "      <th>4</th>\n",
              "      <td>Nobel Textile Co</td>\n",
              "      <td>Nobel Textile Co, 719 E 9th St, Los Angeles, C...</td>\n",
              "      <td>0x80c2c632f933b073:0xc31785961fe826a6</td>\n",
              "      <td>34.036694</td>\n",
              "      <td>-118.249421</td>\n",
              "      <td>4.3</td>\n",
              "      <td>7</td>\n",
              "    </tr>\n",
              "    <tr>\n",
              "      <th>...</th>\n",
              "      <td>...</td>\n",
              "      <td>...</td>\n",
              "      <td>...</td>\n",
              "      <td>...</td>\n",
              "      <td>...</td>\n",
              "      <td>...</td>\n",
              "      <td>...</td>\n",
              "    </tr>\n",
              "    <tr>\n",
              "      <th>274996</th>\n",
              "      <td>Maven Realty</td>\n",
              "      <td>Maven Realty, 2180 McMillan Ave #71672, North ...</td>\n",
              "      <td>0x88fe64e7daceaaab:0x101c046dcadcc9c3</td>\n",
              "      <td>32.857737</td>\n",
              "      <td>-79.985839</td>\n",
              "      <td>4.9</td>\n",
              "      <td>15</td>\n",
              "    </tr>\n",
              "    <tr>\n",
              "      <th>274997</th>\n",
              "      <td>Stone Castle Fence</td>\n",
              "      <td>Stone Castle Fence, 124 Cypress Gardens Rd, Mo...</td>\n",
              "      <td>0x88fe59f4602c95fd:0x57e2b1904d9e6949</td>\n",
              "      <td>33.089951</td>\n",
              "      <td>-80.078021</td>\n",
              "      <td>4.0</td>\n",
              "      <td>18</td>\n",
              "    </tr>\n",
              "    <tr>\n",
              "      <th>274998</th>\n",
              "      <td>Health Insurance Solutions Team</td>\n",
              "      <td>Health Insurance Solutions Team, 6650 Rivers A...</td>\n",
              "      <td>0x88fe71f9617c15e1:0x89518c1d251706bf</td>\n",
              "      <td>32.918858</td>\n",
              "      <td>-80.027952</td>\n",
              "      <td>5.0</td>\n",
              "      <td>18</td>\n",
              "    </tr>\n",
              "    <tr>\n",
              "      <th>274999</th>\n",
              "      <td>Bernard Building Center</td>\n",
              "      <td>Bernard Building Center, 27300 M-32, M-32, Hil...</td>\n",
              "      <td>0x4d34c7517d6e6e29:0x7fe553ee2f090cf0</td>\n",
              "      <td>45.056691</td>\n",
              "      <td>-83.894423</td>\n",
              "      <td>4.7</td>\n",
              "      <td>25</td>\n",
              "    </tr>\n",
              "    <tr>\n",
              "      <th>275000</th>\n",
              "      <td>HMR Motor Works and Auto Care</td>\n",
              "      <td>HMR Motor Works and Auto Care, Mio, MI 48647</td>\n",
              "      <td>0x88208f4360c053ab:0xe3d6883f19601a01</td>\n",
              "      <td>44.649195</td>\n",
              "      <td>-84.130324</td>\n",
              "      <td>4.4</td>\n",
              "      <td>13</td>\n",
              "    </tr>\n",
              "  </tbody>\n",
              "</table>\n",
              "<p>275001 rows × 7 columns</p>\n",
              "</div>\n",
              "      <button class=\"colab-df-convert\" onclick=\"convertToInteractive('df-1240dc3d-4898-4377-8bcc-1ed425bc0203')\"\n",
              "              title=\"Convert this dataframe to an interactive table.\"\n",
              "              style=\"display:none;\">\n",
              "        \n",
              "  <svg xmlns=\"http://www.w3.org/2000/svg\" height=\"24px\"viewBox=\"0 0 24 24\"\n",
              "       width=\"24px\">\n",
              "    <path d=\"M0 0h24v24H0V0z\" fill=\"none\"/>\n",
              "    <path d=\"M18.56 5.44l.94 2.06.94-2.06 2.06-.94-2.06-.94-.94-2.06-.94 2.06-2.06.94zm-11 1L8.5 8.5l.94-2.06 2.06-.94-2.06-.94L8.5 2.5l-.94 2.06-2.06.94zm10 10l.94 2.06.94-2.06 2.06-.94-2.06-.94-.94-2.06-.94 2.06-2.06.94z\"/><path d=\"M17.41 7.96l-1.37-1.37c-.4-.4-.92-.59-1.43-.59-.52 0-1.04.2-1.43.59L10.3 9.45l-7.72 7.72c-.78.78-.78 2.05 0 2.83L4 21.41c.39.39.9.59 1.41.59.51 0 1.02-.2 1.41-.59l7.78-7.78 2.81-2.81c.8-.78.8-2.07 0-2.86zM5.41 20L4 18.59l7.72-7.72 1.47 1.35L5.41 20z\"/>\n",
              "  </svg>\n",
              "      </button>\n",
              "      \n",
              "  <style>\n",
              "    .colab-df-container {\n",
              "      display:flex;\n",
              "      flex-wrap:wrap;\n",
              "      gap: 12px;\n",
              "    }\n",
              "\n",
              "    .colab-df-convert {\n",
              "      background-color: #E8F0FE;\n",
              "      border: none;\n",
              "      border-radius: 50%;\n",
              "      cursor: pointer;\n",
              "      display: none;\n",
              "      fill: #1967D2;\n",
              "      height: 32px;\n",
              "      padding: 0 0 0 0;\n",
              "      width: 32px;\n",
              "    }\n",
              "\n",
              "    .colab-df-convert:hover {\n",
              "      background-color: #E2EBFA;\n",
              "      box-shadow: 0px 1px 2px rgba(60, 64, 67, 0.3), 0px 1px 3px 1px rgba(60, 64, 67, 0.15);\n",
              "      fill: #174EA6;\n",
              "    }\n",
              "\n",
              "    [theme=dark] .colab-df-convert {\n",
              "      background-color: #3B4455;\n",
              "      fill: #D2E3FC;\n",
              "    }\n",
              "\n",
              "    [theme=dark] .colab-df-convert:hover {\n",
              "      background-color: #434B5C;\n",
              "      box-shadow: 0px 1px 3px 1px rgba(0, 0, 0, 0.15);\n",
              "      filter: drop-shadow(0px 1px 2px rgba(0, 0, 0, 0.3));\n",
              "      fill: #FFFFFF;\n",
              "    }\n",
              "  </style>\n",
              "\n",
              "      <script>\n",
              "        const buttonEl =\n",
              "          document.querySelector('#df-1240dc3d-4898-4377-8bcc-1ed425bc0203 button.colab-df-convert');\n",
              "        buttonEl.style.display =\n",
              "          google.colab.kernel.accessAllowed ? 'block' : 'none';\n",
              "\n",
              "        async function convertToInteractive(key) {\n",
              "          const element = document.querySelector('#df-1240dc3d-4898-4377-8bcc-1ed425bc0203');\n",
              "          const dataTable =\n",
              "            await google.colab.kernel.invokeFunction('convertToInteractive',\n",
              "                                                     [key], {});\n",
              "          if (!dataTable) return;\n",
              "\n",
              "          const docLinkHtml = 'Like what you see? Visit the ' +\n",
              "            '<a target=\"_blank\" href=https://colab.research.google.com/notebooks/data_table.ipynb>data table notebook</a>'\n",
              "            + ' to learn more about interactive tables.';\n",
              "          element.innerHTML = '';\n",
              "          dataTable['output_type'] = 'display_data';\n",
              "          await google.colab.output.renderOutput(dataTable, element);\n",
              "          const docLink = document.createElement('div');\n",
              "          docLink.innerHTML = docLinkHtml;\n",
              "          element.appendChild(docLink);\n",
              "        }\n",
              "      </script>\n",
              "    </div>\n",
              "  </div>\n",
              "  "
            ]
          },
          "metadata": {},
          "execution_count": 31
        }
      ]
    },
    {
      "cell_type": "code",
      "source": [
        "metadata_sitios1.duplicated()"
      ],
      "metadata": {
        "colab": {
          "base_uri": "https://localhost:8080/"
        },
        "id": "PmALMhvXBMgN",
        "outputId": "adec225c-3d6a-46da-9417-fb7f7208953c"
      },
      "execution_count": null,
      "outputs": [
        {
          "output_type": "execute_result",
          "data": {
            "text/plain": [
              "0         False\n",
              "1         False\n",
              "2         False\n",
              "3         False\n",
              "4         False\n",
              "          ...  \n",
              "274996    False\n",
              "274997    False\n",
              "274998    False\n",
              "274999    False\n",
              "275000    False\n",
              "Length: 275001, dtype: bool"
            ]
          },
          "metadata": {},
          "execution_count": 32
        }
      ]
    },
    {
      "cell_type": "code",
      "source": [
        "metadata_sitios1.duplicated().sum()"
      ],
      "metadata": {
        "colab": {
          "base_uri": "https://localhost:8080/"
        },
        "id": "lwQzQTfEAykd",
        "outputId": "e6ef5d79-a7c2-42b4-caa2-14223f1d4592"
      },
      "execution_count": null,
      "outputs": [
        {
          "output_type": "execute_result",
          "data": {
            "text/plain": [
              "26573"
            ]
          },
          "metadata": {},
          "execution_count": 33
        }
      ]
    },
    {
      "cell_type": "markdown",
      "source": [
        "A partir del análisis de calidad de datos en los datasets 'sitios' de Google Maps, concluímos en que los datos relevantes a conservar son los pertenecientes a las columnas 'gmap_id', 'name', 'avg_rating', 'latitude', 'longitude', 'num_of_reviews'y 'category'.\n",
        "\n",
        "Hemos decidido descartar las siguientes columnas:\n",
        "\n",
        "*  'description' y 'price': Las mismas poseen un porcentaje de valores faltantes muy alto y la información que contienen no es relevante en el proyecto.\n",
        "*   'MISC', 'hours', 'state', 'relative_results': Contienen información irrelevante y/o repetida.\n",
        "*   'address' y 'url': Contienen información relevante pero ya disponible en las columnas latitude y longitude.\n",
        "\n",
        "Transformaciones necesarias:\n",
        "\n",
        "*   La columna 'name' deberá llamarse 'local_name'.\n",
        "*   Los valores de la columna 'category' deberán ser transformados a formato str.\n",
        "*   Se eliminarán los datos duplicados de todas las tablas.\n",
        "*   El orden y los nombres de las columnas se dispondrán de la siguiente manera: 'gmap_id', 'latitude', 'longitude', 'local_name','category' 'avg_rating', 'num_of_reviews'.\n"
      ],
      "metadata": {
        "id": "7iveKhvoRXUW"
      }
    },
    {
      "cell_type": "markdown",
      "source": [
        "# **EDA Preliminar datasets de YELP**"
      ],
      "metadata": {
        "id": "ArbJGv9aw6pl"
      }
    },
    {
      "cell_type": "code",
      "source": [
        "from google.colab import auth\n",
        "\n",
        "auth.authenticate_user()"
      ],
      "metadata": {
        "id": "YTYVWWq9_OgL"
      },
      "execution_count": null,
      "outputs": []
    },
    {
      "cell_type": "code",
      "source": [
        "!curl https://sdk.cloud.google.com | bash"
      ],
      "metadata": {
        "id": "6BRkErb2_i2k"
      },
      "execution_count": null,
      "outputs": []
    },
    {
      "cell_type": "code",
      "source": [
        "!gcloud init"
      ],
      "metadata": {
        "id": "0TdihTQN_mA6"
      },
      "execution_count": null,
      "outputs": []
    },
    {
      "cell_type": "code",
      "source": [
        "!gsutil cp gs://datasets-pg/Yelp/review.json"
      ],
      "metadata": {
        "id": "hordD4ZF_yRK"
      },
      "execution_count": null,
      "outputs": []
    }
  ],
  "metadata": {
    "kernelspec": {
      "display_name": "Python 3",
      "language": "python",
      "name": "python3"
    },
    "language_info": {
      "codemirror_mode": {
        "name": "ipython",
        "version": 3
      },
      "file_extension": ".py",
      "mimetype": "text/x-python",
      "name": "python",
      "nbconvert_exporter": "python",
      "pygments_lexer": "ipython3",
      "version": "3.10.9"
    },
    "orig_nbformat": 4,
    "vscode": {
      "interpreter": {
        "hash": "3196968d684371006099b3d55edeef8ed90365227a30deaef86e5d4aa8519be0"
      }
    },
    "colab": {
      "provenance": []
    }
  },
  "nbformat": 4,
  "nbformat_minor": 0
}